{
 "cells": [
  {
   "cell_type": "code",
   "execution_count": 1,
   "metadata": {},
   "outputs": [
    {
     "name": "stdout",
     "output_type": "stream",
     "text": [
      "Using matplotlib backend: TkAgg\n",
      "Populating the interactive namespace from numpy and matplotlib\n"
     ]
    }
   ],
   "source": [
    "%pylab"
   ]
  },
  {
   "cell_type": "code",
   "execution_count": 2,
   "metadata": {},
   "outputs": [],
   "source": [
    "import os"
   ]
  },
  {
   "cell_type": "code",
   "execution_count": 3,
   "metadata": {},
   "outputs": [],
   "source": [
    "import h5py"
   ]
  },
  {
   "cell_type": "code",
   "execution_count": 4,
   "metadata": {},
   "outputs": [],
   "source": [
    "import pandas as pd\n",
    "import seaborn as sns"
   ]
  },
  {
   "cell_type": "code",
   "execution_count": 5,
   "metadata": {},
   "outputs": [],
   "source": [
    "import glob\n"
   ]
  },
  {
   "cell_type": "code",
   "execution_count": 6,
   "metadata": {},
   "outputs": [
    {
     "name": "stdout",
     "output_type": "stream",
     "text": [
      "[0, 1, 2, 3, 4, 5, 6, 7, 8, 9, 10, 11, 12, 13, 14, 15, 16, 17, 18, 19, 20, 21, 22, 23, 24, 25, 26, 27, 28, 29, 30, 31, 32, 33, 34, 35, 36, 37, 38, 39, 40, 41, 42, 43, 44, 45, 46, 47, 48, 49, 50, 51, 52, 53, 54, 55, 56, 57, 58, 59, 60, 61, 62, 63, 64, 65, 66, 67, 68, 69, 70, 71, 72, 73, 74, 75, 76, 77, 78, 79, 80, 81, 82, 83, 84, 85, 86, 87, 88, 89, 90, 91, 92, 93, 94, 95, 96, 97, 98, 99]\n"
     ]
    }
   ],
   "source": [
    "nums=[]\n",
    "for i in glob.glob('Quench_*photons.asc'):\n",
    "    nums.append(int(i.split('TP')[1].split('_')[0]))\n",
    "\n",
    "nums.sort()\n",
    "print nums"
   ]
  },
  {
   "cell_type": "code",
   "execution_count": 10,
   "metadata": {},
   "outputs": [],
   "source": [
    "nums=[]\n",
    "for i in glob.glob('Quench_*photons.asc'):\n",
    "    \n",
    "    data=np.loadtxt(i)\n",
    "    data=data.mean()\n",
    "    nums.append((int(i.split('TP')[1].split('_')[0]),data))\n",
    "    \n",
    "#nums.sort()\n",
    "\n",
    "\n",
    "for i,j in nums:\n",
    "    plot(i,j,'or')\n",
    "    \n",
    "nums=[]\n",
    "for i in glob.glob('Quench2_*photons.asc'):\n",
    "    \n",
    "    data=np.loadtxt(i)\n",
    "    data=data.mean()\n",
    "    nums.append((int(i.split('TP')[1].split('_')[0]),data))\n",
    "    \n",
    "#nums.sort()\n",
    "\n",
    "for i,j in nums:\n",
    "    plot(i,j,'og')"
   ]
  },
  {
   "cell_type": "code",
   "execution_count": 11,
   "metadata": {},
   "outputs": [
    {
     "data": {
      "text/plain": [
       "Text(0.5,1,u'red-overnight/fresh, green-after 10hours')"
      ]
     },
     "execution_count": 11,
     "metadata": {},
     "output_type": "execute_result"
    }
   ],
   "source": [
    "xlabel('1u=5min')\n",
    "title('red-overnight/fresh, green-after 10hours')"
   ]
  },
  {
   "cell_type": "code",
   "execution_count": 8,
   "metadata": {},
   "outputs": [],
   "source": [
    "nums=[]\n",
    "for i in glob.glob('Quench_*value.asc'):\n",
    "    \n",
    "    data=np.loadtxt(i)\n",
    "    data=data.mean()\n",
    "    data=data/1000.0\n",
    "    nums.append((int(i.split('TP')[1].split('_')[0]),data))    \n",
    "#nums.sort()\n",
    "for i,j in nums:\n",
    "    plot(i,j,'or')\n",
    "\n",
    "nums=[]\n",
    "for i in glob.glob('Quench2_*value.asc'):\n",
    "    \n",
    "    data=np.loadtxt(i)\n",
    "    data=data.mean()\n",
    "    data=data/1000.0\n",
    "    nums.append((int(i.split('TP')[1].split('_')[0]),data))\n",
    "    \n",
    "#nums.sort()\n",
    "\n",
    "for i,j in nums:\n",
    "    plot(i,j,'og')"
   ]
  },
  {
   "cell_type": "code",
   "execution_count": 9,
   "metadata": {},
   "outputs": [
    {
     "data": {
      "text/plain": [
       "Text(0.5,1,u'red-overnight/fresh, green-after 10hours,')"
      ]
     },
     "execution_count": 9,
     "metadata": {},
     "output_type": "execute_result"
    }
   ],
   "source": [
    "xlabel('1u=5min')\n",
    "ylabel('nano sec')\n",
    "title('red-overnight/fresh, green-after 10hours,')"
   ]
  },
  {
   "cell_type": "code",
   "execution_count": null,
   "metadata": {},
   "outputs": [],
   "source": []
  }
 ],
 "metadata": {
  "kernelspec": {
   "display_name": "Python 2",
   "language": "python",
   "name": "python2"
  },
  "language_info": {
   "codemirror_mode": {
    "name": "ipython",
    "version": 2
   },
   "file_extension": ".py",
   "mimetype": "text/x-python",
   "name": "python",
   "nbconvert_exporter": "python",
   "pygments_lexer": "ipython2",
   "version": "2.7.14"
  }
 },
 "nbformat": 4,
 "nbformat_minor": 2
}
