{
 "cells": [
  {
   "cell_type": "code",
   "execution_count": 1,
   "metadata": {},
   "outputs": [
    {
     "name": "stdout",
     "output_type": "stream",
     "text": [
      "WARNING:tensorflow:From <ipython-input-1-d0c881b57c49>:9: read_data_sets (from tensorflow.contrib.learn.python.learn.datasets.mnist) is deprecated and will be removed in a future version.\n",
      "Instructions for updating:\n",
      "Please use alternatives such as official/mnist/dataset.py from tensorflow/models.\n",
      "WARNING:tensorflow:From F:\\Users\\lociuser\\AppData\\Local\\Continuum\\anaconda3\\envs\\tensorflow\\lib\\site-packages\\tensorflow\\contrib\\learn\\python\\learn\\datasets\\mnist.py:260: maybe_download (from tensorflow.contrib.learn.python.learn.datasets.base) is deprecated and will be removed in a future version.\n",
      "Instructions for updating:\n",
      "Please write your own downloading logic.\n",
      "WARNING:tensorflow:From F:\\Users\\lociuser\\AppData\\Local\\Continuum\\anaconda3\\envs\\tensorflow\\lib\\site-packages\\tensorflow\\contrib\\learn\\python\\learn\\datasets\\mnist.py:262: extract_images (from tensorflow.contrib.learn.python.learn.datasets.mnist) is deprecated and will be removed in a future version.\n",
      "Instructions for updating:\n",
      "Please use tf.data to implement this functionality.\n",
      "Extracting /tmp/data/train-images-idx3-ubyte.gz\n",
      "WARNING:tensorflow:From F:\\Users\\lociuser\\AppData\\Local\\Continuum\\anaconda3\\envs\\tensorflow\\lib\\site-packages\\tensorflow\\contrib\\learn\\python\\learn\\datasets\\mnist.py:267: extract_labels (from tensorflow.contrib.learn.python.learn.datasets.mnist) is deprecated and will be removed in a future version.\n",
      "Instructions for updating:\n",
      "Please use tf.data to implement this functionality.\n",
      "Extracting /tmp/data/train-labels-idx1-ubyte.gz\n",
      "WARNING:tensorflow:From F:\\Users\\lociuser\\AppData\\Local\\Continuum\\anaconda3\\envs\\tensorflow\\lib\\site-packages\\tensorflow\\contrib\\learn\\python\\learn\\datasets\\mnist.py:110: dense_to_one_hot (from tensorflow.contrib.learn.python.learn.datasets.mnist) is deprecated and will be removed in a future version.\n",
      "Instructions for updating:\n",
      "Please use tf.one_hot on tensors.\n",
      "Extracting /tmp/data/t10k-images-idx3-ubyte.gz\n",
      "Extracting /tmp/data/t10k-labels-idx1-ubyte.gz\n",
      "WARNING:tensorflow:From F:\\Users\\lociuser\\AppData\\Local\\Continuum\\anaconda3\\envs\\tensorflow\\lib\\site-packages\\tensorflow\\contrib\\learn\\python\\learn\\datasets\\mnist.py:290: DataSet.__init__ (from tensorflow.contrib.learn.python.learn.datasets.mnist) is deprecated and will be removed in a future version.\n",
      "Instructions for updating:\n",
      "Please use alternatives such as official/mnist/dataset.py from tensorflow/models.\n"
     ]
    }
   ],
   "source": [
    "import tensorflow as tf\n",
    "\n",
    "\n",
    "\n",
    "# Import MINST data\n",
    "\n",
    "from tensorflow.examples.tutorials.mnist import input_data\n",
    "mnist = input_data.read_data_sets(\"/tmp/data/\", one_hot=True)"
   ]
  },
  {
   "cell_type": "code",
   "execution_count": 2,
   "metadata": {},
   "outputs": [],
   "source": [
    "# Parameters\n",
    "\n",
    "learning_rate = 0.01\n",
    "\n",
    "training_epochs = 25\n",
    "\n",
    "batch_size = 100\n",
    "\n",
    "display_step = 1\n",
    "\n",
    "\n",
    "\n",
    "# tf Graph Input\n",
    "\n",
    "x = tf.placeholder(tf.float32, [None, 784]) # mnist data image of shape 28*28=784\n",
    "\n",
    "y = tf.placeholder(tf.float32, [None, 10]) # 0-9 digits recognition => 10 classes\n",
    "\n",
    "\n",
    "\n",
    "# Set model weights\n",
    "\n",
    "W = tf.Variable(tf.zeros([784, 10]))\n",
    "\n",
    "b = tf.Variable(tf.zeros([10]))\n",
    "\n",
    "\n",
    "\n",
    "# Construct model\n",
    "\n",
    "pred = tf.nn.softmax(tf.matmul(x, W) + b) # Softmax\n",
    "\n",
    "\n",
    "\n",
    "# Minimize error using cross entropy\n",
    "\n",
    "cost = tf.reduce_mean(-tf.reduce_sum(y*tf.log(pred), reduction_indices=1))\n",
    "\n",
    "# Gradient Descent\n",
    "\n",
    "optimizer = tf.train.GradientDescentOptimizer(learning_rate).minimize(cost)\n",
    "\n",
    "\n",
    "\n",
    "# Initialize the variables (i.e. assign their default value)\n",
    "\n",
    "init = tf.global_variables_initializer()"
   ]
  },
  {
   "cell_type": "code",
   "execution_count": 4,
   "metadata": {},
   "outputs": [
    {
     "name": "stdout",
     "output_type": "stream",
     "text": [
      "Epoch: 0001 cost= 1.183266552\n",
      "Epoch: 0002 cost= 0.665189638\n",
      "Epoch: 0003 cost= 0.552867195\n",
      "Epoch: 0004 cost= 0.498742212\n",
      "Epoch: 0005 cost= 0.465559694\n",
      "Epoch: 0006 cost= 0.442577519\n",
      "Epoch: 0007 cost= 0.425578778\n",
      "Epoch: 0008 cost= 0.412174460\n",
      "Epoch: 0009 cost= 0.401453482\n",
      "Epoch: 0010 cost= 0.392462197\n",
      "Epoch: 0011 cost= 0.384772699\n",
      "Epoch: 0012 cost= 0.378217123\n",
      "Epoch: 0013 cost= 0.372425075\n",
      "Epoch: 0014 cost= 0.367327794\n",
      "Epoch: 0015 cost= 0.362746065\n",
      "Epoch: 0016 cost= 0.358629297\n",
      "Epoch: 0017 cost= 0.354922308\n",
      "Epoch: 0018 cost= 0.351456311\n",
      "Epoch: 0019 cost= 0.348339009\n",
      "Epoch: 0020 cost= 0.345419479\n",
      "Epoch: 0021 cost= 0.342791632\n",
      "Epoch: 0022 cost= 0.340273524\n",
      "Epoch: 0023 cost= 0.337899185\n",
      "Epoch: 0024 cost= 0.335758939\n",
      "Epoch: 0025 cost= 0.333719346\n",
      "Optimization Finished!\n",
      "Accuracy: 0.889\n"
     ]
    }
   ],
   "source": [
    "# Start training\n",
    "\n",
    "with tf.Session() as sess:\n",
    "\n",
    "    sess.run(init)\n",
    "\n",
    "\n",
    "\n",
    "    # Training cycle\n",
    "\n",
    "    for epoch in range(training_epochs):\n",
    "\n",
    "        avg_cost = 0.\n",
    "\n",
    "        total_batch = int(mnist.train.num_examples/batch_size)\n",
    "\n",
    "        # Loop over all batches\n",
    "\n",
    "        for i in range(total_batch):\n",
    "\n",
    "            batch_xs, batch_ys = mnist.train.next_batch(batch_size)\n",
    "\n",
    "            # Fit training using batch data\n",
    "\n",
    "            _, c = sess.run([optimizer, cost], feed_dict={x: batch_xs,\n",
    "\n",
    "                                                          y: batch_ys})\n",
    "\n",
    "            # Compute average loss\n",
    "\n",
    "            avg_cost += c / total_batch\n",
    "\n",
    "        # Display logs per epoch step\n",
    "\n",
    "        if (epoch+1) % display_step == 0:\n",
    "            print (\"Epoch:\", '%04d' % (epoch+1), \"cost=\", \"{:.9f}\".format(avg_cost))\n",
    "\n",
    "\n",
    "\n",
    "    print (\"Optimization Finished!\")\n",
    "\n",
    "\n",
    "\n",
    "    # Test model\n",
    "\n",
    "    correct_prediction = tf.equal(tf.argmax(pred, 1), tf.argmax(y, 1))\n",
    "\n",
    "    # Calculate accuracy for 3000 examples\n",
    "\n",
    "    accuracy = tf.reduce_mean(tf.cast(correct_prediction, tf.float32))\n",
    "\n",
    "    print (\"Accuracy:\", accuracy.eval({x: mnist.test.images[:3000], y: mnist.test.labels[:3000]}))"
   ]
  },
  {
   "cell_type": "code",
   "execution_count": 5,
   "metadata": {},
   "outputs": [
    {
     "data": {
      "text/plain": [
       "'C:\\\\Users\\\\lociuser'"
      ]
     },
     "execution_count": 5,
     "metadata": {},
     "output_type": "execute_result"
    }
   ],
   "source": [
    "import os\n",
    "os.getcwd()"
   ]
  },
  {
   "cell_type": "code",
   "execution_count": 6,
   "metadata": {},
   "outputs": [
    {
     "data": {
      "text/plain": [
       "'C:\\tmp\\\\data'"
      ]
     },
     "execution_count": 6,
     "metadata": {},
     "output_type": "execute_result"
    }
   ],
   "source": [
    "\"C:\\tmp\\data\""
   ]
  },
  {
   "cell_type": "code",
   "execution_count": 7,
   "metadata": {},
   "outputs": [],
   "source": [
    "# Parameters\n",
    "\n",
    "learning_rate = 0.1\n",
    "\n",
    "num_steps = 500\n",
    "\n",
    "batch_size = 128\n",
    "\n",
    "display_step = 100\n",
    "\n",
    "\n",
    "\n",
    "# Network Parameters\n",
    "\n",
    "n_hidden_1 = 256 # 1st layer number of neurons\n",
    "\n",
    "n_hidden_2 = 256 # 2nd layer number of neurons\n",
    "\n",
    "num_input = 784 # MNIST data input (img shape: 28*28)\n",
    "\n",
    "num_classes = 10 # MNIST total classes (0-9 digits)\n",
    "\n",
    "\n",
    "\n",
    "# tf Graph input\n",
    "\n",
    "X = tf.placeholder(\"float\", [None, num_input])\n",
    "\n",
    "Y = tf.placeholder(\"float\", [None, num_classes])"
   ]
  },
  {
   "cell_type": "code",
   "execution_count": 8,
   "metadata": {},
   "outputs": [],
   "source": [
    "# Store layers weight & bias\n",
    "\n",
    "weights = {\n",
    "\n",
    "    'h1': tf.Variable(tf.random_normal([num_input, n_hidden_1])),\n",
    "\n",
    "    'h2': tf.Variable(tf.random_normal([n_hidden_1, n_hidden_2])),\n",
    "\n",
    "    'out': tf.Variable(tf.random_normal([n_hidden_2, num_classes]))\n",
    "\n",
    "}\n",
    "\n",
    "biases = {\n",
    "\n",
    "    'b1': tf.Variable(tf.random_normal([n_hidden_1])),\n",
    "\n",
    "    'b2': tf.Variable(tf.random_normal([n_hidden_2])),\n",
    "\n",
    "    'out': tf.Variable(tf.random_normal([num_classes]))\n",
    "\n",
    "}"
   ]
  },
  {
   "cell_type": "code",
   "execution_count": 9,
   "metadata": {},
   "outputs": [],
   "source": [
    "# Create model\n",
    "\n",
    "def neural_net(x):\n",
    "\n",
    "    # Hidden fully connected layer with 256 neurons\n",
    "\n",
    "    layer_1 = tf.add(tf.matmul(x, weights['h1']), biases['b1'])\n",
    "\n",
    "    # Hidden fully connected layer with 256 neurons\n",
    "\n",
    "    layer_2 = tf.add(tf.matmul(layer_1, weights['h2']), biases['b2'])\n",
    "\n",
    "    # Output fully connected layer with a neuron for each class\n",
    "\n",
    "    out_layer = tf.matmul(layer_2, weights['out']) + biases['out']\n",
    "\n",
    "    return out_layer"
   ]
  },
  {
   "cell_type": "code",
   "execution_count": 10,
   "metadata": {},
   "outputs": [
    {
     "name": "stdout",
     "output_type": "stream",
     "text": [
      "WARNING:tensorflow:From <ipython-input-10-857cf30495a5>:11: softmax_cross_entropy_with_logits (from tensorflow.python.ops.nn_ops) is deprecated and will be removed in a future version.\n",
      "Instructions for updating:\n",
      "\n",
      "Future major versions of TensorFlow will allow gradients to flow\n",
      "into the labels input on backprop by default.\n",
      "\n",
      "See @{tf.nn.softmax_cross_entropy_with_logits_v2}.\n",
      "\n"
     ]
    }
   ],
   "source": [
    "# Construct model\n",
    "\n",
    "logits = neural_net(X)\n",
    "\n",
    "\n",
    "\n",
    "# Define loss and optimizer\n",
    "\n",
    "loss_op = tf.reduce_mean(tf.nn.softmax_cross_entropy_with_logits(\n",
    "\n",
    "    logits=logits, labels=Y))\n",
    "\n",
    "optimizer = tf.train.AdamOptimizer(learning_rate=learning_rate)\n",
    "\n",
    "train_op = optimizer.minimize(loss_op)\n",
    "\n",
    "\n",
    "\n",
    "# Evaluate model (with test logits, for dropout to be disabled)\n",
    "\n",
    "correct_pred = tf.equal(tf.argmax(logits, 1), tf.argmax(Y, 1))\n",
    "\n",
    "accuracy = tf.reduce_mean(tf.cast(correct_pred, tf.float32))\n",
    "\n",
    "\n",
    "\n",
    "# Initialize the variables (i.e. assign their default value)\n",
    "\n",
    "init = tf.global_variables_initializer()"
   ]
  },
  {
   "cell_type": "code",
   "execution_count": 11,
   "metadata": {},
   "outputs": [
    {
     "name": "stdout",
     "output_type": "stream",
     "text": [
      "Step 1, Minibatch Loss= 10878.7578, Training Accuracy= 0.352\n",
      "Step 100, Minibatch Loss= 435.2343, Training Accuracy= 0.828\n",
      "Step 200, Minibatch Loss= 111.1948, Training Accuracy= 0.914\n",
      "Step 300, Minibatch Loss= 73.1500, Training Accuracy= 0.891\n",
      "Step 400, Minibatch Loss= 69.1802, Training Accuracy= 0.875\n",
      "Step 500, Minibatch Loss= 47.2819, Training Accuracy= 0.867\n",
      "Optimization Finished!\n",
      "Testing Accuracy: 0.86\n"
     ]
    }
   ],
   "source": [
    "# Start training\n",
    "\n",
    "with tf.Session() as sess:\n",
    "\n",
    "\n",
    "\n",
    "    # Run the initializer\n",
    "\n",
    "    sess.run(init)\n",
    "\n",
    "\n",
    "\n",
    "    for step in range(1, num_steps+1):\n",
    "\n",
    "        batch_x, batch_y = mnist.train.next_batch(batch_size)\n",
    "\n",
    "        # Run optimization op (backprop)\n",
    "\n",
    "        sess.run(train_op, feed_dict={X: batch_x, Y: batch_y})\n",
    "\n",
    "        if step % display_step == 0 or step == 1:\n",
    "\n",
    "            # Calculate batch loss and accuracy\n",
    "\n",
    "            loss, acc = sess.run([loss_op, accuracy], feed_dict={X: batch_x,\n",
    "\n",
    "                                                                 Y: batch_y})\n",
    "\n",
    "            print(\"Step \" + str(step) + \", Minibatch Loss= \" + \\\n",
    "\n",
    "                  \"{:.4f}\".format(loss) + \", Training Accuracy= \" + \\\n",
    "\n",
    "                  \"{:.3f}\".format(acc))\n",
    "\n",
    "\n",
    "\n",
    "    print(\"Optimization Finished!\")\n",
    "\n",
    "\n",
    "\n",
    "    # Calculate accuracy for MNIST test images\n",
    "\n",
    "    print(\"Testing Accuracy:\", \\\n",
    "\n",
    "        sess.run(accuracy, feed_dict={X: mnist.test.images,\n",
    "\n",
    "                                      Y: mnist.test.labels}))"
   ]
  },
  {
   "cell_type": "code",
   "execution_count": 12,
   "metadata": {},
   "outputs": [
    {
     "data": {
      "text/plain": [
       "'C:\\\\Users\\\\lociuser'"
      ]
     },
     "execution_count": 12,
     "metadata": {},
     "output_type": "execute_result"
    }
   ],
   "source": [
    "os.getcwd()"
   ]
  },
  {
   "cell_type": "code",
   "execution_count": 17,
   "metadata": {},
   "outputs": [
    {
     "name": "stdout",
     "output_type": "stream",
     "text": [
      "Microsoft Windows [Version 10.0.17134.112]\r\n",
      "(c) 2018 Microsoft Corporation. All rights reserved.\r\n",
      "\r\n",
      "(tensorflow) C:\\Users\\lociuser>cd git_projects/TensorFlow-Examples/examples/\n",
      "\r\n",
      "(tensorflow) C:\\Users\\lociuser\\git_projects\\TensorFlow-Examples\\examples>dir\n",
      " Volume in drive C has no label.\r\n",
      " Volume Serial Number is FA07-DC19\r\n",
      "\r\n",
      " Directory of C:\\Users\\lociuser\\git_projects\\TensorFlow-Examples\\examples\r\n",
      "\r\n",
      "06/25/2018  04:28 AM    <DIR>          .\r\n",
      "06/25/2018  04:28 AM    <DIR>          ..\r\n",
      "06/25/2018  04:28 AM    <DIR>          1_Introduction\r\n",
      "06/25/2018  04:28 AM    <DIR>          2_BasicModels\r\n",
      "06/25/2018  04:28 AM    <DIR>          3_NeuralNetworks\r\n",
      "06/25/2018  04:28 AM    <DIR>          4_Utils\r\n",
      "06/25/2018  04:28 AM    <DIR>          5_DataManagement\r\n",
      "06/25/2018  04:28 AM    <DIR>          6_MultiGPU\r\n",
      "               0 File(s)              0 bytes\r\n",
      "               8 Dir(s)  222,388,588,544 bytes free\r\n",
      "\r\n",
      "(tensorflow) C:\\Users\\lociuser\\git_projects\\TensorFlow-Examples\\examples>"
     ]
    }
   ],
   "source": [
    "%%cmd\n",
    "cd git_projects/TensorFlow-Examples/examples/\n",
    "dir"
   ]
  },
  {
   "cell_type": "code",
   "execution_count": null,
   "metadata": {},
   "outputs": [],
   "source": []
  }
 ],
 "metadata": {
  "kernelspec": {
   "display_name": "Python 3",
   "language": "python",
   "name": "python3"
  },
  "language_info": {
   "codemirror_mode": {
    "name": "ipython",
    "version": 3
   },
   "file_extension": ".py",
   "mimetype": "text/x-python",
   "name": "python",
   "nbconvert_exporter": "python",
   "pygments_lexer": "ipython3",
   "version": "3.5.5"
  }
 },
 "nbformat": 4,
 "nbformat_minor": 2
}
