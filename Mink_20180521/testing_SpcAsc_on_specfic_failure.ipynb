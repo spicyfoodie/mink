{
 "cells": [
  {
   "cell_type": "code",
   "execution_count": 1,
   "metadata": {},
   "outputs": [],
   "source": [
    "import os\n",
    "os.chdir(r'D:\\JenuChacko\\20180511_\\FLIM_CALIBRATION\\mink_pyc')\n",
    "import spc_asc as sa\n",
    "import sdt_tools as sd\n",
    "import gui_tools as gt\n",
    "import seaborn as sns\n",
    "import pandas as pd\n",
    "import glob\n",
    "get_rep=sd.get_rep"
   ]
  },
  {
   "cell_type": "code",
   "execution_count": 2,
   "metadata": {},
   "outputs": [
    {
     "name": "stdout",
     "output_type": "stream",
     "text": [
      "Using matplotlib backend: TkAgg\n",
      "Populating the interactive namespace from numpy and matplotlib\n"
     ]
    }
   ],
   "source": [
    "%pylab\n"
   ]
  },
  {
   "cell_type": "code",
   "execution_count": 3,
   "metadata": {},
   "outputs": [
    {
     "name": "stderr",
     "output_type": "stream",
     "text": [
      "spc_asc.py:127: RuntimeWarning: invalid value encountered in divide\n",
      "  self.arr['a1w'] = self.arr['a1']*self.arr['t1']*100/((self.arr['a1'] * self.arr['t1'])+self.arr['a2'] * self.arr['t2'])\n",
      "spc_asc.py:128: RuntimeWarning: invalid value encountered in divide\n",
      "  self.arr['a2w'] = self.arr['a2']*self.arr['t2']*100/((self.arr['a1'] * self.arr['t1'])+self.arr['a2'] * self.arr['t2'])\n"
     ]
    },
    {
     "name": "stdout",
     "output_type": "stream",
     "text": [
      "126.910003662\n",
      "109.121444702\n"
     ]
    }
   ],
   "source": [
    "#figure()\n",
    "a1=sa.spc_ascii(r'D:\\JenuChacko\\20180514\\12well\\231\\231_well_D_photons.asc')\n",
    "#imshow(a1.arr.photons,cmap='hot')\n",
    "print a1.arr.photons.mean()\n",
    "#colorbar()\n",
    "\n",
    "#figure()\n",
    "a2=sa.spc_ascii(r'D:\\JenuChacko\\20180514\\12well\\231\\231_well_E_photons.asc')\n",
    "#imshow(a2.arr.photons,cmap='hot')\n",
    "print a2.arr.photons.mean()\n",
    "#colorbar()"
   ]
  },
  {
   "cell_type": "code",
   "execution_count": 4,
   "metadata": {},
   "outputs": [
    {
     "data": {
      "text/plain": [
       "<matplotlib.colorbar.Colorbar at 0x1f6225c0>"
      ]
     },
     "execution_count": 4,
     "metadata": {},
     "output_type": "execute_result"
    }
   ],
   "source": [
    "p=a1.arr.t2\n",
    "len(a1.arr.photons[p>p.mean()])\n",
    "a1_im=np.ma.masked_array(p,mask=p<p.mean())\n",
    "imshow(a1_im,cmap='hot')\n",
    "colorbar()"
   ]
  },
  {
   "cell_type": "code",
   "execution_count": 6,
   "metadata": {},
   "outputs": [],
   "source": [
    "hist(a1.arr.tm[a1.arr.photons>100],100);\n",
    "hist(a2.arr.tm[a2.arr.photons>100],100);\n",
    "#hist(a2.arr.t2[a2.arr.photons>a2.arr.photons.mean()],100);\n",
    "yscale('log')"
   ]
  },
  {
   "cell_type": "code",
   "execution_count": 4,
   "metadata": {},
   "outputs": [
    {
     "name": "stdout",
     "output_type": "stream",
     "text": [
      "mask=2,th=126.910003662,imask=20693,t2-20mask=2,t2-15kmask=65536\n",
      "D:\\JenuChacko\\20180514\\12well\\231\\231_well_D_photons.asc not enough points\n",
      "D:\\JenuChacko\\20180514\\12well\\231\\231_well_D_photons.asc -1\n"
     ]
    },
    {
     "data": {
      "text/html": [
       "<div>\n",
       "<style scoped>\n",
       "    .dataframe tbody tr th:only-of-type {\n",
       "        vertical-align: middle;\n",
       "    }\n",
       "\n",
       "    .dataframe tbody tr th {\n",
       "        vertical-align: top;\n",
       "    }\n",
       "\n",
       "    .dataframe thead th {\n",
       "        text-align: right;\n",
       "    }\n",
       "</style>\n",
       "<table border=\"1\" class=\"dataframe\">\n",
       "  <thead>\n",
       "    <tr style=\"text-align: right;\">\n",
       "      <th></th>\n",
       "      <th>Intensity</th>\n",
       "      <th>a1</th>\n",
       "      <th>a1p</th>\n",
       "      <th>a1w</th>\n",
       "      <th>a2</th>\n",
       "      <th>a2p</th>\n",
       "      <th>chi</th>\n",
       "      <th>fid</th>\n",
       "      <th>g</th>\n",
       "      <th>itm</th>\n",
       "      <th>mask_size</th>\n",
       "      <th>phase</th>\n",
       "      <th>s</th>\n",
       "      <th>t1</th>\n",
       "      <th>t2</th>\n",
       "      <th>tm</th>\n",
       "    </tr>\n",
       "  </thead>\n",
       "  <tbody>\n",
       "    <tr>\n",
       "      <th>0</th>\n",
       "      <td>0</td>\n",
       "      <td>0</td>\n",
       "      <td>0</td>\n",
       "      <td>0</td>\n",
       "      <td>0</td>\n",
       "      <td>0</td>\n",
       "      <td>0</td>\n",
       "      <td>D:\\JenuChacko\\20180514\\12well\\231\\231_well_D_p...</td>\n",
       "      <td>0</td>\n",
       "      <td>0</td>\n",
       "      <td>2</td>\n",
       "      <td>0</td>\n",
       "      <td>0</td>\n",
       "      <td>0</td>\n",
       "      <td>0</td>\n",
       "      <td>0</td>\n",
       "    </tr>\n",
       "  </tbody>\n",
       "</table>\n",
       "</div>"
      ],
      "text/plain": [
       "   Intensity  a1  a1p  a1w  a2  a2p  chi  \\\n",
       "0          0   0    0    0   0    0    0   \n",
       "\n",
       "                                                 fid  g  itm  mask_size  \\\n",
       "0  D:\\JenuChacko\\20180514\\12well\\231\\231_well_D_p...  0    0          2   \n",
       "\n",
       "   phase  s  t1  t2  tm  \n",
       "0      0  0   0   0   0  "
      ]
     },
     "execution_count": 4,
     "metadata": {},
     "output_type": "execute_result"
    }
   ],
   "source": [
    "a1=sa.spc_ascii(r'D:\\JenuChacko\\20180514\\12well\\231\\231_well_D_photons.asc')\n",
    "a1.generate_df()"
   ]
  },
  {
   "cell_type": "code",
   "execution_count": 5,
   "metadata": {},
   "outputs": [],
   "source": [
    "#a2.generate_df()"
   ]
  },
  {
   "cell_type": "code",
   "execution_count": null,
   "metadata": {},
   "outputs": [],
   "source": []
  }
 ],
 "metadata": {
  "kernelspec": {
   "display_name": "Python 2",
   "language": "python",
   "name": "python2"
  },
  "language_info": {
   "codemirror_mode": {
    "name": "ipython",
    "version": 2
   },
   "file_extension": ".py",
   "mimetype": "text/x-python",
   "name": "python",
   "nbconvert_exporter": "python",
   "pygments_lexer": "ipython2",
   "version": "2.7.14"
  }
 },
 "nbformat": 4,
 "nbformat_minor": 2
}
