{
 "cells": [
  {
   "cell_type": "code",
   "execution_count": 2,
   "metadata": {},
   "outputs": [
    {
     "name": "stdout",
     "output_type": "stream",
     "text": [
      "Using matplotlib backend: TkAgg\n",
      "Populating the interactive namespace from numpy and matplotlib\n"
     ]
    }
   ],
   "source": [
    "import os\n",
    "os.chdir(r'D:\\JenuChacko\\20180511_\\FLIM_CALIBRATION\\mink_pyc')\n",
    "import spc_asc as sa\n",
    "import sdt_tools as sd\n",
    "import gui_tools as gt\n",
    "import seaborn as sns\n",
    "import pandas as pd\n",
    "import glob\n",
    "get_rep=sd.get_rep\n",
    "%pylab"
   ]
  },
  {
   "cell_type": "code",
   "execution_count": 7,
   "metadata": {},
   "outputs": [
    {
     "name": "stdout",
     "output_type": "stream",
     "text": [
      "Fri May 11 18:16:09 2018\n",
      "\n",
      "BF_1: Sat May 12 20:39:30 2018 [1.1, 26.39, 1583.37, 95002.0]\n",
      "BF_2: Sun May 13 13:48:31 2018 [1.81, 43.54, 2612.37, 156742.0]\n",
      "BF_3: Tue May 15 12:43:59 2018 [3.77, 90.46, 5427.83, 325670.0]\n",
      "BF_4: Thu May 17 19:20:39 2018 [6.04, 145.07, 8704.5, 522270.0]\n",
      "BF_5: Sun May 20 23:06:43 2018 [9.2, 220.84, 13250.57, 795034.0]\n",
      "BF_6: Tue May 22 01:23:21 2018 [10.3, 247.12, 14827.2, 889632.0]\n",
      "\n",
      "FLIM1: Sun May 13 16:12:14 2018 [1.91, 45.93, 2756.08, 165365.0]\n",
      "FLIM2: Tue May 15 01:00:56 2018 [3.28, 78.75, 4724.78, 283487.0]\n",
      "FLIM3: Thu May 17 14:20:34 2018 [5.84, 140.07, 8404.42, 504265.0]\n",
      "FLIM4: Tue May 22 00:10:22 2018 [10.25, 245.9, 14754.22, 885253.0]\n"
     ]
    }
   ],
   "source": [
    "# PLATING TIME\n",
    "file1=r'D:\\JenuChacko\\20180511_\\BRIGHTFIELD\\10a_count\\10a_count_MMStack_Pos0.ome.tif'\n",
    "print(time.ctime(os.path.getmtime(file1)))\n",
    "plating_time=os.path.getmtime(file1)\n",
    "\n",
    "print \n",
    "\n",
    "file1=r'D:\\JenuChacko\\20180511_\\BRIGHTFIELD\\d24_10a_8well\\d24_10a_8well_MMStack_Pos0.ome.tif'\n",
    "brightfield_time1=os.path.getmtime(file1)\n",
    "print 'BF_1:',\n",
    "print(time.ctime(brightfield_time1)),print_realtime(brightfield_time1-plating_time,False)\n",
    "\n",
    "\n",
    "file1=r'D:\\JenuChacko\\20180511_\\BRIGHTFIELD\\d36_10A_8well\\d36_10a_8well_MMStack_Pos0.ome.tif'\n",
    "brightfield_time2=os.path.getmtime(file1)\n",
    "print 'BF_2:',\n",
    "print(time.ctime(brightfield_time2)),print_realtime(brightfield_time2-plating_time,False)\n",
    "\n",
    "file1=r'D:\\JenuChacko\\20180511_\\BRIGHTFIELD\\d96_10A_8well\\d96_10a-8_MMStack_Pos0.ome.tif'\n",
    "brightfield_time3=os.path.getmtime(file1)\n",
    "print 'BF_3:',\n",
    "print(time.ctime(brightfield_time3)),print_realtime(brightfield_time3-plating_time,False)\n",
    "\n",
    "\n",
    "\n",
    "file1=r'D:\\JenuChacko\\20180511_\\BRIGHTFIELD\\P2\\D170_10A_8well\\D170_10a_8_MMStack_Pos0.ome.tif'\n",
    "brightfield_time4=os.path.getmtime(file1)\n",
    "print 'BF_4:',\n",
    "print(time.ctime(brightfield_time4)),print_realtime(brightfield_time4-plating_time,False)\n",
    "\n",
    "\n",
    "file1=r'D:\\JenuChacko\\20180511_\\BRIGHTFIELD\\P2\\D240_10A_8well\\D_LAST-10-8_MMStack_Pos0.ome.tif'\n",
    "brightfield_time5=os.path.getmtime(file1)\n",
    "print 'BF_5:',\n",
    "print(time.ctime(brightfield_time5)),print_realtime(brightfield_time5-plating_time,False)\n",
    "\n",
    "\n",
    "file1=r'D:\\JenuChacko\\20180511_\\BRIGHTFIELD\\P2\\D-LL\\D240_10A-8WELL\\10A-8WELL_MMStack_Pos0.ome.tif'\n",
    "brightfield_time6=os.path.getmtime(file1)\n",
    "print 'BF_6:',\n",
    "print(time.ctime(brightfield_time6)),print_realtime(brightfield_time6-plating_time,False)\n",
    "\n",
    "\n",
    "\n",
    "\n",
    "print\n",
    "\n",
    "file1=r'D:\\JenuChacko\\20180513_conf\\CONF_8\\10A'\n",
    "flim1=get_sdt_creation(file1,printon=False)\n",
    "print 'FLIM1:',\n",
    "print time.ctime(flim1),print_realtime(flim1-plating_time,False)\n",
    "\n",
    "file1=r'D:\\JenuChacko\\20180514\\8_WELL\\10A'\n",
    "flim2=get_sdt_creation(file1,printon=False)\n",
    "print 'FLIM2:',\n",
    "print time.ctime(flim2),print_realtime(flim2-plating_time,False)\n",
    "\n",
    "file1=r'D:\\JenuChacko\\20180517_conf\\8_well\\10A_8well'\n",
    "flim3=get_sdt_creation(file1,printon=False)\n",
    "print 'FLIM3:',\n",
    "print time.ctime(flim3),print_realtime(flim3-plating_time,False)\n",
    "\n",
    "\n",
    "file1=r'D:\\JenuChacko\\20180520_\\8Well_10A'\n",
    "flim4=get_sdt_creation(file1,printon=False)\n",
    "print 'FLIM4:',\n",
    "print time.ctime(flim4),print_realtime(flim4-plating_time,False)\n",
    "\n",
    "\n",
    "\n"
   ]
  },
  {
   "cell_type": "code",
   "execution_count": 18,
   "metadata": {},
   "outputs": [
    {
     "name": "stdout",
     "output_type": "stream",
     "text": [
      "(4000, 22) (8353, 24) (24190, 22) (29578, 23)\n",
      "\n",
      "['A' 'B' 'C' 'F']\n",
      "['A' 'B' 'C' 'D' 'E' 'F' 'G' 'H' 'I' 'j' 'K' 'L' 'J']\n",
      "['G' 'H' 'I' 'J' 'K' 'L' 'A' 'B' 'C' 'D' 'E' 'F']\n",
      "['A' 'B' 'C' 'D' 'E' 'F' 'G' 'H' 'I' 'J' 'K' 'L']\n",
      "\n",
      "['10A' '231'] ['10A' '231'] ['10A' 231L] ['10A' 231L]\n"
     ]
    },
    {
     "data": {
      "text/plain": [
       "(66121, 22)"
      ]
     },
     "execution_count": 18,
     "metadata": {},
     "output_type": "execute_result"
    }
   ],
   "source": [
    "os.chdir(r'D:\\JenuChacko\\20180513_conf')\n",
    "dfa=pd.read_csv(r'results_12W.csv')\n",
    "dfa['well_size']='12x'\n",
    "dfb=pd.read_csv(r'results_8W.csv')\n",
    "dfb['well_size']='8x'\n",
    "dfD1=dfa.append(dfb)\n",
    "dfD1['time']=45.93\n",
    "dfD1['Day']=2\n",
    "\n",
    "os.chdir(r'D:\\JenuChacko\\20180514')\n",
    "dfa=pd.read_csv(r'results_12W_90.csv')\n",
    "dfa['well_size']='12x'\n",
    "dfb=pd.read_csv(r'results_8W_90.csv')\n",
    "dfb['well_size']='8x'\n",
    "dfD2=dfa.append(dfb)\n",
    "dfD2['time']=78.75\n",
    "dfD2['Day']=3\n",
    "\n",
    "os.chdir(r'D:\\JenuChacko\\20180517_conf\\12_well')\n",
    "dfa=pd.read_csv(r'results_12W_10A.csv')\n",
    "dfa=dfa.append(pd.read_csv(r'results_12W_231.csv'))\n",
    "dfa=dfa.append(pd.read_csv(r'results_12W_10A_p2.csv'))\n",
    "dfa=dfa.append(pd.read_csv(r'results_12W_231_p2.csv'))\n",
    "dfa['well_size']='12x'\n",
    "os.chdir(r'D:\\JenuChacko\\20180517_conf\\8_well')\n",
    "dfb=pd.read_csv(r'results_8W_10A.csv')\n",
    "dfb=dfb.append(pd.read_csv(r'results_8W_231.csv'))\n",
    "dfb['well_size']='8x'\n",
    "dfD3=dfa.append(dfb)\n",
    "dfD3['time']=140.07\n",
    "dfD3['Day']=4\n",
    "\n",
    "os.chdir(r'D:\\JenuChacko\\20180520_')\n",
    "dfa1=pd.read_csv(r'results_10A_12well.csv')\n",
    "dfa2=pd.read_csv(r'results_231_12well.csv')\n",
    "dfa=dfa1.append(dfa2)\n",
    "dfa['well_size']='12x'\n",
    "\n",
    "dfb1=pd.read_csv(r'results_10A_8well.csv')\n",
    "dfb2=pd.read_csv(r'results_231_8well.csv')\n",
    "dfb=dfb1.append(dfb2)\n",
    "dfb['well_size']='8x'\n",
    "\n",
    "dfD4=dfa.append(dfb)\n",
    "dfD4['time']=245.9\n",
    "dfD4['Day']=5\n",
    "\n",
    "print dfD1.shape,dfD2.shape,dfD3.shape,dfD4.shape\n",
    "print \n",
    "print dfD1.well.unique()\n",
    "print dfD2.well.unique()\n",
    "print dfD3.well.unique()\n",
    "print dfD4.well.unique()\n",
    "print \n",
    "print dfD1.cell.unique(),dfD2.cell.unique(),dfD3.cell.unique(),dfD4.cell.unique()\n",
    "\n",
    "df=dfD1.append(dfD2)\n",
    "df=df.append(dfD3)\n",
    "df=df.append(dfD4)\n",
    "\n",
    "del df[u'Unnamed: 0']\n",
    "del df[u'Unnamed: 0.1']\n",
    "df=df.replace('j','J')\n",
    "\n",
    "c=[]\n",
    "for i in df.cell:\n",
    "    if i==231:\n",
    "        c.append('231')\n",
    "    else:\n",
    "        c.append(i)\n",
    "df['cell']=c\n",
    "\n",
    "df['i']=df['Intensity']/df['mask_size']\n",
    "\n",
    "df.shape"
   ]
  },
  {
   "cell_type": "code",
   "execution_count": 12,
   "metadata": {},
   "outputs": [
    {
     "data": {
      "text/plain": [
       "Index([u'Day', u'Intensity', u'a1', u'a1p', u'a1w', u'a2', u'a2p', u'cell',\n",
       "       u'chi', u'fid', u'g', u'i', u'itm', u'mask_size', u'phase', u's', u't1',\n",
       "       u't2', u'time', u'tm', u'well', u'well_size'],\n",
       "      dtype='object')"
      ]
     },
     "execution_count": 12,
     "metadata": {},
     "output_type": "execute_result"
    }
   ],
   "source": [
    "df.columns"
   ]
  },
  {
   "cell_type": "code",
   "execution_count": 13,
   "metadata": {},
   "outputs": [],
   "source": [
    "#os.chdir(r'D:\\JenuChacko\\20180520_')\n",
    "#df.to_csv('data.csv')"
   ]
  },
  {
   "cell_type": "code",
   "execution_count": 19,
   "metadata": {},
   "outputs": [
    {
     "name": "stdout",
     "output_type": "stream",
     "text": [
      "['A' 'B' 'C' 'F' 'D' 'E' 'G' 'H' 'I' 'J' 'K' 'L']\n",
      "['10A' '231']\n",
      "['12x' '8x']\n",
      "[  45.93   78.75  140.07  245.9 ]\n",
      "[2 3 4 5]\n"
     ]
    }
   ],
   "source": [
    "print df.well.unique()\n",
    "print df.cell.unique()\n",
    "print df.well_size.unique()\n",
    "print df.time.unique()\n",
    "print df.Day.unique()"
   ]
  },
  {
   "cell_type": "markdown",
   "metadata": {},
   "source": [
    "### *squeeze FLIM*"
   ]
  },
  {
   "cell_type": "code",
   "execution_count": 147,
   "metadata": {},
   "outputs": [
    {
     "name": "stdout",
     "output_type": "stream",
     "text": [
      "(66121, 22)\n",
      "(72, 21)\n",
      "(66121, 22)\n",
      "(48, 21)\n"
     ]
    }
   ],
   "source": [
    "print df.shape\n",
    "df_flm12=df.loc[(df.well_size=='12x')&(df.Day!=2)]\n",
    "df_flm12=df_flm12.groupby(['well','cell','Day','well_size']).mean()\n",
    "df_flm12.reset_index(inplace=True)\n",
    "print df_flm12.shape\n",
    "\n",
    "\n",
    "print df.shape\n",
    "df_flm8=df.loc[(df.well_size=='8x')&(df.Day!=2)]\n",
    "df_flm8=df_flm8.groupby(['well','cell','Day','well_size']).mean()\n",
    "df_flm8.reset_index(inplace=True)\n",
    "print df_flm8.shape\n",
    "\n"
   ]
  },
  {
   "cell_type": "markdown",
   "metadata": {},
   "source": [
    "### *read brightfield*"
   ]
  },
  {
   "cell_type": "code",
   "execution_count": 158,
   "metadata": {},
   "outputs": [
    {
     "name": "stdout",
     "output_type": "stream",
     "text": [
      "[u'10A' 231]\n"
     ]
    },
    {
     "data": {
      "text/plain": [
       "array([u'10A', '231'], dtype=object)"
      ]
     },
     "execution_count": 158,
     "metadata": {},
     "output_type": "execute_result"
    }
   ],
   "source": [
    "os.chdir(r'D:\\JenuChacko\\20180511_\\BRIGHTFIELD')\n",
    "df_brt=pd.read_excel('data_output.xlsx')\n",
    "\n",
    "print df_brt.cell.unique()\n",
    "\n",
    "c=[]\n",
    "for i in df_brt.cell:\n",
    "    if i==231:\n",
    "        c.append('231')\n",
    "    else:\n",
    "        c.append(i)\n",
    "df_brt['cell']=c\n",
    "\n",
    "df_brt.cell.unique()"
   ]
  },
  {
   "cell_type": "code",
   "execution_count": 44,
   "metadata": {},
   "outputs": [],
   "source": [
    "#for i in df_brt.time.unique():\n",
    "#    print i[-1]"
   ]
  },
  {
   "cell_type": "code",
   "execution_count": 148,
   "metadata": {},
   "outputs": [],
   "source": [
    "#df_brt.head()"
   ]
  },
  {
   "cell_type": "code",
   "execution_count": 39,
   "metadata": {},
   "outputs": [],
   "source": [
    "g = sns.factorplot(x=\"well\", y=\"mean\",\n",
    "                   hue='cell',col='well_size',\n",
    "                   row='time',\n",
    "                   data=df_brt,\n",
    "                   kind=\"point\",palette='Set1')"
   ]
  },
  {
   "cell_type": "code",
   "execution_count": 159,
   "metadata": {},
   "outputs": [
    {
     "name": "stdout",
     "output_type": "stream",
     "text": [
      "(262, 5)\n",
      "(72, 5)\n",
      "(262, 5)\n",
      "(48, 5)\n"
     ]
    }
   ],
   "source": [
    "print df_brt.shape\n",
    "df_brt12=df_brt.loc[((df_brt.time=='D3')|(df_brt.time=='D4')|(df_brt.time=='D5'))\n",
    "                  &(df_brt.well_size=='12x')].copy()\n",
    "print df_brt12.shape\n",
    "\n",
    "print df_brt.shape\n",
    "df_brt8=df_brt.loc[((df_brt.time=='D3')|(df_brt.time=='D4')|(df_brt.time=='D5'))\n",
    "                  &(df_brt.well_size=='8x')].copy()\n",
    "print df_brt8.shape"
   ]
  },
  {
   "cell_type": "markdown",
   "metadata": {},
   "source": [
    "### *combining BRIGHT FIELD AND FLIM*"
   ]
  },
  {
   "cell_type": "code",
   "execution_count": 160,
   "metadata": {},
   "outputs": [
    {
     "name": "stdout",
     "output_type": "stream",
     "text": [
      "Index([u'time', u'well', u'cell', u'well_size', u'mean'], dtype='object') (72, 5)\n",
      "Index([u'well', u'cell', u'Day', u'well_size', u'Intensity', u'a1', u'a1p',\n",
      "       u'a1w', u'a2', u'a2p', u'chi', u'g', u'i', u'itm', u'mask_size',\n",
      "       u'phase', u's', u't1', u't2', u'time', u'tm'],\n",
      "      dtype='object') (72, 21)\n",
      "\n",
      "Index([u'time', u'well', u'cell', u'well_size', u'mean'], dtype='object') (48, 5)\n",
      "Index([u'well', u'cell', u'Day', u'well_size', u'Intensity', u'a1', u'a1p',\n",
      "       u'a1w', u'a2', u'a2p', u'chi', u'g', u'i', u'itm', u'mask_size',\n",
      "       u'phase', u's', u't1', u't2', u'time', u'tm'],\n",
      "      dtype='object') (48, 21)\n"
     ]
    }
   ],
   "source": [
    "print df_brt12.columns,df_brt12.shape\n",
    "print df_flm12.columns,df_flm12.shape\n",
    "\n",
    "print \n",
    "\n",
    "print df_brt8.columns,df_brt8.shape\n",
    "print df_flm8.columns,df_flm8.shape"
   ]
  },
  {
   "cell_type": "code",
   "execution_count": null,
   "metadata": {},
   "outputs": [],
   "source": []
  },
  {
   "cell_type": "code",
   "execution_count": 161,
   "metadata": {},
   "outputs": [],
   "source": [
    "df_brt12.sort_values(by=['well','cell','time','well_size'],inplace=True)\n",
    "df_brt12.reset_index(inplace=True)\n",
    "\n",
    "df_brt8.sort_values(by=['well','cell','time','well_size'],inplace=True)\n",
    "df_brt8.reset_index(inplace=True)"
   ]
  },
  {
   "cell_type": "code",
   "execution_count": 163,
   "metadata": {},
   "outputs": [
    {
     "name": "stdout",
     "output_type": "stream",
     "text": [
      "A A ---- A A ---- A A ---- A A ---- A A ---- A A ---- B B ---- B B ---- B B ---- B B ---- B B ---- B B ---- C C ---- C C ---- C C ---- C C ---- C C ---- C C ---- D D ---- D D ---- D D ---- D D ---- D D ---- D D ---- E E ---- E E ---- E E ---- E E ---- E E ---- E E ---- F F ---- F F ---- F F ---- F F ---- F F ---- F F ---- G G ---- G G ---- G G ---- G G ---- G G ---- G G ---- H H ---- H H ---- H H ---- H H ---- H H ---- H H ---- I I ---- I I ---- I I ---- I I ---- I I ---- I I ---- J J ---- J J ---- J J ---- J J ---- J J ---- J J ---- K K ---- K K ---- K K ---- K K ---- K K ---- K K ---- L L ---- L L ---- L L ---- L L ---- L L ---- L L ---- A A ---- A A ---- A A ---- A A ---- A A ---- A A ---- B B ---- B B ---- B B ---- B B ---- B B ---- B B ---- C C ---- C C ---- C C ---- C C ---- C C ---- C C ---- D D ---- D D ---- D D ---- D D ---- D D ---- D D ---- E E ---- E E ---- E E ---- E E ---- E E ---- E E ---- F F ---- F F ---- F F ---- F F ---- F F ---- F F ---- G G ---- G G ---- G G ---- G G ---- G G ---- G G ---- H H ---- H H ---- H H ---- H H ---- H H ---- H H ----\n"
     ]
    }
   ],
   "source": [
    "for i in range(72):\n",
    "    print df_brt12.well.iloc[i],df_flm12.well.iloc[i],\n",
    "    if df_brt12.well.iloc[i]==df_flm12.well.iloc[i]:\n",
    "        print '----',\n",
    "    else: \n",
    "        print 'xxxx'\n",
    "        \n",
    "for i in range(48):\n",
    "    print df_brt8.well.iloc[i],df_flm8.well.iloc[i],\n",
    "    if df_brt8.well.iloc[i]==df_flm8.well.iloc[i]:\n",
    "        print '----',\n",
    "    else: \n",
    "        print 'xxxx'"
   ]
  },
  {
   "cell_type": "code",
   "execution_count": 165,
   "metadata": {},
   "outputs": [
    {
     "name": "stdout",
     "output_type": "stream",
     "text": [
      " 10A 10A ---- 10A 10A ---- 10A 10A ---- 231 231 ---- 231 231 ---- 231 231 ---- 10A 10A ---- 10A 10A ---- 10A 10A ---- 231 231 ---- 231 231 ---- 231 231 ---- 10A 10A ---- 10A 10A ---- 10A 10A ---- 231 231 ---- 231 231 ---- 231 231 ---- 10A 10A ---- 10A 10A ---- 10A 10A ---- 231 231 ---- 231 231 ---- 231 231 ---- 10A 10A ---- 10A 10A ---- 10A 10A ---- 231 231 ---- 231 231 ---- 231 231 ---- 10A 10A ---- 10A 10A ---- 10A 10A ---- 231 231 ---- 231 231 ---- 231 231 ---- 10A 10A ---- 10A 10A ---- 10A 10A ---- 231 231 ---- 231 231 ---- 231 231 ---- 10A 10A ---- 10A 10A ---- 10A 10A ---- 231 231 ---- 231 231 ---- 231 231 ---- 10A 10A ---- 10A 10A ---- 10A 10A ---- 231 231 ---- 231 231 ---- 231 231 ---- 10A 10A ---- 10A 10A ---- 10A 10A ---- 231 231 ---- 231 231 ---- 231 231 ---- 10A 10A ---- 10A 10A ---- 10A 10A ---- 231 231 ---- 231 231 ---- 231 231 ---- 10A 10A ---- 10A 10A ---- 10A 10A ---- 231 231 ---- 231 231 ---- 231 231 ---- 10A 10A ---- 10A 10A ---- 10A 10A ---- 231 231 ---- 231 231 ---- 231 231 ---- 10A 10A ---- 10A 10A ---- 10A 10A ---- 231 231 ---- 231 231 ---- 231 231 ---- 10A 10A ---- 10A 10A ---- 10A 10A ---- 231 231 ---- 231 231 ---- 231 231 ---- 10A 10A ---- 10A 10A ---- 10A 10A ---- 231 231 ---- 231 231 ---- 231 231 ---- 10A 10A ---- 10A 10A ---- 10A 10A ---- 231 231 ---- 231 231 ---- 231 231 ---- 10A 10A ---- 10A 10A ---- 10A 10A ---- 231 231 ---- 231 231 ---- 231 231 ---- 10A 10A ---- 10A 10A ---- 10A 10A ---- 231 231 ---- 231 231 ---- 231 231 ---- 10A 10A ---- 10A 10A ---- 10A 10A ---- 231 231 ---- 231 231 ---- 231 231 ----\n"
     ]
    }
   ],
   "source": [
    "for i in range(72):\n",
    "    print df_brt12.cell.iloc[i],df_flm12.cell.iloc[i],\n",
    "    if df_brt12.cell.iloc[i]==df_flm12.cell.iloc[i]:\n",
    "        print '----',\n",
    "    else: \n",
    "        print 'xxxx'\n",
    "for i in range(48):\n",
    "    print df_brt8.cell.iloc[i],df_flm8.cell.iloc[i],\n",
    "    if df_brt8.cell.iloc[i]==df_flm8.cell.iloc[i]:\n",
    "        print '----',\n",
    "    else: \n",
    "        print 'xxxx'"
   ]
  },
  {
   "cell_type": "code",
   "execution_count": 73,
   "metadata": {},
   "outputs": [
    {
     "name": "stdout",
     "output_type": "stream",
     "text": [
      "12x 12x ---- 12x 12x ---- 12x 12x ---- 12x 12x ---- 12x 12x ---- 12x 12x ---- 12x 12x ---- 12x 12x ---- 12x 12x ---- 12x 12x ---- 12x 12x ---- 12x 12x ---- 12x 12x ---- 12x 12x ---- 12x 12x ---- 12x 12x ---- 12x 12x ---- 12x 12x ---- 12x 12x ---- 12x 12x ---- 12x 12x ---- 12x 12x ---- 12x 12x ---- 12x 12x ---- 12x 12x ---- 12x 12x ---- 12x 12x ---- 12x 12x ---- 12x 12x ---- 12x 12x ---- 12x 12x ---- 12x 12x ---- 12x 12x ---- 12x 12x ---- 12x 12x ---- 12x 12x ---- 12x 12x ---- 12x 12x ---- 12x 12x ---- 12x 12x ---- 12x 12x ---- 12x 12x ---- 12x 12x ---- 12x 12x ---- 12x 12x ---- 12x 12x ---- 12x 12x ---- 12x 12x ---- 12x 12x ---- 12x 12x ---- 12x 12x ---- 12x 12x ---- 12x 12x ---- 12x 12x ---- 12x 12x ---- 12x 12x ---- 12x 12x ---- 12x 12x ---- 12x 12x ---- 12x 12x ---- 12x 12x ---- 12x 12x ---- 12x 12x ---- 12x 12x ---- 12x 12x ---- 12x 12x ---- 12x 12x ---- 12x 12x ---- 12x 12x ---- 12x 12x ---- 12x 12x ---- 12x 12x ----\n"
     ]
    }
   ],
   "source": [
    "for i in range(72):\n",
    "    print df_brt.well_size.iloc[i],df_flm.well_size.iloc[i],\n",
    "    if df_brt.well_size.iloc[i]==df_flm.well_size.iloc[i]:\n",
    "        print '----',\n",
    "    else: \n",
    "        print 'xxxx'"
   ]
  },
  {
   "cell_type": "code",
   "execution_count": 167,
   "metadata": {},
   "outputs": [
    {
     "name": "stdout",
     "output_type": "stream",
     "text": [
      " 3 3 ---- 4 4 ---- 5 5 ---- 3 3 ---- 4 4 ---- 5 5 ---- 3 3 ---- 4 4 ---- 5 5 ---- 3 3 ---- 4 4 ---- 5 5 ---- 3 3 ---- 4 4 ---- 5 5 ---- 3 3 ---- 4 4 ---- 5 5 ---- 3 3 ---- 4 4 ---- 5 5 ---- 3 3 ---- 4 4 ---- 5 5 ---- 3 3 ---- 4 4 ---- 5 5 ---- 3 3 ---- 4 4 ---- 5 5 ---- 3 3 ---- 4 4 ---- 5 5 ---- 3 3 ---- 4 4 ---- 5 5 ---- 3 3 ---- 4 4 ---- 5 5 ---- 3 3 ---- 4 4 ---- 5 5 ---- 3 3 ---- 4 4 ---- 5 5 ---- 3 3 ---- 4 4 ---- 5 5 ---- 3 3 ---- 4 4 ---- 5 5 ---- 3 3 ---- 4 4 ---- 5 5 ---- 3 3 ---- 4 4 ---- 5 5 ---- 3 3 ---- 4 4 ---- 5 5 ---- 3 3 ---- 4 4 ---- 5 5 ---- 3 3 ---- 4 4 ---- 5 5 ---- 3 3 ---- 4 4 ---- 5 5 ---- 3 3 ---- 4 4 ---- 5 5 ---- 3 3 ---- 4 4 ---- 5 5 ---- 3 3 ---- 4 4 ---- 5 5 ---- 3 3 ---- 4 4 ---- 5 5 ---- 3 3 ---- 4 4 ---- 5 5 ---- 3 3 ---- 4 4 ---- 5 5 ---- 3 3 ---- 4 4 ---- 5 5 ---- 3 3 ---- 4 4 ---- 5 5 ---- 3 3 ---- 4 4 ---- 5 5 ---- 3 3 ---- 4 4 ---- 5 5 ---- 3 3 ---- 4 4 ---- 5 5 ---- 3 3 ---- 4 4 ---- 5 5 ---- 3 3 ---- 4 4 ---- 5 5 ---- 3 3 ---- 4 4 ---- 5 5 ---- 3 3 ---- 4 4 ---- 5 5 ---- 3 3 ---- 4 4 ---- 5 5 ---- 3 3 ---- 4 4 ---- 5 5 ----\n"
     ]
    }
   ],
   "source": [
    "for i in range(72):\n",
    "    print int(df_brt12.time.iloc[i][-1]),df_flm12.Day.iloc[i],\n",
    "    if int(df_brt12.time.iloc[i][-1])==df_flm12.Day.iloc[i]:\n",
    "        print '----',\n",
    "    else: \n",
    "        print 'xxxx',\n",
    "        \n",
    "for i in range(48):\n",
    "    print int(df_brt8.time.iloc[i][-1]),df_flm8.Day.iloc[i],\n",
    "    if int(df_brt8.time.iloc[i][-1])==df_flm8.Day.iloc[i]:\n",
    "        print '----',\n",
    "    else: \n",
    "        print 'xxxx',"
   ]
  },
  {
   "cell_type": "code",
   "execution_count": 178,
   "metadata": {},
   "outputs": [],
   "source": [
    "\n",
    "df_flm8['conf']=df_brt8['mean']\n",
    "df_flm12['conf']=df_brt12['mean']\n",
    "\n",
    "df_flm=df_flm12.append(df_flm8)\n",
    "\n",
    "os.chdir(r'D:\\JenuChacko\\20180511_\\BRIGHTFIELD')\n",
    "df_flm.to_excel('data_synced_with_conf.xls')\n"
   ]
  },
  {
   "cell_type": "markdown",
   "metadata": {},
   "source": [
    "# PLOT 1"
   ]
  },
  {
   "cell_type": "code",
   "execution_count": 180,
   "metadata": {},
   "outputs": [],
   "source": [
    "g = sns.factorplot(x=\"well\", y=\"tm\",\n",
    "                   hue='cell',col='Day',\n",
    "                   data=df_flm8,\n",
    "                   kind=\"point\",palette=sns.mpl_palette(\"GnBu\",2))\n",
    "g = sns.factorplot(x=\"well\", y=\"tm\",\n",
    "                   hue='cell',col='Day',\n",
    "                   data=df_flm12,\n",
    "                   kind=\"point\",palette=sns.mpl_palette(\"GnBu\",2))"
   ]
  },
  {
   "cell_type": "code",
   "execution_count": 182,
   "metadata": {},
   "outputs": [],
   "source": [
    "g = sns.factorplot(x=\"conf\", y=\"tm\",\n",
    "                   hue='cell',col='Day',\n",
    "                   data=df_flm8,\n",
    "                   kind=\"point\")\n",
    "\n",
    "g = sns.factorplot(x=\"conf\", y=\"tm\",\n",
    "                   hue='cell',col='Day',\n",
    "                   data=df_flm12,\n",
    "                   kind=\"point\")"
   ]
  },
  {
   "cell_type": "code",
   "execution_count": 186,
   "metadata": {},
   "outputs": [],
   "source": [
    "section=7\n",
    "df_flm12['conf1']=df_flm12['confleuency']*section\n",
    "df_flm12['conf1']=df_flm12['conf1'].astype(int)\n",
    "df_flm12['conf1']=df_flm12['conf1']*(100//section)\n",
    "\n",
    "g = sns.factorplot(x=\"conf\", y=\"tm\",\n",
    "                   hue='cell',col='Day',\n",
    "                   data=df_flm12,\n",
    "                   kind=\"point\",palette=sns.mpl_palette('jet',5))"
   ]
  },
  {
   "cell_type": "markdown",
   "metadata": {},
   "source": [
    "# PLOT 2"
   ]
  },
  {
   "cell_type": "code",
   "execution_count": null,
   "metadata": {},
   "outputs": [],
   "source": [
    "#matplotlib.style.use('ggplot')\n",
    "matplotlib.style.use('bmh')"
   ]
  },
  {
   "cell_type": "code",
   "execution_count": 20,
   "metadata": {},
   "outputs": [
    {
     "data": {
      "text/plain": [
       "<seaborn.axisgrid.FacetGrid at 0x251baba8>"
      ]
     },
     "execution_count": 20,
     "metadata": {},
     "output_type": "execute_result"
    }
   ],
   "source": [
    "dfa=df.groupby(['well','cell','well_size','time','Day']).mean()\n",
    "dfa.reset_index(inplace=True)"
   ]
  },
  {
   "cell_type": "code",
   "execution_count": 196,
   "metadata": {},
   "outputs": [],
   "source": [
    "sns.lmplot('g','s',hue='well',\n",
    "           row='cell',col='time',\n",
    "           data=dfa.loc[(dfa.well_size=='12x')],\n",
    "           palette='RdBu',fit_reg=False)"
   ]
  },
  {
   "cell_type": "code",
   "execution_count": 197,
   "metadata": {},
   "outputs": [
    {
     "data": {
      "text/plain": [
       "<seaborn.axisgrid.FacetGrid at 0x3873b198>"
      ]
     },
     "execution_count": 197,
     "metadata": {},
     "output_type": "execute_result"
    }
   ],
   "source": [
    "sns.lmplot('a1p','tm',hue='well',\n",
    "           row='cell',col='time',\n",
    "           data=dfa.loc[(dfa.well_size=='12x')&(dfa.a1p>0)],\n",
    "           palette='Greens_d',fit_reg=False)\n",
    "\n",
    "sns.lmplot('a1p','tm',hue='well',\n",
    "           row='cell',col='time',\n",
    "           data=dfa.loc[(dfa.well_size=='8x')&(dfa.a1p>0)],\n",
    "           palette='Greens_d',fit_reg=False)"
   ]
  },
  {
   "cell_type": "code",
   "execution_count": 193,
   "metadata": {},
   "outputs": [],
   "source": [
    "df['i']=df['Intensity']/df['mask_size']"
   ]
  },
  {
   "cell_type": "code",
   "execution_count": 195,
   "metadata": {},
   "outputs": [],
   "source": [
    "g = sns.factorplot(x=\"well\", y=\"a1w\",\n",
    "                   hue='cell',col='Day',row='well_size',data=df,\n",
    "                   kind=\"point\",palette=sns.mpl_palette(\"seismic\",2))"
   ]
  },
  {
   "cell_type": "code",
   "execution_count": 317,
   "metadata": {},
   "outputs": [
    {
     "name": "stdout",
     "output_type": "stream",
     "text": [
      "[2400, 2000, 1600, 1200, 800, 400, 200, 160, 120, 80, 40, 20]\n"
     ]
    }
   ],
   "source": []
  },
  {
   "cell_type": "code",
   "execution_count": null,
   "metadata": {},
   "outputs": [],
   "source": []
  },
  {
   "cell_type": "markdown",
   "metadata": {},
   "source": [
    "# PLOT 2.5 "
   ]
  },
  {
   "cell_type": "code",
   "execution_count": 299,
   "metadata": {},
   "outputs": [],
   "source": [
    "os.chdir(r'D:\\JenuChacko\\20180511_\\FLIM_CALIBRATION\\mink_pyc')\n",
    "dfo=pd.read_csv(r'data_20171013.csv')"
   ]
  },
  {
   "cell_type": "code",
   "execution_count": 300,
   "metadata": {},
   "outputs": [
    {
     "data": {
      "text/plain": [
       "Index([u'Unnamed: 0', u'Intensity', u'a1', u'a1p', u'a1w', u'a2', u'a2p',\n",
       "       u'chi', u'fid', u'g', u'itm', u'mask_size', u'phase', u's', u't1',\n",
       "       u't2', u'tm', u'cell', u'well', u'i', u'Well'],\n",
       "      dtype='object')"
      ]
     },
     "execution_count": 300,
     "metadata": {},
     "output_type": "execute_result"
    }
   ],
   "source": [
    "dfo.columns"
   ]
  },
  {
   "cell_type": "code",
   "execution_count": 303,
   "metadata": {},
   "outputs": [],
   "source": [
    "dfoa=dfo.groupby(['well','cell']).mean()\n",
    "dfoa.reset_index(inplace=True)"
   ]
  },
  {
   "cell_type": "code",
   "execution_count": 306,
   "metadata": {},
   "outputs": [
    {
     "data": {
      "text/plain": [
       "<seaborn.axisgrid.FacetGrid at 0x6f477550>"
      ]
     },
     "execution_count": 306,
     "metadata": {},
     "output_type": "execute_result"
    }
   ],
   "source": [
    "sns.lmplot('a1p','tm',hue='well',\n",
    "           col='cell',col_order=['10A','CA1D'],data=dfoa,\n",
    "           palette='Greens',fit_reg=False)\n"
   ]
  },
  {
   "cell_type": "code",
   "execution_count": 307,
   "metadata": {},
   "outputs": [
    {
     "data": {
      "text/plain": [
       "<seaborn.axisgrid.FacetGrid at 0x6fde5278>"
      ]
     },
     "execution_count": 307,
     "metadata": {},
     "output_type": "execute_result"
    }
   ],
   "source": [
    "sns.lmplot('a1p','tm',hue='well',\n",
    "           col='cell',col_order=['HPV','PANC'],data=dfoa,\n",
    "           palette='Greens',fit_reg=False)"
   ]
  },
  {
   "cell_type": "code",
   "execution_count": 322,
   "metadata": {},
   "outputs": [],
   "source": [
    "L1=list(dfoa.well.unique())\n",
    "L1.reverse()\n",
    "\n",
    "g = sns.factorplot(x=\"well\", y=\"tm\",hue='cell',\n",
    "                   data=dfo,order=L1,\n",
    "                   kind=\"point\",palette=sns.mpl_palette(\"jet\",5))\n",
    "\n"
   ]
  },
  {
   "cell_type": "code",
   "execution_count": 324,
   "metadata": {},
   "outputs": [],
   "source": [
    "g = sns.factorplot(x=\"well\", y=\"tm\",hue='cell',\n",
    "                   data=dfo,order=L1,hue_order=['HPV','PANC'],\n",
    "                   kind=\"point\",palette=sns.mpl_palette(\"seismic\",2))\n"
   ]
  },
  {
   "cell_type": "code",
   "execution_count": 323,
   "metadata": {},
   "outputs": [],
   "source": [
    "g = sns.factorplot(x=\"well\", y=\"tm\",hue='cell',\n",
    "                   data=dfo,order=L1,hue_order=['10A','CA1D'],\n",
    "                   kind=\"point\",palette=sns.mpl_palette(\"seismic\",2))\n"
   ]
  },
  {
   "cell_type": "code",
   "execution_count": null,
   "metadata": {},
   "outputs": [],
   "source": [
    "locs, labels = xticks()\n",
    "v=dftm.rt.unique()"
   ]
  },
  {
   "cell_type": "code",
   "execution_count": null,
   "metadata": {},
   "outputs": [],
   "source": []
  },
  {
   "cell_type": "code",
   "execution_count": null,
   "metadata": {},
   "outputs": [],
   "source": []
  },
  {
   "cell_type": "code",
   "execution_count": null,
   "metadata": {},
   "outputs": [],
   "source": []
  },
  {
   "cell_type": "markdown",
   "metadata": {},
   "source": [
    "# PLOT 3"
   ]
  },
  {
   "cell_type": "code",
   "execution_count": 204,
   "metadata": {},
   "outputs": [],
   "source": [
    "os.chdir(r'D:\\JenuChacko\\20180511_\\FLIM_CALIBRATION\\mink_pyc')\n",
    "df10a_time=pd.read_csv(r'10Acells.csv')\n",
    "df10a_time['cell']='10A'\n",
    "df231_time=pd.read_csv(r'231cells.csv')\n",
    "df231_time['cell']='231'"
   ]
  },
  {
   "cell_type": "code",
   "execution_count": 203,
   "metadata": {},
   "outputs": [
    {
     "data": {
      "text/plain": [
       "Index([u'Unnamed: 0', u'Unnamed: 0.1', u'Intensity', u'a1', u'a1p', u'a1w',\n",
       "       u'a2', u'a2p', u'chi', u'fid', u'g', u'itm', u'mask_size', u'phase',\n",
       "       u's', u't1', u't2', u'tm', u'time', u'sp', u'cell', u'RT', u'rt'],\n",
       "      dtype='object')"
      ]
     },
     "execution_count": 203,
     "metadata": {},
     "output_type": "execute_result"
    }
   ],
   "source": [
    "df10a_time.columns"
   ]
  },
  {
   "cell_type": "code",
   "execution_count": 206,
   "metadata": {},
   "outputs": [
    {
     "data": {
      "text/plain": [
       "(142836, 23)"
      ]
     },
     "execution_count": 206,
     "metadata": {},
     "output_type": "execute_result"
    }
   ],
   "source": [
    "dft=df10a_time.append(df231_time)\n",
    "dft.shape"
   ]
  },
  {
   "cell_type": "code",
   "execution_count": 207,
   "metadata": {},
   "outputs": [],
   "source": [
    "dftm=dft.groupby(['rt','cell']).mean()\n",
    "dftm.reset_index(inplace=True)"
   ]
  },
  {
   "cell_type": "code",
   "execution_count": 210,
   "metadata": {},
   "outputs": [
    {
     "data": {
      "text/plain": [
       "[<matplotlib.lines.Line2D at 0x40fa9f98>]"
      ]
     },
     "execution_count": 210,
     "metadata": {},
     "output_type": "execute_result"
    }
   ],
   "source": [
    "plot(dftm.rt,dftm.tm)"
   ]
  },
  {
   "cell_type": "code",
   "execution_count": 233,
   "metadata": {},
   "outputs": [],
   "source": [
    "#dft.RT.unique()"
   ]
  },
  {
   "cell_type": "code",
   "execution_count": 232,
   "metadata": {},
   "outputs": [
    {
     "data": {
      "text/plain": [
       "<matplotlib.axes._subplots.AxesSubplot at 0x4e647940>"
      ]
     },
     "execution_count": 232,
     "metadata": {},
     "output_type": "execute_result"
    }
   ],
   "source": [
    "sns.pointplot(x='RT',y='tm',hue='cell',data=dftm.loc[(dftm.rt>.5)&(dftm.rt<7.5)])"
   ]
  },
  {
   "cell_type": "code",
   "execution_count": 248,
   "metadata": {},
   "outputs": [
    {
     "data": {
      "text/plain": [
       "<matplotlib.axes._subplots.AxesSubplot at 0x55131048>"
      ]
     },
     "execution_count": 248,
     "metadata": {},
     "output_type": "execute_result"
    }
   ],
   "source": [
    "sns.pointplot(x='rt',y='tm',hue='cell',data=dftm.loc[(dftm.rt>.5)&(dftm.rt<7.5)])"
   ]
  },
  {
   "cell_type": "code",
   "execution_count": 277,
   "metadata": {},
   "outputs": [],
   "source": [
    "dft['i']=dft['Intensity']/dft['mask_size']"
   ]
  },
  {
   "cell_type": "code",
   "execution_count": 280,
   "metadata": {},
   "outputs": [
    {
     "data": {
      "text/plain": [
       "<matplotlib.axes._subplots.AxesSubplot at 0x5f360fd0>"
      ]
     },
     "execution_count": 280,
     "metadata": {},
     "output_type": "execute_result"
    }
   ],
   "source": [
    "sns.pointplot(x='rt',y='Intensity',hue='cell',data=dft.loc[(dft.rt>.5)&(dft.rt<7.5)],\n",
    "             palette=sns.mpl_palette('seismic',2))"
   ]
  },
  {
   "cell_type": "code",
   "execution_count": 281,
   "metadata": {},
   "outputs": [
    {
     "data": {
      "text/plain": [
       "([<matplotlib.axis.XTick at 0x61c94fd0>,\n",
       "  <matplotlib.axis.XTick at 0x61c94668>,\n",
       "  <matplotlib.axis.XTick at 0x622818d0>,\n",
       "  <matplotlib.axis.XTick at 0x62285630>,\n",
       "  <matplotlib.axis.XTick at 0x62285a58>,\n",
       "  <matplotlib.axis.XTick at 0x62285e80>],\n",
       " <a list of 6 Text xticklabel objects>)"
      ]
     },
     "execution_count": 281,
     "metadata": {},
     "output_type": "execute_result"
    }
   ],
   "source": [
    "ax1=gca()\n",
    "ax1.set(xlabel='time (hrs)')\n",
    "locs, labels = xticks()\n",
    "v=dftm.rt.unique()\n",
    "i1=0\n",
    "i2=50\n",
    "i3=100\n",
    "i4=150\n",
    "i5=200\n",
    "i6=250\n",
    "xticks([i1,i2,i3,i4,i5,i6],\n",
    "       np.around(np.array([v[i1],v[i2],v[i3],v[i4],v[i5],v[i6]]),1))"
   ]
  },
  {
   "cell_type": "code",
   "execution_count": 298,
   "metadata": {},
   "outputs": [
    {
     "data": {
      "text/plain": [
       "<matplotlib.axes._subplots.AxesSubplot at 0x6ae0feb8>"
      ]
     },
     "execution_count": 298,
     "metadata": {},
     "output_type": "execute_result"
    }
   ],
   "source": [
    "sns.lmplot(x='g',y='s',hue='cell',data=dftm.loc[(dftm.rt>.5)&(dftm.rt<7.5)],\n",
    "             palette=sns.mpl_palette('seismic',2),fit_reg=False)\n",
    "#gt.plot_univ_circle_v1()"
   ]
  },
  {
   "cell_type": "code",
   "execution_count": 290,
   "metadata": {},
   "outputs": [],
   "source": [
    "i222=[]\n",
    "for i in dft.RT:\n",
    "    i222.append(round(i,0))\n",
    "dft['time_ix']=i222"
   ]
  },
  {
   "cell_type": "code",
   "execution_count": null,
   "metadata": {},
   "outputs": [],
   "source": []
  },
  {
   "cell_type": "code",
   "execution_count": null,
   "metadata": {},
   "outputs": [],
   "source": []
  },
  {
   "cell_type": "code",
   "execution_count": null,
   "metadata": {},
   "outputs": [],
   "source": []
  },
  {
   "cell_type": "code",
   "execution_count": null,
   "metadata": {},
   "outputs": [],
   "source": []
  },
  {
   "cell_type": "code",
   "execution_count": null,
   "metadata": {},
   "outputs": [],
   "source": []
  },
  {
   "cell_type": "code",
   "execution_count": null,
   "metadata": {},
   "outputs": [],
   "source": []
  },
  {
   "cell_type": "markdown",
   "metadata": {},
   "source": [
    "# DATE TIME"
   ]
  },
  {
   "cell_type": "code",
   "execution_count": 3,
   "metadata": {},
   "outputs": [
    {
     "name": "stdout",
     "output_type": "stream",
     "text": [
      "last modified: Sun May 13 16:26:13 2018\n",
      "last modified: Sun May 13 16:27:47 2018\n",
      "last modified: Sun May 13 16:29:21 2018\n",
      "last modified: Sun May 13 16:17:58 2018\n",
      "last modified: Sun May 13 16:19:31 2018\n",
      "last modified: Sun May 13 16:21:05 2018\n",
      "last modified: Sun May 13 16:10:39 2018\n",
      "last modified: Sun May 13 16:12:14 2018\n",
      "1526245934.33\n"
     ]
    }
   ],
   "source": [
    "def get_sdt_creation(folder1,printon=True):\n",
    "    import os\n",
    "    os.chdir(folder1)\n",
    "    fl=glob.glob('*.sdt')\n",
    "    import os.path, time\n",
    "    for file1 in fl:\n",
    "        if printon:\n",
    "            print(\"last modified: %s\" % time.ctime(os.path.getmtime(file1)))\n",
    "            #print(\"created: %s\" % time.ctime(os.path.getctime(file1)))\n",
    "    return(os.path.getmtime(file1))\n",
    "\n",
    "print get_sdt_creation(r'D:\\JenuChacko\\20180513_conf\\CONF_8\\10A')\n",
    "\n",
    "def print_realtime(epotime,printon=True):\n",
    "    s=round(epotime)\n",
    "    m=round(s/60,2)\n",
    "    h=round(m/60,2)\n",
    "    d=round(h/24,2)\n",
    "    if printon:\n",
    "        print (s),'sec'\n",
    "        print m,'min',h,'hrs',d,'days'\n",
    "    return([d,h,m,s])\n",
    "\n"
   ]
  },
  {
   "cell_type": "code",
   "execution_count": null,
   "metadata": {},
   "outputs": [],
   "source": [
    "deep=[\"#4C72B0\", \"#55A868\", \"#C44E52\",\n",
    "      \"#8172B2\", \"#CCB974\", \"#64B5CD\"],\n",
    "muted=[\"#4878CF\", \"#6ACC65\", \"#D65F5F\",\n",
    "       \"#B47CC7\", \"#C4AD66\", \"#77BEDB\"],\n",
    "pastel=[\"#92C6FF\", \"#97F0AA\", \"#FF9F9A\",\n",
    "        \"#D0BBFF\", \"#FFFEA3\", \"#B0E0E6\"],\n",
    "bright=[\"#003FFF\", \"#03ED3A\", \"#E8000B\",\n",
    "        \"#8A2BE2\", \"#FFC400\", \"#00D7FF\"],\n",
    "dark=[\"#001C7F\", \"#017517\", \"#8C0900\",\n",
    "      \"#7600A1\", \"#B8860B\", \"#006374\"],\n",
    "colorblind=[\"#0072B2\", \"#009E73\", \"#D55E00\",\n",
    "        \"#CC79A7\", \"#F0E442\", \"#56B4E9\"]\n",
    "\n",
    "__all__ = \n",
    "\n",
    "[\"color_palette\", \"hls_palette\", \"husl_palette\", \"mpl_palette\",\n",
    "       \"dark_palette\", \"light_palette\", \"diverging_palette\",\n",
    "       \"blend_palette\", \"xkcd_palette\", \"crayon_palette\",\n",
    "\"cubehelix_palette\", \"set_color_codes\"]"
   ]
  }
 ],
 "metadata": {
  "kernelspec": {
   "display_name": "Python 2",
   "language": "python",
   "name": "python2"
  },
  "language_info": {
   "codemirror_mode": {
    "name": "ipython",
    "version": 2
   },
   "file_extension": ".py",
   "mimetype": "text/x-python",
   "name": "python",
   "nbconvert_exporter": "python",
   "pygments_lexer": "ipython2",
   "version": "2.7.14"
  }
 },
 "nbformat": 4,
 "nbformat_minor": 2
}
