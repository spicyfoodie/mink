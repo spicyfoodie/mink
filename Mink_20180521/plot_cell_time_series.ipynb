{
 "cells": [
  {
   "cell_type": "code",
   "execution_count": 1,
   "metadata": {},
   "outputs": [],
   "source": [
    "import os\n",
    "os.chdir(r'D:\\JenuChacko\\20180511_\\FLIM_CALIBRATION\\mink_pyc')\n",
    "import spc_asc as sa\n",
    "import sdt_tools as sd\n",
    "import gui_tools as gt\n",
    "import seaborn as sns\n",
    "import pandas as pd\n",
    "import glob\n",
    "get_rep=sd.get_rep"
   ]
  },
  {
   "cell_type": "code",
   "execution_count": 2,
   "metadata": {},
   "outputs": [
    {
     "name": "stdout",
     "output_type": "stream",
     "text": [
      "Using matplotlib backend: TkAgg\n",
      "Populating the interactive namespace from numpy and matplotlib\n"
     ]
    }
   ],
   "source": [
    "%pylab"
   ]
  },
  {
   "cell_type": "markdown",
   "metadata": {},
   "source": [
    "## CHECKING OLDER DATA  OCT 23,2017"
   ]
  },
  {
   "cell_type": "code",
   "execution_count": 123,
   "metadata": {},
   "outputs": [],
   "source": [
    "f1=r'L:\\ORGANIZED_DATA\\CONFLUENCY\\20171013_confluency\\10A\\analysis\\img'\n",
    "df.to_csv('data_reanalyzed.csv')"
   ]
  },
  {
   "cell_type": "code",
   "execution_count": 121,
   "metadata": {},
   "outputs": [
    {
     "name": "stdout",
     "output_type": "stream",
     "text": [
      "[  20   40   80  120  160  200  400  800 1200 1600 2000 2400]\n",
      "['L' 'K' 'J' 'I' 'H' 'G' 'F' 'E' 'D' 'C' 'B' 'A']\n"
     ]
    }
   ],
   "source": [
    "#dfa=df.copy()\n",
    "print df.well.unique()\n",
    "#for i in dfa.well.unique(): \n",
    "W=[]\n",
    "for i in df.well: \n",
    "    if i==20:\n",
    "        Well='L'\n",
    "    else:\n",
    "        if i==40:\n",
    "            Well='K'\n",
    "        else:\n",
    "            if i==80:\n",
    "                Well='J'\n",
    "            else:\n",
    "                if i==120:\n",
    "                    Well='I'\n",
    "                else:\n",
    "                    if i==160:\n",
    "                        Well='H'\n",
    "                    else:\n",
    "                        if i==200:\n",
    "                            Well='G'\n",
    "                        else:    \n",
    "                            if i==400:\n",
    "                                Well='F'\n",
    "                            else:\n",
    "                                if i==800:\n",
    "                                    Well='E'\n",
    "                                else:\n",
    "                                    if i==1200:\n",
    "                                        Well='D'\n",
    "                                    else:\n",
    "                                        if i==1600:\n",
    "                                            Well='C'\n",
    "                                        else:\n",
    "                                            if i==2000:\n",
    "                                                Well='B'\n",
    "                                            else:    \n",
    "                                                if i==2400:\n",
    "                                                    Well='A'\n",
    "                                                else:\n",
    "                                                    print i\n",
    "    W.append(Well)\n",
    "df['Well']=W\n",
    "print df.Well.unique()"
   ]
  },
  {
   "cell_type": "code",
   "execution_count": 122,
   "metadata": {},
   "outputs": [
    {
     "data": {
      "text/plain": [
       "(71975, 20)"
      ]
     },
     "execution_count": 122,
     "metadata": {},
     "output_type": "execute_result"
    }
   ],
   "source": [
    "df.shape"
   ]
  },
  {
   "cell_type": "markdown",
   "metadata": {},
   "source": [
    "# COMPILING - MAY11-MAY 15, 2018"
   ]
  },
  {
   "cell_type": "code",
   "execution_count": 3,
   "metadata": {},
   "outputs": [],
   "source": [
    "# FILE TIMES\n",
    "import os"
   ]
  },
  {
   "cell_type": "code",
   "execution_count": 5,
   "metadata": {},
   "outputs": [
    {
     "name": "stdout",
     "output_type": "stream",
     "text": [
      "last modified: Sun May 13 16:26:13 2018\n",
      "last modified: Sun May 13 16:27:47 2018\n",
      "last modified: Sun May 13 16:29:21 2018\n",
      "last modified: Sun May 13 16:17:58 2018\n",
      "last modified: Sun May 13 16:19:31 2018\n",
      "last modified: Sun May 13 16:21:05 2018\n",
      "last modified: Sun May 13 16:10:39 2018\n",
      "last modified: Sun May 13 16:12:14 2018\n",
      "1526245934.33\n"
     ]
    }
   ],
   "source": [
    "def get_sdt_creation(folder1,printon=True):\n",
    "    import os\n",
    "    os.chdir(folder1)\n",
    "    fl=glob.glob('*.sdt')\n",
    "    import os.path, time\n",
    "    for file1 in fl:\n",
    "        if printon:\n",
    "            print(\"last modified: %s\" % time.ctime(os.path.getmtime(file1)))\n",
    "            #print(\"created: %s\" % time.ctime(os.path.getctime(file1)))\n",
    "    return(os.path.getmtime(file1))\n",
    "\n",
    "print get_sdt_creation(r'D:\\JenuChacko\\20180513_conf\\CONF_8\\10A')\n",
    "\n",
    "\n",
    "#a= os.path.getmtime(file1)\n",
    "#b= time.time()\n",
    "#print (b-a),'sec'\n",
    "#print (b-a)/60,'min',(b-a)/(60*60),'hrs' ,(b-a)/(60*60*24),'days'\n",
    "def print_realtime(epotime,printon=True):\n",
    "    s=round(epotime)\n",
    "    m=round(s/60,2)\n",
    "    h=round(m/60,2)\n",
    "    d=round(h/24,2)\n",
    "    if printon:\n",
    "        print (s),'sec'\n",
    "        print m,'min',h,'hrs',d,'days'\n",
    "    return([d,h,m,s])\n",
    "#print_realtime(b-a)\n",
    "\n"
   ]
  },
  {
   "cell_type": "markdown",
   "metadata": {},
   "source": [
    "### GET TIME FROM SDT or BRT FLD"
   ]
  },
  {
   "cell_type": "code",
   "execution_count": 210,
   "metadata": {},
   "outputs": [
    {
     "name": "stdout",
     "output_type": "stream",
     "text": [
      "Fri May 11 18:16:09 2018\n",
      "\n",
      "BF_1: Sat May 12 20:39:30 2018 [1.1, 26.39, 1583.37, 95002.0]\n",
      "BF_2: Sun May 13 13:48:31 2018 [1.81, 43.54, 2612.37, 156742.0]\n",
      "BF_3: Tue May 15 12:43:59 2018 [3.77, 90.46, 5427.83, 325670.0]\n",
      "\n",
      "FLIM1: Sun May 13 16:12:14 2018 [1.91, 45.93, 2756.08, 165365.0]\n",
      "FLIM2: Tue May 15 01:00:56 2018 [3.28, 78.75, 4724.78, 283487.0]\n",
      "FLIM3: Thu May 17 14:20:34 2018 [5.84, 140.07, 8404.42, 504265.0]\n"
     ]
    }
   ],
   "source": [
    "# PLATING TIME\n",
    "file1=r'D:\\JenuChacko\\20180511_\\BRIGHTFIELD\\10a_count\\10a_count_MMStack_Pos0.ome.tif'\n",
    "print(time.ctime(os.path.getmtime(file1)))\n",
    "plating_time=os.path.getmtime(file1)\n",
    "\n",
    "print \n",
    "\n",
    "file1=r'D:\\JenuChacko\\20180511_\\BRIGHTFIELD\\d24_10a_8well\\d24_10a_8well_MMStack_Pos0.ome.tif'\n",
    "brightfield_time1=os.path.getmtime(file1)\n",
    "print 'BF_1:',\n",
    "print(time.ctime(brightfield_time1)),print_realtime(brightfield_time1-plating_time,False)\n",
    "\n",
    "\n",
    "file1=r'D:\\JenuChacko\\20180511_\\BRIGHTFIELD\\d36_10A_8well\\d36_10a_8well_MMStack_Pos0.ome.tif'\n",
    "brightfield_time2=os.path.getmtime(file1)\n",
    "print 'BF_2:',\n",
    "print(time.ctime(brightfield_time2)),print_realtime(brightfield_time2-plating_time,False)\n",
    "\n",
    "file1=r'D:\\JenuChacko\\20180511_\\BRIGHTFIELD\\d96_10A_8well\\d96_10a-8_MMStack_Pos0.ome.tif'\n",
    "brightfield_time3=os.path.getmtime(file1)\n",
    "print 'BF_3:',\n",
    "print(time.ctime(brightfield_time3)),print_realtime(brightfield_time3-plating_time,False)\n",
    "\n",
    "print\n",
    "\n",
    "file1=r'D:\\JenuChacko\\20180513_conf\\CONF_8\\10A'\n",
    "flim1=get_sdt_creation(file1,printon=False)\n",
    "print 'FLIM1:',\n",
    "print time.ctime(flim1),print_realtime(flim1-plating_time,False)\n",
    "\n",
    "file1=r'D:\\JenuChacko\\20180514\\8_WELL\\10A'\n",
    "flim2=get_sdt_creation(file1,printon=False)\n",
    "print 'FLIM2:',\n",
    "print time.ctime(flim2),print_realtime(flim2-plating_time,False)\n",
    "\n",
    "file1=r'D:\\JenuChacko\\20180517\\10A_8well'\n",
    "flim3=get_sdt_creation(file1,printon=False)\n",
    "print 'FLIM3:',\n",
    "print time.ctime(flim3),print_realtime(flim3-plating_time,False)\n"
   ]
  },
  {
   "cell_type": "code",
   "execution_count": 222,
   "metadata": {},
   "outputs": [
    {
     "name": "stdout",
     "output_type": "stream",
     "text": [
      "Fri May 11 18:16:09 2018\n",
      "BF_4: Thu May 17 19:20:39 2018 [6.04, 145.07, 8704.5, 522270.0]\n",
      "BF_5: Sun May 20 23:06:43 2018 [9.2, 220.84, 13250.57, 795034.0]\n"
     ]
    }
   ],
   "source": [
    "file1=r'D:\\JenuChacko\\20180511_\\BRIGHTFIELD\\10a_count\\10a_count_MMStack_Pos0.ome.tif'\n",
    "print(time.ctime(os.path.getmtime(file1)))\n",
    "plating_time=os.path.getmtime(file1)\n",
    "\n",
    "\n",
    "file1=r'D:\\JenuChacko\\20180511_\\BRIGHTFIELD\\P2\\D170_10A_8well\\D170_10a_8_MMStack_Pos0.ome.tif'\n",
    "brightfield_time4=os.path.getmtime(file1)\n",
    "print 'BF_4:',\n",
    "print(time.ctime(brightfield_time4)),print_realtime(brightfield_time4-plating_time,False)\n",
    "\n",
    "\n",
    "file1=r'D:\\JenuChacko\\20180511_\\BRIGHTFIELD\\P2\\D240_10A_8well\\D_LAST-10-8_MMStack_Pos0.ome.tif'\n",
    "brightfield_time5=os.path.getmtime(file1)\n",
    "print 'BF_5:',\n",
    "print(time.ctime(brightfield_time5)),print_realtime(brightfield_time5-plating_time,False)\n",
    "\n"
   ]
  },
  {
   "cell_type": "markdown",
   "metadata": {},
   "source": [
    "### COMPILE SDT INTO XLS FROM 3 DAYS"
   ]
  },
  {
   "cell_type": "code",
   "execution_count": 498,
   "metadata": {},
   "outputs": [
    {
     "name": "stdout",
     "output_type": "stream",
     "text": [
      "(4000, 22) (8353, 24) (24190, 22)\n",
      "['A' 'B' 'C' 'F']\n",
      "['A' 'B' 'C' 'D' 'E' 'F' 'G' 'H' 'I' 'j' 'K' 'L' 'J']\n",
      "['G' 'H' 'I' 'J' 'K' 'L' 'A' 'B' 'C' 'D' 'E' 'F']\n",
      "['10A' '231'] ['10A' '231'] ['10A' '231']\n"
     ]
    }
   ],
   "source": [
    "os.chdir(r'D:\\JenuChacko\\20180513_conf')\n",
    "dfa=pd.read_csv(r'results_12W.csv')\n",
    "dfa['well_size']='12x'\n",
    "dfb=pd.read_csv(r'results_8W.csv')\n",
    "dfb['well_size']='8x'\n",
    "dfD1=dfa.append(dfb)\n",
    "dfD1['time']=45.93\n",
    "dfD1['Day']=2\n",
    "\n",
    "os.chdir(r'D:\\JenuChacko\\20180514')\n",
    "dfa=pd.read_csv(r'results_12W_90.csv')\n",
    "dfa['well_size']='12x'\n",
    "dfb=pd.read_csv(r'results_8W_90.csv')\n",
    "dfb['well_size']='8x'\n",
    "dfD2=dfa.append(dfb)\n",
    "dfD2['time']=78.75\n",
    "dfD2['Day']=3\n",
    "\n",
    "os.chdir(r'D:\\JenuChacko\\20180517_conf\\12_well')\n",
    "dfa=pd.read_csv(r'results_12W_10A.csv')\n",
    "dfa=dfa.append(pd.read_csv(r'results_12W_231.csv'))\n",
    "dfa=dfa.append(pd.read_csv(r'results_12W_10A_p2.csv'))\n",
    "dfa=dfa.append(pd.read_csv(r'results_12W_231_p2.csv'))\n",
    "\n",
    "\n",
    "dfa['well_size']='12x'\n",
    "os.chdir(r'D:\\JenuChacko\\20180517_conf\\8_well')\n",
    "dfb=pd.read_csv(r'results_8W_10A.csv')\n",
    "dfb=dfb.append(pd.read_csv(r'results_8W_231.csv'))\n",
    "dfb['well_size']='8x'\n",
    "dfD3=dfa.append(dfb)\n",
    "dfD3['time']=140.07\n",
    "dfD3['Day']=4\n",
    "\n",
    "c=[]\n",
    "for i in dfD3.cell:\n",
    "    if i==231:\n",
    "        c.append('231')\n",
    "    else:\n",
    "        c.append(i)\n",
    "dfD3['cell']=c\n",
    "\n",
    "print dfD1.shape,dfD2.shape,dfD3.shape\n",
    "print dfD1.well.unique()\n",
    "print dfD2.well.unique()\n",
    "print dfD3.well.unique()\n",
    "print dfD1.cell.unique(),dfD2.cell.unique(),dfD3.cell.unique()\n",
    "\n",
    "df=dfD1.append(dfD2)\n",
    "df=df.append(dfD3)\n"
   ]
  },
  {
   "cell_type": "code",
   "execution_count": 499,
   "metadata": {},
   "outputs": [
    {
     "data": {
      "text/plain": [
       "Index([u'Day', u'Intensity', u'Unnamed: 0', u'Unnamed: 0.1', u'a1', u'a1p',\n",
       "       u'a1w', u'a2', u'a2p', u'cell', u'chi', u'fid', u'g', u'i', u'itm',\n",
       "       u'mask_size', u'phase', u's', u't1', u't2', u'time', u'tm', u'well',\n",
       "       u'well_size'],\n",
       "      dtype='object')"
      ]
     },
     "execution_count": 499,
     "metadata": {},
     "output_type": "execute_result"
    }
   ],
   "source": [
    "df.columns"
   ]
  },
  {
   "cell_type": "code",
   "execution_count": 500,
   "metadata": {},
   "outputs": [
    {
     "data": {
      "text/plain": [
       "Index([u'Day', u'Intensity', u'a1', u'a1p', u'a1w', u'a2', u'a2p', u'cell',\n",
       "       u'chi', u'fid', u'g', u'i', u'itm', u'mask_size', u'phase', u's', u't1',\n",
       "       u't2', u'time', u'tm', u'well', u'well_size'],\n",
       "      dtype='object')"
      ]
     },
     "execution_count": 500,
     "metadata": {},
     "output_type": "execute_result"
    }
   ],
   "source": [
    "del df[u'Unnamed: 0']\n",
    "del df[u'Unnamed: 0.1']\n",
    "df.columns"
   ]
  },
  {
   "cell_type": "code",
   "execution_count": 503,
   "metadata": {},
   "outputs": [],
   "source": [
    "os.chdir(r'D:\\JenuChacko\\20180517_conf')\n",
    "df.to_csv('data.csv')"
   ]
  },
  {
   "cell_type": "markdown",
   "metadata": {},
   "source": [
    "# COMMON"
   ]
  },
  {
   "cell_type": "code",
   "execution_count": 501,
   "metadata": {},
   "outputs": [],
   "source": [
    "df=df.replace('j','J')"
   ]
  },
  {
   "cell_type": "code",
   "execution_count": 502,
   "metadata": {},
   "outputs": [
    {
     "name": "stdout",
     "output_type": "stream",
     "text": [
      "['A' 'B' 'C' 'F' 'D' 'E' 'G' 'H' 'I' 'J' 'K' 'L']\n",
      "['10A' '231']\n",
      "['12x' '8x']\n",
      "[  45.93   78.75  140.07]\n",
      "[2 3 4]\n"
     ]
    }
   ],
   "source": [
    "print df.well.unique()\n",
    "print df.cell.unique()\n",
    "print df.well_size.unique()\n",
    "print df.time.unique()\n",
    "print df.Day.unique()"
   ]
  },
  {
   "cell_type": "code",
   "execution_count": null,
   "metadata": {},
   "outputs": [],
   "source": []
  },
  {
   "cell_type": "code",
   "execution_count": 305,
   "metadata": {},
   "outputs": [
    {
     "data": {
      "text/plain": [
       "array(['10A', '231'], dtype=object)"
      ]
     },
     "execution_count": 305,
     "metadata": {},
     "output_type": "execute_result"
    }
   ],
   "source": [
    "c=[]\n",
    "for i in df1.cell:\n",
    "    if i==231:\n",
    "        c.append('231')\n",
    "    else:\n",
    "        c.append(i)\n",
    "df1['cell']=c\n",
    "df1.cell.unique()"
   ]
  },
  {
   "cell_type": "code",
   "execution_count": null,
   "metadata": {},
   "outputs": [],
   "source": [
    "df['time']=0\n",
    "df['sp']=0\n",
    "df['cell']='10A'\n",
    "df['RT']=df.time*1.5"
   ]
  },
  {
   "cell_type": "code",
   "execution_count": 309,
   "metadata": {},
   "outputs": [
    {
     "name": "stdout",
     "output_type": "stream",
     "text": [
      "['10A' '231']\n"
     ]
    }
   ],
   "source": [
    "print df1.cell.unique()\n",
    "#df1=df1.replace('a','A')\n",
    "#df1=df1.replace('F2','F')"
   ]
  },
  {
   "cell_type": "code",
   "execution_count": 310,
   "metadata": {},
   "outputs": [],
   "source": [
    "TP=[]\n",
    "SP=[]\n",
    "cell=[]\n",
    "for i in df.fid:\n",
    "    j=i.split('_')\n",
    "    TP.append(j[-4][2:])\n",
    "    SP.append(j[-3][2:])\n",
    "    cell.append(j[5])\n",
    "df['time']=TP\n",
    "df['sp']=SP\n",
    "df['cell']=cell\n",
    "\n",
    "df['time'] = pd.to_numeric(df['time'], errors='coerce')\n",
    "df.time.unique()\n",
    "\n",
    "df['RT']=df.time*1.5\n",
    "\n",
    "df.RT.unique(),df.cell.unique()\n"
   ]
  },
  {
   "cell_type": "code",
   "execution_count": null,
   "metadata": {},
   "outputs": [],
   "source": [
    "\n"
   ]
  },
  {
   "cell_type": "code",
   "execution_count": 387,
   "metadata": {},
   "outputs": [],
   "source": [
    "#df.to_csv(r'D:\\JenuChacko\\20180511_\\FLIM_CALIBRATION\\mink_pyc\\data_20171013.csv')"
   ]
  },
  {
   "cell_type": "markdown",
   "metadata": {},
   "source": [
    "# MAKING CSV"
   ]
  },
  {
   "cell_type": "code",
   "execution_count": 561,
   "metadata": {
    "scrolled": true
   },
   "outputs": [
    {
     "name": "stdout",
     "output_type": "stream",
     "text": [
      "0 4 8 12 16 20 25 29 33 37 41 45 50 54 58 62 66 70 75 79 83 87 91 95 (12148, 16)\n"
     ]
    }
   ],
   "source": [
    "#f1=r'D:\\JenuChacko\\20180514\\10a_celltime\\C6'\n",
    "#f1=r'D:\\JenuChacko\\20180514\\8_WELL\\231'\n",
    "#f1=r'D:\\JenuChacko\\20180513_conf\\CONF_8\\231'\n",
    "#f1=r'D:\\JenuChacko\\20180514\\12well\\231'\n",
    "#f1=r'D:\\JenuChacko\\20180517_conf\\12_well\\10A_12well\\part2'\n",
    "#f1=r'L:\\ORGANIZED_DATA\\CONFLUENCY\\20171013_confluency\\PANC\\analysis\\img'\n",
    "f1=r'D:\\JenuChacko\\20180520_\\12Well_10A\\img'\n",
    "\n",
    "\n",
    "\n",
    "os.chdir(f1)\n",
    "asc_objs=[]\n",
    "fl=glob.glob('*photons.asc')\n",
    "\n",
    "for ix,i in enumerate(fl):\n",
    "    asc_objs.append(sa.spc_ascii(i))\n",
    "    print ix*100//len(fl),\n",
    "    \n",
    "for ix,i in enumerate(asc_objs):\n",
    "    dfa=i.generate_df()\n",
    "    if ix==0:\n",
    "        df=dfa\n",
    "    else:\n",
    "        df=df.append(dfa)\n",
    "print df.shape"
   ]
  },
  {
   "cell_type": "code",
   "execution_count": 556,
   "metadata": {},
   "outputs": [],
   "source": [
    "#df10a=df.copy()\n",
    "#dfca1d=df.copy()\n",
    "#dfhpv=df.copy()\n",
    "#dfpanc=df.copy()\n",
    "#print df10a.shape,dfca1d.shape,dfhpv.shape,dfpanc.shape\n",
    "\n",
    "#df=df10a.append(dfca1d)\n",
    "#df=df.append(dfhpv)\n",
    "#df=df.append(dfpanc)\n",
    "\n",
    "#print df.shape"
   ]
  },
  {
   "cell_type": "code",
   "execution_count": 557,
   "metadata": {},
   "outputs": [
    {
     "name": "stdout",
     "output_type": "stream",
     "text": [
      "['231', 'well', 'A', '1', 'photons.asc']\n",
      "['231', 'well', 'A', '2', 'photons.asc']\n",
      "['231', 'well', 'B', '1', 'photons.asc']\n",
      "['231', 'well', 'B', '2', 'photons.asc']\n",
      "['231', 'well', 'C', '1', 'photons.asc']\n",
      "['231', 'well', 'C', '2', 'photons.asc']\n",
      "['231', 'well', 'D', '1', 'photons.asc']\n",
      "['231', 'well', 'D', '2', 'photons.asc']\n",
      "['231', 'well', 'E', '1', 'photons.asc']\n",
      "['231', 'well', 'E', '2', 'photons.asc']\n",
      "['231', 'well', 'F', '1', 'photons.asc']\n",
      "['231', 'well', 'F', '2', 'photons.asc']\n",
      "['231', 'well', 'F', '3', 'photons.asc']\n",
      "['231', 'well', 'G', '1', 'photons.asc']\n",
      "['231', 'well', 'G', '2', 'photons.asc']\n",
      "['231', 'well', 'H', '1', 'photons.asc']\n",
      "['231', 'well', 'H', '2', 'photons.asc']\n",
      "['231', 'well', 'I', '1', 'photons.asc']\n",
      "['231', 'well', 'I', '2', 'photons.asc']\n",
      "['231', 'well', 'J', '1', 'photons.asc']\n",
      "['231', 'well', 'J', '2', 'photons.asc']\n",
      "['231', 'well', 'K', '1', 'photons.asc']\n",
      "['231', 'well', 'K', '2', 'photons.asc']\n",
      "['231', 'well', 'L', '1', 'photons.asc']\n",
      "['231', 'well', 'L', '2', 'photons.asc']\n"
     ]
    }
   ],
   "source": [
    "for i in df.fid.unique():\n",
    "    print i.split('_')\n",
    "    #well= int(i.split('_')[1][:-1])\n",
    "    #print well"
   ]
  },
  {
   "cell_type": "code",
   "execution_count": 562,
   "metadata": {},
   "outputs": [
    {
     "name": "stdout",
     "output_type": "stream",
     "text": [
      "A 10A\n"
     ]
    }
   ],
   "source": [
    "w=[]\n",
    "c=[]\n",
    "for i in df.fid:\n",
    "    #w.append(int(i.split('_')[1][:-1]))\n",
    "    w.append(i.split('_')[2])\n",
    "    c.append(i.split('_')[0])\n",
    "print w[0],c[0]\n",
    "df['cell']=c\n",
    "df['well']=w"
   ]
  },
  {
   "cell_type": "code",
   "execution_count": 563,
   "metadata": {},
   "outputs": [],
   "source": [
    "df['i']=df['Intensity']/df['mask_size']"
   ]
  },
  {
   "cell_type": "code",
   "execution_count": 564,
   "metadata": {},
   "outputs": [],
   "source": [
    "os.chdir(r'D:\\JenuChacko\\20180520_')\n",
    "df.to_csv('results_10A_12well.csv')"
   ]
  },
  {
   "cell_type": "code",
   "execution_count": 565,
   "metadata": {},
   "outputs": [
    {
     "data": {
      "text/plain": [
       "'D:\\\\JenuChacko\\\\20180520_'"
      ]
     },
     "execution_count": 565,
     "metadata": {},
     "output_type": "execute_result"
    }
   ],
   "source": [
    "os.getcwd()"
   ]
  },
  {
   "cell_type": "markdown",
   "metadata": {},
   "source": [
    "## MAY 14\n"
   ]
  },
  {
   "cell_type": "code",
   "execution_count": 496,
   "metadata": {},
   "outputs": [
    {
     "data": {
      "text/plain": [
       "(6095, 20)"
      ]
     },
     "execution_count": 496,
     "metadata": {},
     "output_type": "execute_result"
    }
   ],
   "source": [
    "#os.chdir(r'D:\\JenuChacko\\20180514\\8_WELL')\n",
    "#df1=pd.read_csv('results_10A.csv')\n",
    "#df2=pd.read_csv('results_231.csv')\n",
    "#df=df1.append(df2)\n",
    "\n",
    "os.chdir(r'D:\\JenuChacko\\20180514\\12well')\n",
    "df1=pd.read_csv('results_10A_1.csv')\n",
    "df2=pd.read_csv('results_10A_2.csv')\n",
    "df3=pd.read_csv('results_231_1.csv')\n",
    "df4=pd.read_csv('results_231_2.csv')\n",
    "df=df1.append(df2.append(df3.append(df4)))\n",
    "df.head()\n",
    "df=df.replace('10a','10A')\n",
    "df.shape"
   ]
  },
  {
   "cell_type": "code",
   "execution_count": 497,
   "metadata": {},
   "outputs": [],
   "source": [
    "os.chdir(r'D:\\JenuChacko\\20180514')\n",
    "df.to_csv(r'results_12W_90.csv')"
   ]
  },
  {
   "cell_type": "markdown",
   "metadata": {},
   "source": [
    "## CELL TIME"
   ]
  },
  {
   "cell_type": "code",
   "execution_count": 566,
   "metadata": {},
   "outputs": [],
   "source": [
    "os.chdir(r'D:\\JenuChacko\\20180514\\10a_celltime')\n",
    "df0=pd.read_csv('results_C0.csv')\n",
    "df1=pd.read_csv('results_C1.csv')\n",
    "df3=pd.read_csv('results_C3.csv')\n",
    "df4=pd.read_csv('results_C4.csv')\n",
    "df5=pd.read_csv('results_C5.csv')"
   ]
  },
  {
   "cell_type": "code",
   "execution_count": null,
   "metadata": {},
   "outputs": [],
   "source": [
    "#### 10A cells\n",
    "#C0 1 x2 files in 11.14 - 11:12 =     0\n",
    "#             -- 7 min\n",
    "#C1  5x2+1 files in 11:37 - 11:21 =   0.16 \n",
    "#            -- 2 min\n",
    "# C3 100x2 in  4:55PM-11.39AM    =    5: 16\n",
    "#               -- 11 min \n",
    "#C4 :               5:06            0\n",
    "#                 -- 3 min\n",
    "# C05 : 100x2 - 10:22PM- 5:09PM =     5: 13\n",
    "#                 11 min\n",
    "#C06 : 10:33"
   ]
  },
  {
   "cell_type": "code",
   "execution_count": 567,
   "metadata": {},
   "outputs": [
    {
     "name": "stdout",
     "output_type": "stream",
     "text": [
      "316 3.16\n",
      "313 3.13\n"
     ]
    }
   ],
   "source": [
    "print 5*60 + 16, 316.0/100\n",
    "print 5*60 + 13, 313.0/100"
   ]
  },
  {
   "cell_type": "code",
   "execution_count": 568,
   "metadata": {},
   "outputs": [],
   "source": [
    "df0.RT=df0.time*3.13 #C0\n",
    "df1.RT=df0.RT.max()+ 7+(df1.time*3.13) #C1\n",
    "df3.RT=df1.RT.max()+2+ (df3.time*3.13) #C3\n",
    "df4.RT=df3.RT.max()+11+ (df4.time*3.13) #C4\n",
    "df5.RT=df4.RT.max()+3+ (df5.time*3.13) #C5"
   ]
  },
  {
   "cell_type": "code",
   "execution_count": 569,
   "metadata": {},
   "outputs": [],
   "source": [
    "df=df0.append(df1.append(df3.append(df4.append(df5))))"
   ]
  },
  {
   "cell_type": "code",
   "execution_count": 570,
   "metadata": {},
   "outputs": [
    {
     "data": {
      "text/plain": [
       "[<matplotlib.lines.Line2D at 0x37bf9748>]"
      ]
     },
     "execution_count": 570,
     "metadata": {},
     "output_type": "execute_result"
    }
   ],
   "source": [
    "plot(df.RT.values)"
   ]
  },
  {
   "cell_type": "code",
   "execution_count": 571,
   "metadata": {},
   "outputs": [],
   "source": [
    "os.chdir(r'D:\\JenuChacko\\20180511_\\FLIM_CALIBRATION\\cell_time')\n",
    "dfc=pd.read_csv('results_C.csv')\n",
    "dfd=pd.read_csv('results_D.csv')\n",
    "dfe=pd.read_csv('results_E.csv')"
   ]
  },
  {
   "cell_type": "code",
   "execution_count": 572,
   "metadata": {},
   "outputs": [
    {
     "data": {
      "text/plain": [
       "array([   0. ,    3. ,    4.5,    6. ,    7.5,    9. ,   10.5,   12. ,\n",
       "         13.5,   15. ,   16.5,   18. ,   19.5,   21. ,   22.5,   24. ,\n",
       "         25.5,   27. ,   28.5,    1.5,   30. ,   31.5,   33. ,   34.5,\n",
       "         36. ,   37.5,   39. ,   40.5,   42. ,   43.5,   45. ,   46.5,\n",
       "         48. ,   49.5,   51. ,   52.5,   54. ,   55.5,   57. ,   58.5,\n",
       "         60. ,   61.5,   63. ,   64.5,   66. ,   67.5,   69. ,   70.5,\n",
       "         72. ,   73.5,   75. ,   76.5,   78. ,   79.5,   81. ,   82.5,\n",
       "         84. ,   85.5,   87. ,   88.5,   90. ,   91.5,   93. ,   94.5,\n",
       "         96. ,   97.5,   99. ,  100.5,  102. ,  103.5,  105. ,  106.5,\n",
       "        108. ,  109.5,  111. ,  112.5,  114. ,  115.5,  117. ,  118.5,\n",
       "        120. ,  121.5,  123. ,  124.5,  126. ,  127.5,  129. ,  130.5,\n",
       "        132. ,  133.5,  135. ,  136.5,  138. ,  139.5,  141. ,  142.5,\n",
       "        144. ,  145.5,  147. ,  148.5])"
      ]
     },
     "execution_count": 572,
     "metadata": {},
     "output_type": "execute_result"
    }
   ],
   "source": [
    "dfd.RT.unique()"
   ]
  },
  {
   "cell_type": "code",
   "execution_count": 573,
   "metadata": {},
   "outputs": [],
   "source": [
    "#### 231 cells\n",
    "\n",
    "#C  45 files in 1:51 - 11:36  = 2:15\n",
    "#  -- 6 min\n",
    "#D 100 x2 files in 1:57 - 7:10 = 5;13\n",
    "# -- 3:08\n",
    "#E  60 files in 11:29 - 10:18 = 1:11"
   ]
  },
  {
   "cell_type": "code",
   "execution_count": 574,
   "metadata": {},
   "outputs": [
    {
     "name": "stdout",
     "output_type": "stream",
     "text": [
      "135 3.0\n",
      "313 3.13\n",
      "71 1.18333333333\n"
     ]
    }
   ],
   "source": [
    "print 2*60 + 15, 135.0/45\n",
    "print 5*60 + 13, 313.0/100\n",
    "print 1*60 + 11, 71.0/60"
   ]
  },
  {
   "cell_type": "code",
   "execution_count": 575,
   "metadata": {},
   "outputs": [
    {
     "data": {
      "text/plain": [
       "array([ 0,  2,  3,  4,  5,  6,  7,  8,  9, 10, 11, 12, 13, 14, 15, 16, 17,\n",
       "       18, 19,  1, 20, 21, 22, 23, 24, 25, 26, 27, 28, 29, 30, 31, 32, 33,\n",
       "       34, 35, 36, 37, 38, 39, 40, 41, 42, 43, 44, 45, 46, 47, 48, 49, 50,\n",
       "       51, 52, 53, 54, 55, 56, 57, 58, 59, 60, 61, 62, 63, 64, 65, 66, 67,\n",
       "       68, 69, 70, 71, 72, 73, 74, 75, 76, 77, 78, 79, 80, 81, 82, 83, 84,\n",
       "       85, 86, 87, 88, 89, 90, 91, 92, 93, 94, 95, 96, 97, 98, 99], dtype=int64)"
      ]
     },
     "execution_count": 575,
     "metadata": {},
     "output_type": "execute_result"
    }
   ],
   "source": [
    "dfd.time.unique()"
   ]
  },
  {
   "cell_type": "code",
   "execution_count": 576,
   "metadata": {},
   "outputs": [
    {
     "data": {
      "text/plain": [
       "66.0"
      ]
     },
     "execution_count": 576,
     "metadata": {},
     "output_type": "execute_result"
    }
   ],
   "source": [
    "dfc.RT.max()"
   ]
  },
  {
   "cell_type": "code",
   "execution_count": 577,
   "metadata": {},
   "outputs": [],
   "source": [
    "dfc.RT=dfc.time*3.0\n",
    "dfd.RT=dfc.RT.max()+ 6+(dfd.time*3.13)\n",
    "dfe.RT=dfd.RT.max()+188+ (dfe.time*1.18)"
   ]
  },
  {
   "cell_type": "code",
   "execution_count": 578,
   "metadata": {},
   "outputs": [],
   "source": [
    "df=dfc.append(dfd)\n",
    "df=df.append(dfe)"
   ]
  },
  {
   "cell_type": "code",
   "execution_count": 579,
   "metadata": {},
   "outputs": [],
   "source": [
    "df['rt']=df['RT']/60.0"
   ]
  },
  {
   "cell_type": "code",
   "execution_count": null,
   "metadata": {},
   "outputs": [],
   "source": []
  },
  {
   "cell_type": "code",
   "execution_count": null,
   "metadata": {},
   "outputs": [],
   "source": []
  },
  {
   "cell_type": "markdown",
   "metadata": {},
   "source": [
    "# PLOTTING"
   ]
  },
  {
   "cell_type": "code",
   "execution_count": 59,
   "metadata": {},
   "outputs": [
    {
     "data": {
      "text/plain": [
       "Index([u'Unnamed: 0', u'Intensity', u'a1', u'a1p', u'a1w', u'a2', u'a2p',\n",
       "       u'chi', u'fid', u'g', u'itm', u'mask_size', u'phase', u's', u't1',\n",
       "       u't2', u'tm', u'time', u'sp', u'cell', u'RT', u'rt'],\n",
       "      dtype='object')"
      ]
     },
     "execution_count": 59,
     "metadata": {},
     "output_type": "execute_result"
    }
   ],
   "source": [
    "df.columns"
   ]
  },
  {
   "cell_type": "code",
   "execution_count": 60,
   "metadata": {},
   "outputs": [],
   "source": [
    "df=df.loc[df.sp==0]"
   ]
  },
  {
   "cell_type": "code",
   "execution_count": 71,
   "metadata": {},
   "outputs": [
    {
     "data": {
      "text/plain": [
       "array([0], dtype=int64)"
      ]
     },
     "execution_count": 71,
     "metadata": {},
     "output_type": "execute_result"
    }
   ],
   "source": [
    "df.sp.unique()"
   ]
  },
  {
   "cell_type": "code",
   "execution_count": 62,
   "metadata": {},
   "outputs": [
    {
     "data": {
      "text/plain": [
       "Index([u'Unnamed: 0', u'Intensity', u'a1', u'a1p', u'a1w', u'a2', u'a2p',\n",
       "       u'chi', u'fid', u'g', u'itm', u'mask_size', u'phase', u's', u't1',\n",
       "       u't2', u'tm', u'time', u'sp', u'cell', u'RT', u'rt'],\n",
       "      dtype='object')"
      ]
     },
     "execution_count": 62,
     "metadata": {},
     "output_type": "execute_result"
    }
   ],
   "source": [
    "df.columns"
   ]
  },
  {
   "cell_type": "code",
   "execution_count": 80,
   "metadata": {},
   "outputs": [
    {
     "data": {
      "text/html": [
       "<div>\n",
       "<style scoped>\n",
       "    .dataframe tbody tr th:only-of-type {\n",
       "        vertical-align: middle;\n",
       "    }\n",
       "\n",
       "    .dataframe tbody tr th {\n",
       "        vertical-align: top;\n",
       "    }\n",
       "\n",
       "    .dataframe thead th {\n",
       "        text-align: right;\n",
       "    }\n",
       "</style>\n",
       "<table border=\"1\" class=\"dataframe\">\n",
       "  <thead>\n",
       "    <tr style=\"text-align: right;\">\n",
       "      <th></th>\n",
       "      <th>Unnamed: 0</th>\n",
       "      <th>Unnamed: 0.1</th>\n",
       "      <th>Intensity</th>\n",
       "      <th>a1</th>\n",
       "      <th>a1p</th>\n",
       "      <th>a1w</th>\n",
       "      <th>a2</th>\n",
       "      <th>a2p</th>\n",
       "      <th>chi</th>\n",
       "      <th>fid</th>\n",
       "      <th>...</th>\n",
       "      <th>phase</th>\n",
       "      <th>s</th>\n",
       "      <th>t1</th>\n",
       "      <th>t2</th>\n",
       "      <th>tm</th>\n",
       "      <th>time</th>\n",
       "      <th>sp</th>\n",
       "      <th>cell</th>\n",
       "      <th>RT</th>\n",
       "      <th>rt</th>\n",
       "    </tr>\n",
       "  </thead>\n",
       "  <tbody>\n",
       "    <tr>\n",
       "      <th>0</th>\n",
       "      <td>0</td>\n",
       "      <td>0</td>\n",
       "      <td>26.0</td>\n",
       "      <td>1.000000e-08</td>\n",
       "      <td>0.012818</td>\n",
       "      <td>0.000657</td>\n",
       "      <td>1.000000e-08</td>\n",
       "      <td>0.013835</td>\n",
       "      <td>0.757027</td>\n",
       "      <td>C1_230PC_18khz_90sec_45070nm_10A_20LX075NA_TP0...</td>\n",
       "      <td>...</td>\n",
       "      <td>1.001062</td>\n",
       "      <td>0.042609</td>\n",
       "      <td>20.05475</td>\n",
       "      <td>349.5680</td>\n",
       "      <td>86.19385</td>\n",
       "      <td>0</td>\n",
       "      <td>0</td>\n",
       "      <td>10A</td>\n",
       "      <td>0.0</td>\n",
       "      <td>0.0</td>\n",
       "    </tr>\n",
       "    <tr>\n",
       "      <th>1</th>\n",
       "      <td>1</td>\n",
       "      <td>1</td>\n",
       "      <td>26.0</td>\n",
       "      <td>1.000000e-08</td>\n",
       "      <td>0.014489</td>\n",
       "      <td>0.000921</td>\n",
       "      <td>1.000000e-08</td>\n",
       "      <td>0.015594</td>\n",
       "      <td>0.787779</td>\n",
       "      <td>C1_230PC_18khz_90sec_45070nm_10A_20LX075NA_TP0...</td>\n",
       "      <td>...</td>\n",
       "      <td>1.003395</td>\n",
       "      <td>0.143934</td>\n",
       "      <td>20.84880</td>\n",
       "      <td>459.4565</td>\n",
       "      <td>315.83000</td>\n",
       "      <td>0</td>\n",
       "      <td>0</td>\n",
       "      <td>10A</td>\n",
       "      <td>0.0</td>\n",
       "      <td>0.0</td>\n",
       "    </tr>\n",
       "    <tr>\n",
       "      <th>2</th>\n",
       "      <td>2</td>\n",
       "      <td>2</td>\n",
       "      <td>26.0</td>\n",
       "      <td>1.000000e-08</td>\n",
       "      <td>0.015527</td>\n",
       "      <td>0.001219</td>\n",
       "      <td>1.000000e-08</td>\n",
       "      <td>0.016821</td>\n",
       "      <td>0.802499</td>\n",
       "      <td>C1_230PC_18khz_90sec_45070nm_10A_20LX075NA_TP0...</td>\n",
       "      <td>...</td>\n",
       "      <td>1.005646</td>\n",
       "      <td>0.186424</td>\n",
       "      <td>22.06680</td>\n",
       "      <td>494.6025</td>\n",
       "      <td>403.30900</td>\n",
       "      <td>0</td>\n",
       "      <td>0</td>\n",
       "      <td>10A</td>\n",
       "      <td>0.0</td>\n",
       "      <td>0.0</td>\n",
       "    </tr>\n",
       "    <tr>\n",
       "      <th>3</th>\n",
       "      <td>3</td>\n",
       "      <td>3</td>\n",
       "      <td>26.0</td>\n",
       "      <td>1.000000e-08</td>\n",
       "      <td>0.016312</td>\n",
       "      <td>0.001503</td>\n",
       "      <td>1.000000e-08</td>\n",
       "      <td>0.017821</td>\n",
       "      <td>0.816450</td>\n",
       "      <td>C1_230PC_18khz_90sec_45070nm_10A_20LX075NA_TP0...</td>\n",
       "      <td>...</td>\n",
       "      <td>1.008504</td>\n",
       "      <td>0.203551</td>\n",
       "      <td>24.24980</td>\n",
       "      <td>520.3915</td>\n",
       "      <td>433.18350</td>\n",
       "      <td>0</td>\n",
       "      <td>0</td>\n",
       "      <td>10A</td>\n",
       "      <td>0.0</td>\n",
       "      <td>0.0</td>\n",
       "    </tr>\n",
       "    <tr>\n",
       "      <th>4</th>\n",
       "      <td>4</td>\n",
       "      <td>4</td>\n",
       "      <td>26.0</td>\n",
       "      <td>1.000000e-08</td>\n",
       "      <td>0.017291</td>\n",
       "      <td>0.001928</td>\n",
       "      <td>1.000000e-08</td>\n",
       "      <td>0.018850</td>\n",
       "      <td>0.827159</td>\n",
       "      <td>C1_230PC_18khz_90sec_45070nm_10A_20LX075NA_TP0...</td>\n",
       "      <td>...</td>\n",
       "      <td>1.011177</td>\n",
       "      <td>0.211051</td>\n",
       "      <td>27.48730</td>\n",
       "      <td>537.5440</td>\n",
       "      <td>454.32000</td>\n",
       "      <td>0</td>\n",
       "      <td>0</td>\n",
       "      <td>10A</td>\n",
       "      <td>0.0</td>\n",
       "      <td>0.0</td>\n",
       "    </tr>\n",
       "  </tbody>\n",
       "</table>\n",
       "<p>5 rows × 23 columns</p>\n",
       "</div>"
      ],
      "text/plain": [
       "   Unnamed: 0  Unnamed: 0.1  Intensity            a1       a1p       a1w  \\\n",
       "0           0             0       26.0  1.000000e-08  0.012818  0.000657   \n",
       "1           1             1       26.0  1.000000e-08  0.014489  0.000921   \n",
       "2           2             2       26.0  1.000000e-08  0.015527  0.001219   \n",
       "3           3             3       26.0  1.000000e-08  0.016312  0.001503   \n",
       "4           4             4       26.0  1.000000e-08  0.017291  0.001928   \n",
       "\n",
       "             a2       a2p       chi  \\\n",
       "0  1.000000e-08  0.013835  0.757027   \n",
       "1  1.000000e-08  0.015594  0.787779   \n",
       "2  1.000000e-08  0.016821  0.802499   \n",
       "3  1.000000e-08  0.017821  0.816450   \n",
       "4  1.000000e-08  0.018850  0.827159   \n",
       "\n",
       "                                                 fid ...      phase         s  \\\n",
       "0  C1_230PC_18khz_90sec_45070nm_10A_20LX075NA_TP0... ...   1.001062  0.042609   \n",
       "1  C1_230PC_18khz_90sec_45070nm_10A_20LX075NA_TP0... ...   1.003395  0.143934   \n",
       "2  C1_230PC_18khz_90sec_45070nm_10A_20LX075NA_TP0... ...   1.005646  0.186424   \n",
       "3  C1_230PC_18khz_90sec_45070nm_10A_20LX075NA_TP0... ...   1.008504  0.203551   \n",
       "4  C1_230PC_18khz_90sec_45070nm_10A_20LX075NA_TP0... ...   1.011177  0.211051   \n",
       "\n",
       "         t1        t2         tm  time  sp  cell   RT   rt  \n",
       "0  20.05475  349.5680   86.19385     0   0   10A  0.0  0.0  \n",
       "1  20.84880  459.4565  315.83000     0   0   10A  0.0  0.0  \n",
       "2  22.06680  494.6025  403.30900     0   0   10A  0.0  0.0  \n",
       "3  24.24980  520.3915  433.18350     0   0   10A  0.0  0.0  \n",
       "4  27.48730  537.5440  454.32000     0   0   10A  0.0  0.0  \n",
       "\n",
       "[5 rows x 23 columns]"
      ]
     },
     "execution_count": 80,
     "metadata": {},
     "output_type": "execute_result"
    }
   ],
   "source": [
    "df.head()"
   ]
  },
  {
   "cell_type": "code",
   "execution_count": 580,
   "metadata": {},
   "outputs": [
    {
     "data": {
      "text/html": [
       "<div>\n",
       "<style scoped>\n",
       "    .dataframe tbody tr th:only-of-type {\n",
       "        vertical-align: middle;\n",
       "    }\n",
       "\n",
       "    .dataframe tbody tr th {\n",
       "        vertical-align: top;\n",
       "    }\n",
       "\n",
       "    .dataframe thead th {\n",
       "        text-align: right;\n",
       "    }\n",
       "</style>\n",
       "<table border=\"1\" class=\"dataframe\">\n",
       "  <thead>\n",
       "    <tr style=\"text-align: right;\">\n",
       "      <th></th>\n",
       "      <th>RT</th>\n",
       "      <th>cell</th>\n",
       "      <th>Unnamed: 0</th>\n",
       "      <th>Intensity</th>\n",
       "      <th>a1</th>\n",
       "      <th>a1p</th>\n",
       "      <th>a1w</th>\n",
       "      <th>a2</th>\n",
       "      <th>a2p</th>\n",
       "      <th>chi</th>\n",
       "      <th>...</th>\n",
       "      <th>itm</th>\n",
       "      <th>mask_size</th>\n",
       "      <th>phase</th>\n",
       "      <th>s</th>\n",
       "      <th>t1</th>\n",
       "      <th>t2</th>\n",
       "      <th>tm</th>\n",
       "      <th>time</th>\n",
       "      <th>sp</th>\n",
       "      <th>rt</th>\n",
       "    </tr>\n",
       "  </thead>\n",
       "  <tbody>\n",
       "    <tr>\n",
       "      <th>0</th>\n",
       "      <td>0.0</td>\n",
       "      <td>231</td>\n",
       "      <td>124.0</td>\n",
       "      <td>35.0</td>\n",
       "      <td>0.000121</td>\n",
       "      <td>81.514450</td>\n",
       "      <td>50.687055</td>\n",
       "      <td>0.000035</td>\n",
       "      <td>18.456600</td>\n",
       "      <td>1.014035</td>\n",
       "      <td>...</td>\n",
       "      <td>1360.943358</td>\n",
       "      <td>12478.0</td>\n",
       "      <td>3.636730</td>\n",
       "      <td>0.331336</td>\n",
       "      <td>640.11350</td>\n",
       "      <td>2126.715</td>\n",
       "      <td>922.16100</td>\n",
       "      <td>0.0</td>\n",
       "      <td>0.0</td>\n",
       "      <td>0.00</td>\n",
       "    </tr>\n",
       "    <tr>\n",
       "      <th>1</th>\n",
       "      <td>3.0</td>\n",
       "      <td>231</td>\n",
       "      <td>124.0</td>\n",
       "      <td>36.0</td>\n",
       "      <td>0.000129</td>\n",
       "      <td>81.557150</td>\n",
       "      <td>48.393663</td>\n",
       "      <td>0.000039</td>\n",
       "      <td>18.441550</td>\n",
       "      <td>1.018680</td>\n",
       "      <td>...</td>\n",
       "      <td>1370.387613</td>\n",
       "      <td>12453.0</td>\n",
       "      <td>3.762666</td>\n",
       "      <td>0.322794</td>\n",
       "      <td>600.41350</td>\n",
       "      <td>2159.580</td>\n",
       "      <td>918.24150</td>\n",
       "      <td>1.0</td>\n",
       "      <td>0.0</td>\n",
       "      <td>0.05</td>\n",
       "    </tr>\n",
       "    <tr>\n",
       "      <th>2</th>\n",
       "      <td>6.0</td>\n",
       "      <td>231</td>\n",
       "      <td>123.5</td>\n",
       "      <td>36.5</td>\n",
       "      <td>0.000129</td>\n",
       "      <td>81.520650</td>\n",
       "      <td>48.199511</td>\n",
       "      <td>0.000039</td>\n",
       "      <td>18.453675</td>\n",
       "      <td>1.025562</td>\n",
       "      <td>...</td>\n",
       "      <td>1374.422147</td>\n",
       "      <td>12431.0</td>\n",
       "      <td>3.750400</td>\n",
       "      <td>0.323011</td>\n",
       "      <td>606.28525</td>\n",
       "      <td>2152.290</td>\n",
       "      <td>913.39750</td>\n",
       "      <td>2.0</td>\n",
       "      <td>0.0</td>\n",
       "      <td>0.10</td>\n",
       "    </tr>\n",
       "    <tr>\n",
       "      <th>3</th>\n",
       "      <td>9.0</td>\n",
       "      <td>231</td>\n",
       "      <td>125.0</td>\n",
       "      <td>37.0</td>\n",
       "      <td>0.000132</td>\n",
       "      <td>81.558150</td>\n",
       "      <td>47.521233</td>\n",
       "      <td>0.000041</td>\n",
       "      <td>18.402700</td>\n",
       "      <td>1.015230</td>\n",
       "      <td>...</td>\n",
       "      <td>1359.162189</td>\n",
       "      <td>12597.0</td>\n",
       "      <td>3.835888</td>\n",
       "      <td>0.312314</td>\n",
       "      <td>554.61800</td>\n",
       "      <td>2120.280</td>\n",
       "      <td>895.97050</td>\n",
       "      <td>3.0</td>\n",
       "      <td>0.0</td>\n",
       "      <td>0.15</td>\n",
       "    </tr>\n",
       "    <tr>\n",
       "      <th>4</th>\n",
       "      <td>12.0</td>\n",
       "      <td>231</td>\n",
       "      <td>125.5</td>\n",
       "      <td>36.0</td>\n",
       "      <td>0.000133</td>\n",
       "      <td>81.852275</td>\n",
       "      <td>48.813666</td>\n",
       "      <td>0.000040</td>\n",
       "      <td>18.125425</td>\n",
       "      <td>1.024317</td>\n",
       "      <td>...</td>\n",
       "      <td>1338.320865</td>\n",
       "      <td>12626.0</td>\n",
       "      <td>3.780006</td>\n",
       "      <td>0.315434</td>\n",
       "      <td>577.94450</td>\n",
       "      <td>2118.680</td>\n",
       "      <td>901.13325</td>\n",
       "      <td>4.0</td>\n",
       "      <td>0.0</td>\n",
       "      <td>0.20</td>\n",
       "    </tr>\n",
       "  </tbody>\n",
       "</table>\n",
       "<p>5 rows × 21 columns</p>\n",
       "</div>"
      ],
      "text/plain": [
       "     RT  cell  Unnamed: 0  Intensity        a1        a1p        a1w  \\\n",
       "0   0.0   231       124.0       35.0  0.000121  81.514450  50.687055   \n",
       "1   3.0   231       124.0       36.0  0.000129  81.557150  48.393663   \n",
       "2   6.0   231       123.5       36.5  0.000129  81.520650  48.199511   \n",
       "3   9.0   231       125.0       37.0  0.000132  81.558150  47.521233   \n",
       "4  12.0   231       125.5       36.0  0.000133  81.852275  48.813666   \n",
       "\n",
       "         a2        a2p       chi  ...           itm  mask_size     phase  \\\n",
       "0  0.000035  18.456600  1.014035  ...   1360.943358    12478.0  3.636730   \n",
       "1  0.000039  18.441550  1.018680  ...   1370.387613    12453.0  3.762666   \n",
       "2  0.000039  18.453675  1.025562  ...   1374.422147    12431.0  3.750400   \n",
       "3  0.000041  18.402700  1.015230  ...   1359.162189    12597.0  3.835888   \n",
       "4  0.000040  18.125425  1.024317  ...   1338.320865    12626.0  3.780006   \n",
       "\n",
       "          s         t1        t2         tm  time   sp    rt  \n",
       "0  0.331336  640.11350  2126.715  922.16100   0.0  0.0  0.00  \n",
       "1  0.322794  600.41350  2159.580  918.24150   1.0  0.0  0.05  \n",
       "2  0.323011  606.28525  2152.290  913.39750   2.0  0.0  0.10  \n",
       "3  0.312314  554.61800  2120.280  895.97050   3.0  0.0  0.15  \n",
       "4  0.315434  577.94450  2118.680  901.13325   4.0  0.0  0.20  \n",
       "\n",
       "[5 rows x 21 columns]"
      ]
     },
     "execution_count": 580,
     "metadata": {},
     "output_type": "execute_result"
    }
   ],
   "source": [
    "dfa=df.groupby(['RT','cell']).median()\n",
    "dfa=dfa.reset_index()\n",
    "#dfa\n",
    "dfa.head()"
   ]
  },
  {
   "cell_type": "code",
   "execution_count": 582,
   "metadata": {},
   "outputs": [
    {
     "data": {
      "text/plain": [
       "<seaborn.axisgrid.FacetGrid at 0x371750f0>"
      ]
     },
     "execution_count": 582,
     "metadata": {},
     "output_type": "execute_result"
    }
   ],
   "source": [
    "sns.lmplot('rt','Intensity',hue='cell',data=dfa)\n",
    "sns.lmplot('rt','tm',hue='cell',data=dfa)"
   ]
  },
  {
   "cell_type": "code",
   "execution_count": 86,
   "metadata": {},
   "outputs": [
    {
     "data": {
      "text/plain": [
       "<matplotlib.axes._subplots.AxesSubplot at 0x2e30e4a8>"
      ]
     },
     "execution_count": 86,
     "metadata": {},
     "output_type": "execute_result"
    }
   ],
   "source": [
    "sns.regplot('RT','t2',data=dfa)\n",
    "sns.regplot('RT','t1',data=dfa)"
   ]
  },
  {
   "cell_type": "code",
   "execution_count": 87,
   "metadata": {},
   "outputs": [
    {
     "data": {
      "text/plain": [
       "Index([u'RT', u'Intensity', u'a1', u'a1p', u'a1w', u'a2', u'a2p', u'chi', u'g',\n",
       "       u'itm', u'mask_size', u'phase', u's', u't1', u't2', u'tm', u'time'],\n",
       "      dtype='object')"
      ]
     },
     "execution_count": 87,
     "metadata": {},
     "output_type": "execute_result"
    }
   ],
   "source": [
    "dfa.columns"
   ]
  },
  {
   "cell_type": "code",
   "execution_count": 87,
   "metadata": {},
   "outputs": [
    {
     "data": {
      "text/plain": [
       "<matplotlib.axes._subplots.AxesSubplot at 0x2ed16358>"
      ]
     },
     "execution_count": 87,
     "metadata": {},
     "output_type": "execute_result"
    }
   ],
   "source": [
    "#sns.regplot('RT','phase',data=dfa)\n",
    "sns.regplot('RT','itm',data=dfa)"
   ]
  },
  {
   "cell_type": "code",
   "execution_count": 88,
   "metadata": {},
   "outputs": [
    {
     "data": {
      "text/plain": [
       "<matplotlib.axes._subplots.AxesSubplot at 0x2e5152e8>"
      ]
     },
     "execution_count": 88,
     "metadata": {},
     "output_type": "execute_result"
    }
   ],
   "source": [
    "sns.countplot(x='mask_size',data=dfa,palette='Greens_d')"
   ]
  },
  {
   "cell_type": "code",
   "execution_count": 89,
   "metadata": {},
   "outputs": [],
   "source": [
    "sns.lmplot('g','s',hue='time',data=dfa,fit_reg=False,palette='RdBu')\n",
    "gt.plot_univ_circle_v1()"
   ]
  },
  {
   "cell_type": "code",
   "execution_count": 90,
   "metadata": {},
   "outputs": [
    {
     "data": {
      "text/plain": [
       "(412, 22)"
      ]
     },
     "execution_count": 90,
     "metadata": {},
     "output_type": "execute_result"
    }
   ],
   "source": [
    "dfa.shape"
   ]
  },
  {
   "cell_type": "code",
   "execution_count": 91,
   "metadata": {},
   "outputs": [
    {
     "data": {
      "text/plain": [
       "<matplotlib.axes._subplots.AxesSubplot at 0x30c370f0>"
      ]
     },
     "execution_count": 91,
     "metadata": {},
     "output_type": "execute_result"
    }
   ],
   "source": [
    "sns.pointplot('rt','tm',data=df.loc[df.rt<5],palette='RdBu',capsize=.2)"
   ]
  },
  {
   "cell_type": "code",
   "execution_count": 66,
   "metadata": {},
   "outputs": [],
   "source": [
    "os.chdir(r'D:\\JenuChacko\\20180511_\\FLIM_CALIBRATION\\mink_pyc')"
   ]
  },
  {
   "cell_type": "code",
   "execution_count": 67,
   "metadata": {},
   "outputs": [
    {
     "data": {
      "text/plain": [
       "(142836, 23)"
      ]
     },
     "execution_count": 67,
     "metadata": {},
     "output_type": "execute_result"
    }
   ],
   "source": [
    "df=pd.read_csv('10Acells.csv')\n",
    "df=df.append(pd.read_csv('231cells.csv'))\n",
    "df.shape"
   ]
  },
  {
   "cell_type": "code",
   "execution_count": 112,
   "metadata": {},
   "outputs": [
    {
     "data": {
      "text/plain": [
       "<matplotlib.axes._subplots.AxesSubplot at 0x3bb8a3c8>"
      ]
     },
     "execution_count": 112,
     "metadata": {},
     "output_type": "execute_result"
    }
   ],
   "source": [
    "sns.barplot('cell','a2',data=dfa)"
   ]
  },
  {
   "cell_type": "code",
   "execution_count": 116,
   "metadata": {},
   "outputs": [
    {
     "data": {
      "text/plain": [
       "[0, 1, 0, 1]"
      ]
     },
     "execution_count": 116,
     "metadata": {},
     "output_type": "execute_result"
    }
   ],
   "source": [
    "sns.lmplot('g','s',hue='cell',data=dfa,palette='RdBu',fit_reg=False)\n",
    "#gt.plot_univ_circle_v1()\n",
    "axis([0,1,0,1])"
   ]
  },
  {
   "cell_type": "code",
   "execution_count": 131,
   "metadata": {},
   "outputs": [
    {
     "data": {
      "text/plain": [
       "<seaborn.axisgrid.FacetGrid at 0x3d206240>"
      ]
     },
     "execution_count": 131,
     "metadata": {},
     "output_type": "execute_result"
    }
   ],
   "source": [
    "sns.lmplot('RT','phase',hue='cell',hue_order=['231','10A'],data=dfa,\n",
    "           palette='Set1',fit_reg=False)\n"
   ]
  },
  {
   "cell_type": "code",
   "execution_count": 129,
   "metadata": {},
   "outputs": [
    {
     "name": "stdout",
     "output_type": "stream",
     "text": [
      "Unnamed: 0\n",
      "Unnamed: 0.1\n",
      "Intensity\n",
      "a1\n",
      "a1p\n",
      "a1w\n",
      "a2\n",
      "a2p\n",
      "chi\n",
      "fid\n",
      "g\n",
      "itm\n",
      "mask_size\n",
      "phase\n",
      "s\n",
      "t1\n",
      "t2\n",
      "tm\n",
      "time\n",
      "sp\n",
      "cell\n",
      "RT\n",
      "rt\n"
     ]
    }
   ],
   "source": [
    "for i in df.columns:\n",
    "    print i\n"
   ]
  },
  {
   "cell_type": "code",
   "execution_count": 100,
   "metadata": {},
   "outputs": [],
   "source": [
    "dfa=df.groupby(['well','cell']).mean()\n",
    "dfa.reset_index(inplace=True)"
   ]
  },
  {
   "cell_type": "code",
   "execution_count": 85,
   "metadata": {},
   "outputs": [],
   "source": [
    "sns.lmplot('g','s',hue='cell',col='well',data=dfa,fit_reg=False,palette='RdBu')\n",
    "gt.plot_univ_circle_v1()"
   ]
  },
  {
   "cell_type": "code",
   "execution_count": 101,
   "metadata": {},
   "outputs": [
    {
     "data": {
      "text/plain": [
       "<matplotlib.axes._subplots.AxesSubplot at 0x245415c0>"
      ]
     },
     "execution_count": 101,
     "metadata": {},
     "output_type": "execute_result"
    }
   ],
   "source": [
    "sns.boxplot('well','tm',hue='cell',data=df,palette='muted')"
   ]
  },
  {
   "cell_type": "code",
   "execution_count": 82,
   "metadata": {},
   "outputs": [
    {
     "data": {
      "text/plain": [
       "<matplotlib.axes._subplots.AxesSubplot at 0x2d78b2e8>"
      ]
     },
     "execution_count": 82,
     "metadata": {},
     "output_type": "execute_result"
    }
   ],
   "source": [
    "sns.barplot('well','a1w',hue='cell',data=dfa,palette='Set1')"
   ]
  },
  {
   "cell_type": "code",
   "execution_count": 287,
   "metadata": {},
   "outputs": [
    {
     "data": {
      "text/plain": [
       "Index([u'Intensity', u'a1', u'a1p', u'a1w', u'a2', u'a2p', u'cell', u'chi',\n",
       "       u'fid', u'g', u'itm', u'mask_size', u'phase', u's', u't1', u't2',\n",
       "       u'time', u'tm', u'well', u'well_size'],\n",
       "      dtype='object')"
      ]
     },
     "execution_count": 287,
     "metadata": {},
     "output_type": "execute_result"
    }
   ],
   "source": [
    "df.columns"
   ]
  },
  {
   "cell_type": "markdown",
   "metadata": {},
   "source": [
    "## PLOT for  LARGE \"data.csv\""
   ]
  },
  {
   "cell_type": "code",
   "execution_count": 504,
   "metadata": {},
   "outputs": [],
   "source": [
    "df['i']=df['Intensity']/df['mask_size']"
   ]
  },
  {
   "cell_type": "code",
   "execution_count": 508,
   "metadata": {},
   "outputs": [],
   "source": [
    "dfa=df.groupby(['well','cell','well_size','time','Day']).mean()\n",
    "dfa.reset_index(inplace=True)"
   ]
  },
  {
   "cell_type": "code",
   "execution_count": 509,
   "metadata": {},
   "outputs": [
    {
     "data": {
      "text/plain": [
       "(90, 21)"
      ]
     },
     "execution_count": 509,
     "metadata": {},
     "output_type": "execute_result"
    }
   ],
   "source": [
    "dfa.shape"
   ]
  },
  {
   "cell_type": "code",
   "execution_count": 353,
   "metadata": {},
   "outputs": [],
   "source": [
    "#sns.barplot('well','a1w',hue='cell',data=dfa,palette='Set1')"
   ]
  },
  {
   "cell_type": "code",
   "execution_count": 510,
   "metadata": {},
   "outputs": [
    {
     "data": {
      "text/plain": [
       "array(['12x', '8x'], dtype=object)"
      ]
     },
     "execution_count": 510,
     "metadata": {},
     "output_type": "execute_result"
    }
   ],
   "source": [
    "dfa.well_size.unique()"
   ]
  },
  {
   "cell_type": "code",
   "execution_count": 511,
   "metadata": {},
   "outputs": [
    {
     "data": {
      "text/plain": [
       "<seaborn.axisgrid.FacetGrid at 0x3683eeb8>"
      ]
     },
     "execution_count": 511,
     "metadata": {},
     "output_type": "execute_result"
    }
   ],
   "source": [
    "sns.lmplot('g','s',hue='well',\n",
    "           row='cell',col='time',\n",
    "           data=dfa.loc[(dfa.well_size=='12x')],\n",
    "           palette='RdBu',fit_reg=False)\n",
    "#gt.plot_univ_circle_v1()"
   ]
  },
  {
   "cell_type": "code",
   "execution_count": 538,
   "metadata": {},
   "outputs": [],
   "source": [
    "#matplotlib.style.use('ggplot')\n",
    "matplotlib.style.use('bmh')\n"
   ]
  },
  {
   "cell_type": "code",
   "execution_count": 384,
   "metadata": {},
   "outputs": [],
   "source": [
    "#dfa.loc[dfa.cell=='231']"
   ]
  },
  {
   "cell_type": "code",
   "execution_count": 441,
   "metadata": {},
   "outputs": [
    {
     "data": {
      "text/plain": [
       "<seaborn.axisgrid.FacetGrid at 0x49763d30>"
      ]
     },
     "execution_count": 441,
     "metadata": {},
     "output_type": "execute_result"
    }
   ],
   "source": [
    "sns.lmplot('a1p','tm',hue='well',\n",
    "           row='cell',col='time',\n",
    "           data=dfa.loc[(dfa.well_size=='12x')&(dfa.a1p>0)],\n",
    "           palette='PuBuGn_d',fit_reg=False)"
   ]
  },
  {
   "cell_type": "code",
   "execution_count": 442,
   "metadata": {},
   "outputs": [
    {
     "data": {
      "text/plain": [
       "array([  45.93,   78.75,  140.07])"
      ]
     },
     "execution_count": 442,
     "metadata": {},
     "output_type": "execute_result"
    }
   ],
   "source": [
    "df.time.unique()"
   ]
  },
  {
   "cell_type": "code",
   "execution_count": 449,
   "metadata": {},
   "outputs": [
    {
     "name": "stdout",
     "output_type": "stream",
     "text": [
      "(9748, 24)\n"
     ]
    },
    {
     "data": {
      "text/plain": [
       "<matplotlib.axes._subplots.AxesSubplot at 0x2c6f9be0>"
      ]
     },
     "execution_count": 449,
     "metadata": {},
     "output_type": "execute_result"
    }
   ],
   "source": [
    "figure()\n",
    "dfs=df.loc[(df.well_size=='8x')&(df.Day==4)]\n",
    "print dfs.shape\n",
    "order_2plot=list(dfs.well.unique())\n",
    "order_2plot.sort()\n",
    "sns.pointplot(x='well',y='tm',data=dfs,hue='cell',\n",
    "            order=order_2plot,            \n",
    "            palette='muted')"
   ]
  },
  {
   "cell_type": "code",
   "execution_count": 512,
   "metadata": {},
   "outputs": [],
   "source": [
    "g = sns.factorplot(x=\"well\", y=\"tm\",\n",
    "                   hue=\"cell\", col=\"well_size\",row='time',\n",
    "                   data=df,\n",
    "                   kind=\"strip\",jitter=.3,split=True,marker='.')"
   ]
  },
  {
   "cell_type": "code",
   "execution_count": 455,
   "metadata": {},
   "outputs": [],
   "source": [
    "g = sns.factorplot(x=\"well\", y=\"tm\",\n",
    "                   hue=\"cell\",hue_order=['231','10A'],col=\"well_size\",row='time',\n",
    "                   data=df,palette='Set1',\n",
    "                   kind=\"violin\",split=True,marker='.')"
   ]
  },
  {
   "cell_type": "code",
   "execution_count": 513,
   "metadata": {},
   "outputs": [
    {
     "data": {
      "text/plain": [
       "((36543, 22), (90, 21))"
      ]
     },
     "execution_count": 513,
     "metadata": {},
     "output_type": "execute_result"
    }
   ],
   "source": [
    "df.shape,dfa.shape"
   ]
  },
  {
   "cell_type": "code",
   "execution_count": 83,
   "metadata": {},
   "outputs": [],
   "source": [
    "dfa=df.groupby(['well','cell','fid']).mean()\n",
    "dfa.reset_index(inplace=True)"
   ]
  },
  {
   "cell_type": "code",
   "execution_count": 96,
   "metadata": {},
   "outputs": [
    {
     "name": "stdout",
     "output_type": "stream",
     "text": [
      "[  20   40   80  120  160  200  400  800 1200 1600 2000 2400]\n",
      "['L' 'K' 'J' 'I' 'H' 'G' 'F' 'E' 'D' 'C' 'B' 'A']\n"
     ]
    }
   ],
   "source": []
  },
  {
   "cell_type": "code",
   "execution_count": 28,
   "metadata": {},
   "outputs": [],
   "source": [
    "g = sns.factorplot(x=\"well\", y=\"tm\",\n",
    "                   hue=\"cell\",\n",
    "                   data=dfa,palette='Set1',\n",
    "                   kind=\"point\",jitter=.3,split=True,marker='.')"
   ]
  },
  {
   "cell_type": "code",
   "execution_count": 514,
   "metadata": {},
   "outputs": [],
   "source": [
    "os.chdir(r'D:\\JenuChacko\\20180517_conf')\n",
    "df_18may=pd.read_csv('data.csv')"
   ]
  },
  {
   "cell_type": "code",
   "execution_count": 515,
   "metadata": {},
   "outputs": [],
   "source": [
    "dfB=df_18may.loc[df_18may.well_size=='12x']\n",
    "dfb=dfB.groupby(['well','cell','fid','time']).mean()\n",
    "dfb.reset_index(inplace=True)"
   ]
  },
  {
   "cell_type": "code",
   "execution_count": 516,
   "metadata": {},
   "outputs": [
    {
     "data": {
      "text/plain": [
       "((23218, 23), (85, 22), (90, 21))"
      ]
     },
     "execution_count": 516,
     "metadata": {},
     "output_type": "execute_result"
    }
   ],
   "source": [
    "dfB.shape,dfb.shape,dfa.shape"
   ]
  },
  {
   "cell_type": "code",
   "execution_count": 517,
   "metadata": {},
   "outputs": [
    {
     "ename": "AttributeError",
     "evalue": "'DataFrame' object has no attribute 'Well'",
     "output_type": "error",
     "traceback": [
      "\u001b[1;31m---------------------------------------------------------------------------\u001b[0m",
      "\u001b[1;31mAttributeError\u001b[0m                            Traceback (most recent call last)",
      "\u001b[1;32m<ipython-input-517-2078caf08e6e>\u001b[0m in \u001b[0;36m<module>\u001b[1;34m()\u001b[0m\n\u001b[0;32m      4\u001b[0m                    kind=\"point\",jitter=.3,split=True,marker='.')\n\u001b[0;32m      5\u001b[0m \u001b[1;33m\u001b[0m\u001b[0m\n\u001b[1;32m----> 6\u001b[1;33m \u001b[0morder_2plot\u001b[0m\u001b[1;33m=\u001b[0m\u001b[0mlist\u001b[0m\u001b[1;33m(\u001b[0m\u001b[0mdfa\u001b[0m\u001b[1;33m.\u001b[0m\u001b[0mWell\u001b[0m\u001b[1;33m.\u001b[0m\u001b[0munique\u001b[0m\u001b[1;33m(\u001b[0m\u001b[1;33m)\u001b[0m\u001b[1;33m)\u001b[0m\u001b[1;33m\u001b[0m\u001b[0m\n\u001b[0m\u001b[0;32m      7\u001b[0m \u001b[0morder_2plot\u001b[0m\u001b[1;33m.\u001b[0m\u001b[0msort\u001b[0m\u001b[1;33m(\u001b[0m\u001b[1;33m)\u001b[0m\u001b[1;33m\u001b[0m\u001b[0m\n\u001b[0;32m      8\u001b[0m \u001b[1;33m\u001b[0m\u001b[0m\n",
      "\u001b[1;32mc:\\python27\\lib\\site-packages\\pandas\\core\\generic.pyc\u001b[0m in \u001b[0;36m__getattr__\u001b[1;34m(self, name)\u001b[0m\n\u001b[0;32m   3612\u001b[0m             \u001b[1;32mif\u001b[0m \u001b[0mname\u001b[0m \u001b[1;32min\u001b[0m \u001b[0mself\u001b[0m\u001b[1;33m.\u001b[0m\u001b[0m_info_axis\u001b[0m\u001b[1;33m:\u001b[0m\u001b[1;33m\u001b[0m\u001b[0m\n\u001b[0;32m   3613\u001b[0m                 \u001b[1;32mreturn\u001b[0m \u001b[0mself\u001b[0m\u001b[1;33m[\u001b[0m\u001b[0mname\u001b[0m\u001b[1;33m]\u001b[0m\u001b[1;33m\u001b[0m\u001b[0m\n\u001b[1;32m-> 3614\u001b[1;33m             \u001b[1;32mreturn\u001b[0m \u001b[0mobject\u001b[0m\u001b[1;33m.\u001b[0m\u001b[0m__getattribute__\u001b[0m\u001b[1;33m(\u001b[0m\u001b[0mself\u001b[0m\u001b[1;33m,\u001b[0m \u001b[0mname\u001b[0m\u001b[1;33m)\u001b[0m\u001b[1;33m\u001b[0m\u001b[0m\n\u001b[0m\u001b[0;32m   3615\u001b[0m \u001b[1;33m\u001b[0m\u001b[0m\n\u001b[0;32m   3616\u001b[0m     \u001b[1;32mdef\u001b[0m \u001b[0m__setattr__\u001b[0m\u001b[1;33m(\u001b[0m\u001b[0mself\u001b[0m\u001b[1;33m,\u001b[0m \u001b[0mname\u001b[0m\u001b[1;33m,\u001b[0m \u001b[0mvalue\u001b[0m\u001b[1;33m)\u001b[0m\u001b[1;33m:\u001b[0m\u001b[1;33m\u001b[0m\u001b[0m\n",
      "\u001b[1;31mAttributeError\u001b[0m: 'DataFrame' object has no attribute 'Well'"
     ]
    }
   ],
   "source": [
    "g = sns.factorplot(x=\"well\", y=\"tm\",\n",
    "                   hue=\"cell\",row='time',\n",
    "                   data=dfB,palette='Set1',\n",
    "                   kind=\"point\",jitter=.3,split=True,marker='.')\n",
    "\n",
    "order_2plot=list(dfa.Well.unique())\n",
    "order_2plot.sort()\n",
    "\n",
    "g = sns.factorplot(x=\"Well\", y=\"tm\",\n",
    "                   hue=\"cell\",\n",
    "                   order=order_2plot,\n",
    "                   data=dfa,palette='Set1',\n",
    "                   kind=\"point\",jitter=.3,split=True,marker='.')"
   ]
  },
  {
   "cell_type": "code",
   "execution_count": 58,
   "metadata": {},
   "outputs": [],
   "source": [
    "#dfa2 = dfa.sort_index(dfa['Well']).reset_index()"
   ]
  },
  {
   "cell_type": "code",
   "execution_count": 139,
   "metadata": {},
   "outputs": [],
   "source": [
    "dfa=df.groupby(['Well','cell','fid']).mean()\n",
    "dfa.reset_index(inplace=True)"
   ]
  },
  {
   "cell_type": "code",
   "execution_count": 140,
   "metadata": {},
   "outputs": [],
   "source": [
    "order_2plot=list(dfa.Well.unique())\n",
    "order_2plot.sort()\n",
    "\n",
    "g = sns.factorplot(x=\"Well\", y=\"g\",\n",
    "                   hue=\"cell\",\n",
    "                   order=order_2plot,\n",
    "                   data=dfa,palette='Set1',\n",
    "                   kind=\"point\",jitter=.3,split=True,marker='.')"
   ]
  },
  {
   "cell_type": "code",
   "execution_count": 142,
   "metadata": {},
   "outputs": [
    {
     "data": {
      "text/plain": [
       "<seaborn.axisgrid.FacetGrid at 0x2380e940>"
      ]
     },
     "execution_count": 142,
     "metadata": {},
     "output_type": "execute_result"
    }
   ],
   "source": [
    "sns.lmplot('a1p','tm',hue='Well',\n",
    "           col='cell',\n",
    "           data=dfa,\n",
    "           palette='PuBuGn_d',fit_reg=False)"
   ]
  },
  {
   "cell_type": "code",
   "execution_count": 147,
   "metadata": {},
   "outputs": [
    {
     "data": {
      "text/plain": [
       "(48, 19)"
      ]
     },
     "execution_count": 147,
     "metadata": {},
     "output_type": "execute_result"
    }
   ],
   "source": [
    "dfa=df.groupby(['Well','cell']).mean()\n",
    "dfa.reset_index(inplace=True)\n",
    "dfa.shape"
   ]
  },
  {
   "cell_type": "code",
   "execution_count": 458,
   "metadata": {},
   "outputs": [
    {
     "data": {
      "text/plain": [
       "(48, 4)"
      ]
     },
     "execution_count": 458,
     "metadata": {},
     "output_type": "execute_result"
    }
   ],
   "source": [
    "os.chdir(r'L:\\ORGANIZED_DATA\\CONFLUENCY\\20171013_confluency')\n",
    "dfaa=pd.read_excel('20171027_output.xlsx')\n",
    "dfaa.shape"
   ]
  },
  {
   "cell_type": "code",
   "execution_count": 459,
   "metadata": {},
   "outputs": [
    {
     "data": {
      "text/html": [
       "<div>\n",
       "<style scoped>\n",
       "    .dataframe tbody tr th:only-of-type {\n",
       "        vertical-align: middle;\n",
       "    }\n",
       "\n",
       "    .dataframe tbody tr th {\n",
       "        vertical-align: top;\n",
       "    }\n",
       "\n",
       "    .dataframe thead th {\n",
       "        text-align: right;\n",
       "    }\n",
       "</style>\n",
       "<table border=\"1\" class=\"dataframe\">\n",
       "  <thead>\n",
       "    <tr style=\"text-align: right;\">\n",
       "      <th></th>\n",
       "      <th>well</th>\n",
       "      <th>cell</th>\n",
       "      <th>well_size</th>\n",
       "      <th>time</th>\n",
       "      <th>Day</th>\n",
       "      <th>Intensity</th>\n",
       "      <th>Unnamed: 0</th>\n",
       "      <th>Unnamed: 0.1</th>\n",
       "      <th>a1</th>\n",
       "      <th>a1p</th>\n",
       "      <th>...</th>\n",
       "      <th>chi</th>\n",
       "      <th>g</th>\n",
       "      <th>i</th>\n",
       "      <th>itm</th>\n",
       "      <th>mask_size</th>\n",
       "      <th>phase</th>\n",
       "      <th>s</th>\n",
       "      <th>t1</th>\n",
       "      <th>t2</th>\n",
       "      <th>tm</th>\n",
       "    </tr>\n",
       "  </thead>\n",
       "  <tbody>\n",
       "    <tr>\n",
       "      <th>0</th>\n",
       "      <td>A</td>\n",
       "      <td>10A</td>\n",
       "      <td>12x</td>\n",
       "      <td>45.93</td>\n",
       "      <td>2.0</td>\n",
       "      <td>234.641748</td>\n",
       "      <td>257.000000</td>\n",
       "      <td>NaN</td>\n",
       "      <td>0.000602</td>\n",
       "      <td>73.379303</td>\n",
       "      <td>...</td>\n",
       "      <td>1.054992</td>\n",
       "      <td>0.721967</td>\n",
       "      <td>0.009106</td>\n",
       "      <td>2884.818862</td>\n",
       "      <td>25769.000000</td>\n",
       "      <td>6.378923</td>\n",
       "      <td>0.317635</td>\n",
       "      <td>630.655600</td>\n",
       "      <td>3919.929039</td>\n",
       "      <td>1495.033846</td>\n",
       "    </tr>\n",
       "    <tr>\n",
       "      <th>1</th>\n",
       "      <td>A</td>\n",
       "      <td>10A</td>\n",
       "      <td>12x</td>\n",
       "      <td>78.75</td>\n",
       "      <td>3.0</td>\n",
       "      <td>235.385496</td>\n",
       "      <td>261.500000</td>\n",
       "      <td>261.5</td>\n",
       "      <td>0.000301</td>\n",
       "      <td>75.692346</td>\n",
       "      <td>...</td>\n",
       "      <td>1.004442</td>\n",
       "      <td>0.789790</td>\n",
       "      <td>0.008975</td>\n",
       "      <td>2243.727609</td>\n",
       "      <td>26227.000000</td>\n",
       "      <td>6.667814</td>\n",
       "      <td>0.284257</td>\n",
       "      <td>489.645086</td>\n",
       "      <td>3138.115296</td>\n",
       "      <td>1112.269512</td>\n",
       "    </tr>\n",
       "    <tr>\n",
       "      <th>2</th>\n",
       "      <td>A</td>\n",
       "      <td>10A</td>\n",
       "      <td>12x</td>\n",
       "      <td>140.07</td>\n",
       "      <td>4.0</td>\n",
       "      <td>223.515964</td>\n",
       "      <td>195.687101</td>\n",
       "      <td>NaN</td>\n",
       "      <td>0.000284</td>\n",
       "      <td>74.599270</td>\n",
       "      <td>...</td>\n",
       "      <td>0.990939</td>\n",
       "      <td>0.786482</td>\n",
       "      <td>0.011406</td>\n",
       "      <td>2259.377670</td>\n",
       "      <td>19632.280971</td>\n",
       "      <td>7.454756</td>\n",
       "      <td>0.276626</td>\n",
       "      <td>470.854711</td>\n",
       "      <td>3072.850390</td>\n",
       "      <td>1117.295966</td>\n",
       "    </tr>\n",
       "    <tr>\n",
       "      <th>3</th>\n",
       "      <td>A</td>\n",
       "      <td>10A</td>\n",
       "      <td>8x</td>\n",
       "      <td>45.93</td>\n",
       "      <td>2.0</td>\n",
       "      <td>42.090183</td>\n",
       "      <td>81.002283</td>\n",
       "      <td>NaN</td>\n",
       "      <td>0.000100</td>\n",
       "      <td>71.134897</td>\n",
       "      <td>...</td>\n",
       "      <td>1.008940</td>\n",
       "      <td>0.765043</td>\n",
       "      <td>0.006110</td>\n",
       "      <td>2421.085877</td>\n",
       "      <td>8179.196347</td>\n",
       "      <td>5.747241</td>\n",
       "      <td>0.316864</td>\n",
       "      <td>647.034153</td>\n",
       "      <td>3261.881226</td>\n",
       "      <td>1345.669199</td>\n",
       "    </tr>\n",
       "    <tr>\n",
       "      <th>4</th>\n",
       "      <td>A</td>\n",
       "      <td>10A</td>\n",
       "      <td>8x</td>\n",
       "      <td>78.75</td>\n",
       "      <td>3.0</td>\n",
       "      <td>55.518581</td>\n",
       "      <td>147.500000</td>\n",
       "      <td>147.5</td>\n",
       "      <td>0.000041</td>\n",
       "      <td>63.378021</td>\n",
       "      <td>...</td>\n",
       "      <td>1.095978</td>\n",
       "      <td>0.812529</td>\n",
       "      <td>0.003748</td>\n",
       "      <td>1281.843372</td>\n",
       "      <td>14811.000000</td>\n",
       "      <td>3.292023</td>\n",
       "      <td>0.346463</td>\n",
       "      <td>693.913302</td>\n",
       "      <td>1817.248919</td>\n",
       "      <td>999.433319</td>\n",
       "    </tr>\n",
       "  </tbody>\n",
       "</table>\n",
       "<p>5 rows × 23 columns</p>\n",
       "</div>"
      ],
      "text/plain": [
       "  well cell well_size    time  Day   Intensity  Unnamed: 0  Unnamed: 0.1  \\\n",
       "0    A  10A       12x   45.93  2.0  234.641748  257.000000           NaN   \n",
       "1    A  10A       12x   78.75  3.0  235.385496  261.500000         261.5   \n",
       "2    A  10A       12x  140.07  4.0  223.515964  195.687101           NaN   \n",
       "3    A  10A        8x   45.93  2.0   42.090183   81.002283           NaN   \n",
       "4    A  10A        8x   78.75  3.0   55.518581  147.500000         147.5   \n",
       "\n",
       "         a1        a1p     ...            chi         g         i  \\\n",
       "0  0.000602  73.379303     ...       1.054992  0.721967  0.009106   \n",
       "1  0.000301  75.692346     ...       1.004442  0.789790  0.008975   \n",
       "2  0.000284  74.599270     ...       0.990939  0.786482  0.011406   \n",
       "3  0.000100  71.134897     ...       1.008940  0.765043  0.006110   \n",
       "4  0.000041  63.378021     ...       1.095978  0.812529  0.003748   \n",
       "\n",
       "           itm     mask_size     phase         s          t1           t2  \\\n",
       "0  2884.818862  25769.000000  6.378923  0.317635  630.655600  3919.929039   \n",
       "1  2243.727609  26227.000000  6.667814  0.284257  489.645086  3138.115296   \n",
       "2  2259.377670  19632.280971  7.454756  0.276626  470.854711  3072.850390   \n",
       "3  2421.085877   8179.196347  5.747241  0.316864  647.034153  3261.881226   \n",
       "4  1281.843372  14811.000000  3.292023  0.346463  693.913302  1817.248919   \n",
       "\n",
       "            tm  \n",
       "0  1495.033846  \n",
       "1  1112.269512  \n",
       "2  1117.295966  \n",
       "3  1345.669199  \n",
       "4   999.433319  \n",
       "\n",
       "[5 rows x 23 columns]"
      ]
     },
     "execution_count": 459,
     "metadata": {},
     "output_type": "execute_result"
    }
   ],
   "source": [
    "dfa.head()"
   ]
  },
  {
   "cell_type": "code",
   "execution_count": 173,
   "metadata": {},
   "outputs": [],
   "source": [
    "dfaa=dfaa.sort_values(by=['well','cell'])\n",
    "dfaa.reset_index(inplace=True)\n",
    "#del dfaa['level_0']\n",
    "#del dfaa['index']"
   ]
  },
  {
   "cell_type": "code",
   "execution_count": 174,
   "metadata": {},
   "outputs": [
    {
     "data": {
      "text/html": [
       "<div>\n",
       "<style scoped>\n",
       "    .dataframe tbody tr th:only-of-type {\n",
       "        vertical-align: middle;\n",
       "    }\n",
       "\n",
       "    .dataframe tbody tr th {\n",
       "        vertical-align: top;\n",
       "    }\n",
       "\n",
       "    .dataframe thead th {\n",
       "        text-align: right;\n",
       "    }\n",
       "</style>\n",
       "<table border=\"1\" class=\"dataframe\">\n",
       "  <thead>\n",
       "    <tr style=\"text-align: right;\">\n",
       "      <th></th>\n",
       "      <th>cell</th>\n",
       "      <th>well</th>\n",
       "      <th>mean</th>\n",
       "      <th>std</th>\n",
       "    </tr>\n",
       "  </thead>\n",
       "  <tbody>\n",
       "    <tr>\n",
       "      <th>0</th>\n",
       "      <td>10A</td>\n",
       "      <td>A</td>\n",
       "      <td>0.859091</td>\n",
       "      <td>0.153686</td>\n",
       "    </tr>\n",
       "    <tr>\n",
       "      <th>1</th>\n",
       "      <td>CA1D</td>\n",
       "      <td>A</td>\n",
       "      <td>0.302556</td>\n",
       "      <td>0.054412</td>\n",
       "    </tr>\n",
       "    <tr>\n",
       "      <th>2</th>\n",
       "      <td>HPV</td>\n",
       "      <td>A</td>\n",
       "      <td>0.958400</td>\n",
       "      <td>0.080074</td>\n",
       "    </tr>\n",
       "    <tr>\n",
       "      <th>3</th>\n",
       "      <td>PANC</td>\n",
       "      <td>A</td>\n",
       "      <td>0.893800</td>\n",
       "      <td>0.063674</td>\n",
       "    </tr>\n",
       "    <tr>\n",
       "      <th>4</th>\n",
       "      <td>10A</td>\n",
       "      <td>B</td>\n",
       "      <td>0.905643</td>\n",
       "      <td>0.090807</td>\n",
       "    </tr>\n",
       "  </tbody>\n",
       "</table>\n",
       "</div>"
      ],
      "text/plain": [
       "   cell well      mean       std\n",
       "0   10A    A  0.859091  0.153686\n",
       "1  CA1D    A  0.302556  0.054412\n",
       "2   HPV    A  0.958400  0.080074\n",
       "3  PANC    A  0.893800  0.063674\n",
       "4   10A    B  0.905643  0.090807"
      ]
     },
     "execution_count": 174,
     "metadata": {},
     "output_type": "execute_result"
    }
   ],
   "source": [
    "dfaa.head()"
   ]
  },
  {
   "cell_type": "code",
   "execution_count": 202,
   "metadata": {},
   "outputs": [],
   "source": [
    "dfa['conf']=dfaa['mean']*100\n",
    "dfa['conf']=dfa['conf'].astype(int)\n",
    "dfa['conf_std']=dfaa['std']*100\n",
    "dfa['conf_std']=dfa['conf_std'].astype(int)"
   ]
  },
  {
   "cell_type": "code",
   "execution_count": null,
   "metadata": {},
   "outputs": [],
   "source": []
  },
  {
   "cell_type": "code",
   "execution_count": 216,
   "metadata": {},
   "outputs": [
    {
     "data": {
      "text/plain": [
       "<seaborn.axisgrid.FacetGrid at 0x6cc8d400>"
      ]
     },
     "execution_count": 216,
     "metadata": {},
     "output_type": "execute_result"
    }
   ],
   "source": [
    "sns.lmplot('conf','tm',hue='Well',\n",
    "           col='cell',\n",
    "           data=dfa,\n",
    "           palette=sns.dark_palette(\"purple\"),fit_reg=False)"
   ]
  },
  {
   "cell_type": "code",
   "execution_count": 219,
   "metadata": {},
   "outputs": [],
   "source": [
    "dfa['conf']=dfaa['mean']*4\n",
    "dfa['conf']=dfa['conf'].astype(int)\n",
    "dfa['conf']=dfa['conf']*25\n",
    "\n",
    "g = sns.factorplot(x=\"conf\", y=\"tm\",\n",
    "                   hue='cell',\n",
    "                   data=dfa,\n",
    "                   kind=\"point\")"
   ]
  },
  {
   "cell_type": "code",
   "execution_count": 201,
   "metadata": {},
   "outputs": [
    {
     "data": {
      "text/plain": [
       "<matplotlib.axes._subplots.AxesSubplot at 0x6cc100b8>"
      ]
     },
     "execution_count": 201,
     "metadata": {},
     "output_type": "execute_result"
    }
   ],
   "source": [
    "sns.boxplot(x='cell',y='tm',data=dfa)"
   ]
  },
  {
   "cell_type": "code",
   "execution_count": 209,
   "metadata": {},
   "outputs": [],
   "source": [
    "dfa.to_excel('20180520_sorted_out.xls')"
   ]
  },
  {
   "cell_type": "code",
   "execution_count": null,
   "metadata": {},
   "outputs": [],
   "source": []
  },
  {
   "cell_type": "code",
   "execution_count": null,
   "metadata": {},
   "outputs": [],
   "source": []
  },
  {
   "cell_type": "code",
   "execution_count": 518,
   "metadata": {},
   "outputs": [],
   "source": [
    "os.chdir(r'D:\\JenuChacko\\20180517_conf')\n",
    "df_18may=pd.read_csv('data.csv')"
   ]
  },
  {
   "cell_type": "code",
   "execution_count": 519,
   "metadata": {},
   "outputs": [
    {
     "data": {
      "text/plain": [
       "(array([  45.93,   78.75,  140.07]),\n",
       " array([2, 3, 4], dtype=int64),\n",
       " array(['A', 'B', 'C', 'F', 'D', 'E', 'G', 'H', 'I', 'J', 'K', 'L'], dtype=object))"
      ]
     },
     "execution_count": 519,
     "metadata": {},
     "output_type": "execute_result"
    }
   ],
   "source": [
    "df_18may.time.unique(),df_18may.Day.unique(),df_18may.well.unique()\n"
   ]
  },
  {
   "cell_type": "code",
   "execution_count": 520,
   "metadata": {},
   "outputs": [],
   "source": [
    "dfB=df_18may.loc[(df_18may.well_size=='12x')&(df_18may.Day!=2)]\n",
    "dfb=dfB.groupby(['well','cell','Day','well_size']).mean()\n",
    "dfb.reset_index(inplace=True)"
   ]
  },
  {
   "cell_type": "code",
   "execution_count": 521,
   "metadata": {},
   "outputs": [
    {
     "data": {
      "text/plain": [
       "(48, 22)"
      ]
     },
     "execution_count": 521,
     "metadata": {},
     "output_type": "execute_result"
    }
   ],
   "source": [
    "dfb.shape"
   ]
  },
  {
   "cell_type": "code",
   "execution_count": 522,
   "metadata": {},
   "outputs": [],
   "source": [
    "os.chdir(r'D:\\JenuChacko\\20180511_\\BRIGHTFIELD')\n",
    "dfbb=pd.read_excel('data_output.xlsx')"
   ]
  },
  {
   "cell_type": "code",
   "execution_count": 523,
   "metadata": {},
   "outputs": [
    {
     "data": {
      "text/plain": [
       "Index([u'time', u'well', u'cell', u'wellsize', u'mean'], dtype='object')"
      ]
     },
     "execution_count": 523,
     "metadata": {},
     "output_type": "execute_result"
    }
   ],
   "source": [
    "dfbb.columns"
   ]
  },
  {
   "cell_type": "code",
   "execution_count": 524,
   "metadata": {},
   "outputs": [
    {
     "data": {
      "text/plain": [
       "array([u'D1', u'D2', u'D3', u'D4', u'D5', u'D4_wash'], dtype=object)"
      ]
     },
     "execution_count": 524,
     "metadata": {},
     "output_type": "execute_result"
    }
   ],
   "source": [
    "dfbb.time.unique()"
   ]
  },
  {
   "cell_type": "code",
   "execution_count": 525,
   "metadata": {},
   "outputs": [
    {
     "data": {
      "text/plain": [
       "array([u'10A', '231'], dtype=object)"
      ]
     },
     "execution_count": 525,
     "metadata": {},
     "output_type": "execute_result"
    }
   ],
   "source": [
    "c=[]\n",
    "for i in dfbb.cell:\n",
    "    if i==231:\n",
    "        c.append('231')\n",
    "    else:\n",
    "        c.append(i)\n",
    "dfbb['cell']=c\n",
    "\n",
    "dfbb.cell.unique()"
   ]
  },
  {
   "cell_type": "code",
   "execution_count": 529,
   "metadata": {},
   "outputs": [],
   "source": [
    "dfbb['conf']=dfbb['mean']*100\n",
    "dfbb['conf']=dfbb['conf'].astype(int)\n",
    "#dfbb['conf']=dfbb['conf']*25\n",
    "\n",
    "g = sns.factorplot(x=\"well\", y=\"conf\",\n",
    "                   hue='cell',col='wellsize',\n",
    "                   row='time',\n",
    "                   data=dfbb,\n",
    "                   kind=\"point\")"
   ]
  },
  {
   "cell_type": "code",
   "execution_count": 255,
   "metadata": {},
   "outputs": [
    {
     "data": {
      "text/plain": [
       "<seaborn.axisgrid.FacetGrid at 0x5cc26d30>"
      ]
     },
     "execution_count": 255,
     "metadata": {},
     "output_type": "execute_result"
    }
   ],
   "source": [
    "# PBS WASH on 12 WELL\n",
    "\n",
    "sns.factorplot(x=\"well\", y=\"conf\",\n",
    "                   hue='cell',col='time',\n",
    "                   data=dfbb.loc[(dfbb.wellsize=='12x')&((dfbb.time=='D4_wash')|(dfbb.time=='D4'))],\n",
    "                   kind=\"point\")"
   ]
  },
  {
   "cell_type": "code",
   "execution_count": 272,
   "metadata": {},
   "outputs": [],
   "source": [
    "dfbb2=dfbb.loc[((dfbb.time=='D3')|(dfbb.time=='D4'))&(dfbb.wellsize=='12x')]\n",
    "dfbb2.reset_index(inplace=True)\n",
    "dfbb2=dfbb2.rename(columns={'time': 'Day'})"
   ]
  },
  {
   "cell_type": "code",
   "execution_count": 412,
   "metadata": {},
   "outputs": [
    {
     "data": {
      "text/html": [
       "<div>\n",
       "<style scoped>\n",
       "    .dataframe tbody tr th:only-of-type {\n",
       "        vertical-align: middle;\n",
       "    }\n",
       "\n",
       "    .dataframe tbody tr th {\n",
       "        vertical-align: top;\n",
       "    }\n",
       "\n",
       "    .dataframe thead th {\n",
       "        text-align: right;\n",
       "    }\n",
       "</style>\n",
       "<table border=\"1\" class=\"dataframe\">\n",
       "  <thead>\n",
       "    <tr style=\"text-align: right;\">\n",
       "      <th></th>\n",
       "      <th>well</th>\n",
       "      <th>cell</th>\n",
       "      <th>Day</th>\n",
       "      <th>well_size</th>\n",
       "      <th>Unnamed: 0</th>\n",
       "      <th>Intensity</th>\n",
       "      <th>Unnamed: 0.1</th>\n",
       "      <th>Unnamed: 0.1.1</th>\n",
       "      <th>a1</th>\n",
       "      <th>a1p</th>\n",
       "      <th>...</th>\n",
       "      <th>g</th>\n",
       "      <th>i</th>\n",
       "      <th>itm</th>\n",
       "      <th>mask_size</th>\n",
       "      <th>phase</th>\n",
       "      <th>s</th>\n",
       "      <th>t1</th>\n",
       "      <th>t2</th>\n",
       "      <th>time</th>\n",
       "      <th>tm</th>\n",
       "    </tr>\n",
       "  </thead>\n",
       "  <tbody>\n",
       "    <tr>\n",
       "      <th>0</th>\n",
       "      <td>A</td>\n",
       "      <td>10A</td>\n",
       "      <td>3</td>\n",
       "      <td>12x</td>\n",
       "      <td>261.5</td>\n",
       "      <td>235.385496</td>\n",
       "      <td>261.500000</td>\n",
       "      <td>261.5</td>\n",
       "      <td>0.000301</td>\n",
       "      <td>75.692346</td>\n",
       "      <td>...</td>\n",
       "      <td>0.789790</td>\n",
       "      <td>NaN</td>\n",
       "      <td>2243.727609</td>\n",
       "      <td>26227.000000</td>\n",
       "      <td>6.667814</td>\n",
       "      <td>0.284257</td>\n",
       "      <td>489.645086</td>\n",
       "      <td>3138.115296</td>\n",
       "      <td>78.75</td>\n",
       "      <td>1112.269512</td>\n",
       "    </tr>\n",
       "    <tr>\n",
       "      <th>1</th>\n",
       "      <td>A</td>\n",
       "      <td>10A</td>\n",
       "      <td>4</td>\n",
       "      <td>12x</td>\n",
       "      <td>391.0</td>\n",
       "      <td>223.515964</td>\n",
       "      <td>195.687101</td>\n",
       "      <td>NaN</td>\n",
       "      <td>0.000284</td>\n",
       "      <td>74.599270</td>\n",
       "      <td>...</td>\n",
       "      <td>0.786482</td>\n",
       "      <td>NaN</td>\n",
       "      <td>2259.377670</td>\n",
       "      <td>19632.280971</td>\n",
       "      <td>7.454756</td>\n",
       "      <td>0.276626</td>\n",
       "      <td>470.854711</td>\n",
       "      <td>3072.850390</td>\n",
       "      <td>140.07</td>\n",
       "      <td>1117.295966</td>\n",
       "    </tr>\n",
       "    <tr>\n",
       "      <th>2</th>\n",
       "      <td>A</td>\n",
       "      <td>231</td>\n",
       "      <td>3</td>\n",
       "      <td>12x</td>\n",
       "      <td>4195.5</td>\n",
       "      <td>280.236650</td>\n",
       "      <td>205.500000</td>\n",
       "      <td>205.5</td>\n",
       "      <td>0.000439</td>\n",
       "      <td>77.695104</td>\n",
       "      <td>...</td>\n",
       "      <td>0.816208</td>\n",
       "      <td>0.013572</td>\n",
       "      <td>1839.307484</td>\n",
       "      <td>20648.000000</td>\n",
       "      <td>5.994659</td>\n",
       "      <td>0.279761</td>\n",
       "      <td>473.772624</td>\n",
       "      <td>2714.994539</td>\n",
       "      <td>78.75</td>\n",
       "      <td>955.436525</td>\n",
       "    </tr>\n",
       "    <tr>\n",
       "      <th>3</th>\n",
       "      <td>A</td>\n",
       "      <td>231</td>\n",
       "      <td>4</td>\n",
       "      <td>12x</td>\n",
       "      <td>476.5</td>\n",
       "      <td>251.778302</td>\n",
       "      <td>238.004193</td>\n",
       "      <td>NaN</td>\n",
       "      <td>0.000552</td>\n",
       "      <td>81.565793</td>\n",
       "      <td>...</td>\n",
       "      <td>0.882272</td>\n",
       "      <td>NaN</td>\n",
       "      <td>1300.799741</td>\n",
       "      <td>23863.436059</td>\n",
       "      <td>6.417800</td>\n",
       "      <td>0.224885</td>\n",
       "      <td>344.310500</td>\n",
       "      <td>2017.374654</td>\n",
       "      <td>140.07</td>\n",
       "      <td>650.271372</td>\n",
       "    </tr>\n",
       "    <tr>\n",
       "      <th>4</th>\n",
       "      <td>B</td>\n",
       "      <td>10A</td>\n",
       "      <td>3</td>\n",
       "      <td>12x</td>\n",
       "      <td>817.0</td>\n",
       "      <td>270.627768</td>\n",
       "      <td>817.000000</td>\n",
       "      <td>293.0</td>\n",
       "      <td>0.000364</td>\n",
       "      <td>76.026407</td>\n",
       "      <td>...</td>\n",
       "      <td>0.792500</td>\n",
       "      <td>NaN</td>\n",
       "      <td>2121.717434</td>\n",
       "      <td>29397.000000</td>\n",
       "      <td>6.207507</td>\n",
       "      <td>0.289280</td>\n",
       "      <td>499.238681</td>\n",
       "      <td>3018.218135</td>\n",
       "      <td>78.75</td>\n",
       "      <td>1083.279465</td>\n",
       "    </tr>\n",
       "  </tbody>\n",
       "</table>\n",
       "<p>5 rows × 24 columns</p>\n",
       "</div>"
      ],
      "text/plain": [
       "  well cell  Day well_size  Unnamed: 0   Intensity  Unnamed: 0.1  \\\n",
       "0    A  10A    3       12x       261.5  235.385496    261.500000   \n",
       "1    A  10A    4       12x       391.0  223.515964    195.687101   \n",
       "2    A  231    3       12x      4195.5  280.236650    205.500000   \n",
       "3    A  231    4       12x       476.5  251.778302    238.004193   \n",
       "4    B  10A    3       12x       817.0  270.627768    817.000000   \n",
       "\n",
       "   Unnamed: 0.1.1        a1        a1p     ...              g         i  \\\n",
       "0           261.5  0.000301  75.692346     ...       0.789790       NaN   \n",
       "1             NaN  0.000284  74.599270     ...       0.786482       NaN   \n",
       "2           205.5  0.000439  77.695104     ...       0.816208  0.013572   \n",
       "3             NaN  0.000552  81.565793     ...       0.882272       NaN   \n",
       "4           293.0  0.000364  76.026407     ...       0.792500       NaN   \n",
       "\n",
       "           itm     mask_size     phase         s          t1           t2  \\\n",
       "0  2243.727609  26227.000000  6.667814  0.284257  489.645086  3138.115296   \n",
       "1  2259.377670  19632.280971  7.454756  0.276626  470.854711  3072.850390   \n",
       "2  1839.307484  20648.000000  5.994659  0.279761  473.772624  2714.994539   \n",
       "3  1300.799741  23863.436059  6.417800  0.224885  344.310500  2017.374654   \n",
       "4  2121.717434  29397.000000  6.207507  0.289280  499.238681  3018.218135   \n",
       "\n",
       "     time           tm  \n",
       "0   78.75  1112.269512  \n",
       "1  140.07  1117.295966  \n",
       "2   78.75   955.436525  \n",
       "3  140.07   650.271372  \n",
       "4   78.75  1083.279465  \n",
       "\n",
       "[5 rows x 24 columns]"
      ]
     },
     "execution_count": 412,
     "metadata": {},
     "output_type": "execute_result"
    }
   ],
   "source": [
    "dfb.head()"
   ]
  },
  {
   "cell_type": "code",
   "execution_count": 293,
   "metadata": {},
   "outputs": [],
   "source": [
    "del[dfbb2['index']]"
   ]
  },
  {
   "cell_type": "code",
   "execution_count": 294,
   "metadata": {},
   "outputs": [],
   "source": [
    "dfbb2.sort_values(by=['well','cell','Day','wellsize'],inplace=True)\n",
    "dfbb2.reset_index(inplace=True)\n",
    "dfbb2.head()\n",
    "del[dfbb2['index']]"
   ]
  },
  {
   "cell_type": "code",
   "execution_count": 411,
   "metadata": {},
   "outputs": [
    {
     "data": {
      "text/plain": [
       "((48, 6), (48, 24))"
      ]
     },
     "execution_count": 411,
     "metadata": {},
     "output_type": "execute_result"
    }
   ],
   "source": [
    "dfbb2.shape,dfb.shape"
   ]
  },
  {
   "cell_type": "code",
   "execution_count": 465,
   "metadata": {},
   "outputs": [
    {
     "data": {
      "text/plain": [
       "array(['10A', '231'], dtype=object)"
      ]
     },
     "execution_count": 465,
     "metadata": {},
     "output_type": "execute_result"
    }
   ],
   "source": [
    "dfb.cell.unique()"
   ]
  },
  {
   "cell_type": "code",
   "execution_count": 284,
   "metadata": {},
   "outputs": [],
   "source": [
    "#dfb.head(),dfbb2.head()"
   ]
  },
  {
   "cell_type": "code",
   "execution_count": 530,
   "metadata": {},
   "outputs": [
    {
     "name": "stdout",
     "output_type": "stream",
     "text": [
      "A A\n",
      "A A\n",
      "A A\n",
      "A A\n",
      "B B\n",
      "B B\n",
      "B B\n",
      "B B\n",
      "C C\n",
      "C C\n",
      "C C\n",
      "C C\n",
      "D D\n",
      "D D\n",
      "D D\n",
      "D D\n",
      "E E\n",
      "E E\n",
      "E E\n",
      "E E\n",
      "F F\n",
      "F F\n",
      "F F\n",
      "F F\n",
      "G G\n",
      "G G\n",
      "G G\n",
      "G G\n",
      "H H\n",
      "H H\n",
      "H H\n",
      "H H\n",
      "I I\n",
      "I I\n",
      "I I\n",
      "I I\n",
      "J J\n",
      "J J\n",
      "J J\n",
      "J J\n",
      "K K\n",
      "K K\n",
      "K K\n",
      "K K\n",
      "L L\n",
      "L L\n",
      "L L\n",
      "L L\n"
     ]
    }
   ],
   "source": [
    "for i in range(48):\n",
    "    print dfb.well[i],dfbb2.well[i]"
   ]
  },
  {
   "cell_type": "code",
   "execution_count": 533,
   "metadata": {},
   "outputs": [],
   "source": [
    "#dfb['mean']=dfbb2['mean']\n",
    "dfb['conf']=dfbb2['mean']"
   ]
  },
  {
   "cell_type": "code",
   "execution_count": 531,
   "metadata": {},
   "outputs": [],
   "source": [
    "dfb.to_excel('data_synced_with_conf.xls')"
   ]
  },
  {
   "cell_type": "code",
   "execution_count": 535,
   "metadata": {},
   "outputs": [],
   "source": [
    "dfb['mean']=dfbb2['mean']"
   ]
  },
  {
   "cell_type": "code",
   "execution_count": null,
   "metadata": {},
   "outputs": [],
   "source": []
  },
  {
   "cell_type": "code",
   "execution_count": 347,
   "metadata": {},
   "outputs": [],
   "source": [
    "#dfb.iloc[14,5:14+5]=dfb.iloc[15,5:14+5]\n",
    "#dfb.iloc[14,-3]=dfb.iloc[15,-3]\n",
    "#dfb.iloc[14]"
   ]
  },
  {
   "cell_type": "code",
   "execution_count": 540,
   "metadata": {},
   "outputs": [],
   "source": [
    "\n",
    "section=10\n",
    "dfb['conf']=dfb['mean']*section\n",
    "dfb['conf']=dfb['conf'].astype(int)\n",
    "dfb['conf']=dfb['conf']*(100//section)\n",
    "\n",
    "g = sns.factorplot(x=\"well\", y=\"tm\",\n",
    "                   hue='cell',col='Day',\n",
    "                   data=df,\n",
    "                   kind=\"point\")"
   ]
  },
  {
   "cell_type": "code",
   "execution_count": null,
   "metadata": {},
   "outputs": [],
   "source": []
  },
  {
   "cell_type": "code",
   "execution_count": null,
   "metadata": {},
   "outputs": [],
   "source": []
  },
  {
   "cell_type": "code",
   "execution_count": null,
   "metadata": {},
   "outputs": [],
   "source": []
  },
  {
   "cell_type": "code",
   "execution_count": null,
   "metadata": {},
   "outputs": [],
   "source": []
  },
  {
   "cell_type": "code",
   "execution_count": null,
   "metadata": {},
   "outputs": [],
   "source": []
  },
  {
   "cell_type": "code",
   "execution_count": null,
   "metadata": {},
   "outputs": [],
   "source": []
  },
  {
   "cell_type": "code",
   "execution_count": null,
   "metadata": {},
   "outputs": [],
   "source": []
  },
  {
   "cell_type": "markdown",
   "metadata": {},
   "source": [
    "### Fixing the missing D-230 from day 3 "
   ]
  },
  {
   "cell_type": "code",
   "execution_count": 373,
   "metadata": {},
   "outputs": [
    {
     "data": {
      "text/plain": [
       "<matplotlib.image.AxesImage at 0x6cb5d518>"
      ]
     },
     "execution_count": 373,
     "metadata": {},
     "output_type": "execute_result"
    }
   ],
   "source": [
    "a1=sa.spc_ascii(r'D:\\JenuChacko\\20180514\\12well\\231\\231_well_D_photons.asc')\n",
    "imshow(a1.arr.photons)\n",
    "figure()\n",
    "a2=sa.spc_ascii(r'D:\\JenuChacko\\20180514\\12well\\231\\231_well_E_photons.asc')\n",
    "imshow(a2.arr.photons)"
   ]
  },
  {
   "cell_type": "code",
   "execution_count": 375,
   "metadata": {},
   "outputs": [],
   "source": [
    "hist(a1.arr.photons[a1.arr.photons>a1.arr.photons.mean()],100);\n",
    "hist(a2.arr.photons[a2.arr.photons>a2.arr.photons.mean()],100);\n",
    "yscale('log')"
   ]
  },
  {
   "cell_type": "code",
   "execution_count": 376,
   "metadata": {},
   "outputs": [],
   "source": [
    "hist(a1.arr.tm[a1.arr.photons>a1.arr.photons.mean()],100);\n",
    "hist(a2.arr.tm[a2.arr.photons>a2.arr.photons.mean()],100);\n",
    "yscale('log')"
   ]
  },
  {
   "cell_type": "code",
   "execution_count": 380,
   "metadata": {},
   "outputs": [
    {
     "data": {
      "text/plain": [
       "array([4662], dtype=int64)"
      ]
     },
     "execution_count": 380,
     "metadata": {},
     "output_type": "execute_result"
    }
   ],
   "source": [
    "dfsp_a1=a2.generate_df()\n",
    "dfsp_a1['mask_size'].unique()"
   ]
  },
  {
   "cell_type": "code",
   "execution_count": 382,
   "metadata": {},
   "outputs": [
    {
     "name": "stdout",
     "output_type": "stream",
     "text": [
      "D:\\JenuChacko\\20180514\\12well\\231\\231_well_D_photons.asc not enough points\n"
     ]
    },
    {
     "data": {
      "text/plain": [
       "array([2], dtype=int64)"
      ]
     },
     "execution_count": 382,
     "metadata": {},
     "output_type": "execute_result"
    }
   ],
   "source": [
    "dfsp_a1=a1.generate_df()\n",
    "dfsp_a1['mask_size'].unique()"
   ]
  },
  {
   "cell_type": "code",
   "execution_count": null,
   "metadata": {},
   "outputs": [],
   "source": []
  },
  {
   "cell_type": "code",
   "execution_count": null,
   "metadata": {},
   "outputs": [],
   "source": []
  },
  {
   "cell_type": "code",
   "execution_count": null,
   "metadata": {},
   "outputs": [],
   "source": []
  },
  {
   "cell_type": "code",
   "execution_count": null,
   "metadata": {},
   "outputs": [],
   "source": []
  },
  {
   "cell_type": "code",
   "execution_count": null,
   "metadata": {},
   "outputs": [],
   "source": []
  },
  {
   "cell_type": "markdown",
   "metadata": {},
   "source": [
    "## HETERO -MB231"
   ]
  },
  {
   "cell_type": "code",
   "execution_count": 392,
   "metadata": {},
   "outputs": [
    {
     "name": "stdout",
     "output_type": "stream",
     "text": [
      "hetero_photons.asc\n",
      "long__photons.asc\n",
      "regular_dvign_photons.asc\n",
      "spread___photons.asc\n",
      "very_spread_photons.asc\n"
     ]
    }
   ],
   "source": [
    "f1=r'D:\\JenuChacko\\20180517_conf\\231_hetero'\n",
    "os.chdir(f1)\n",
    "file_list=glob.glob('*photons.asc')\n",
    "for i in file_list:\n",
    "    print i"
   ]
  },
  {
   "cell_type": "code",
   "execution_count": 410,
   "metadata": {},
   "outputs": [
    {
     "name": "stdout",
     "output_type": "stream",
     "text": [
      "(210, 16)\n",
      "(376, 16)\n",
      "(599, 16)\n",
      "(754, 16)\n",
      "Wall time: 2.34 s\n"
     ]
    }
   ],
   "source": [
    "%%time \n",
    "\n",
    "for ix,i in enumerate(file_list[1:]):\n",
    "    \n",
    "    l1=sa.spc_ascii(i)\n",
    "    \n",
    "    if ix==0:\n",
    "        df1=l1.generate_df()\n",
    "    else:\n",
    "        df1=df1.append(l1.generate_df())\n",
    "    print df1.shape"
   ]
  },
  {
   "cell_type": "code",
   "execution_count": 411,
   "metadata": {},
   "outputs": [
    {
     "data": {
      "text/plain": [
       "(754, 16)"
      ]
     },
     "execution_count": 411,
     "metadata": {},
     "output_type": "execute_result"
    }
   ],
   "source": [
    "df1.shape"
   ]
  },
  {
   "cell_type": "code",
   "execution_count": 413,
   "metadata": {},
   "outputs": [
    {
     "data": {
      "text/plain": [
       "Index([u'Intensity', u'a1', u'a1p', u'a1w', u'a2', u'a2p', u'chi', u'fid',\n",
       "       u'g', u'itm', u'mask_size', u'phase', u's', u't1', u't2', u'tm'],\n",
       "      dtype='object')"
      ]
     },
     "execution_count": 413,
     "metadata": {},
     "output_type": "execute_result"
    }
   ],
   "source": [
    "df1.columns"
   ]
  },
  {
   "cell_type": "code",
   "execution_count": 420,
   "metadata": {},
   "outputs": [],
   "source": [
    "for i in df1.fid.unique():\n",
    "    sns.distplot(df1.loc[df1.fid==i]['tm'],100,hist=False,label=i)\n"
   ]
  },
  {
   "cell_type": "code",
   "execution_count": 417,
   "metadata": {},
   "outputs": [
    {
     "data": {
      "text/plain": [
       "<matplotlib.axes._subplots.AxesSubplot at 0x517a17b8>"
      ]
     },
     "execution_count": 417,
     "metadata": {},
     "output_type": "execute_result"
    }
   ],
   "source": [
    "sns.boxplot(x='fid',y='tm',data=df1)"
   ]
  },
  {
   "cell_type": "code",
   "execution_count": 400,
   "metadata": {},
   "outputs": [
    {
     "data": {
      "text/plain": [
       "<matplotlib.axes._subplots.AxesSubplot at 0x50fd7860>"
      ]
     },
     "execution_count": 400,
     "metadata": {},
     "output_type": "execute_result"
    }
   ],
   "source": [
    "sns.distplot(l1_df.Intensity)"
   ]
  },
  {
   "cell_type": "code",
   "execution_count": null,
   "metadata": {},
   "outputs": [],
   "source": []
  },
  {
   "cell_type": "code",
   "execution_count": null,
   "metadata": {},
   "outputs": [],
   "source": []
  },
  {
   "cell_type": "code",
   "execution_count": 38,
   "metadata": {},
   "outputs": [],
   "source": [
    "#https://stackoverflow.com/questions/43770507/seaborn-bar-plot-ordering\n",
    "dicti=({'37':99943,'25':47228,'36':16933,'40':14996,'35':11791,'34':8030,'24' : 6319 ,'2'  :5055 ,'39' :4758 ,'38' :4611  })\n",
    "pd_df = pd.DataFrame(list(dicti.iteritems()))\n",
    "pd_df.columns =[\"Dim\",\"Count\"]\n",
    "plt.figure(figsize=(12,8))\n",
    "ax = sns.barplot(x=\"Dim\", y= \"Count\",data=pd_df )\n",
    "ax.get_yaxis().set_major_formatter(plt.FuncFormatter(lambda x, loc: \"{:,}\".format(int(x))))\n",
    "ax.set(xlabel=\"Dim\", ylabel='Count')\n",
    "for item in ax.get_xticklabels():\n",
    "    item.set_rotation(90)\n",
    "for i, v in enumerate(pd_df[\"Count\"].iteritems()):        \n",
    "    ax.text(i ,v[1], \"{:,}\".format(v[1]), color='m', va ='bottom', \n",
    "    rotation=45)\n",
    "plt.tight_layout()"
   ]
  },
  {
   "cell_type": "code",
   "execution_count": null,
   "metadata": {},
   "outputs": [],
   "source": []
  }
 ],
 "metadata": {
  "kernelspec": {
   "display_name": "Python 2",
   "language": "python",
   "name": "python2"
  },
  "language_info": {
   "codemirror_mode": {
    "name": "ipython",
    "version": 2
   },
   "file_extension": ".py",
   "mimetype": "text/x-python",
   "name": "python",
   "nbconvert_exporter": "python",
   "pygments_lexer": "ipython2",
   "version": "2.7.14"
  }
 },
 "nbformat": 4,
 "nbformat_minor": 2
}
